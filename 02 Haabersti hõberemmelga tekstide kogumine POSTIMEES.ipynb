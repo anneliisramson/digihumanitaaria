{
 "cells": [
  {
   "cell_type": "markdown",
   "metadata": {},
   "source": [
    "# 02 Haabersti hõberemmelga tekstide kogumine Postimees "
   ]
  },
  {
   "cell_type": "code",
   "execution_count": 10,
   "metadata": {},
   "outputs": [],
   "source": [
    "import pandas as pd\n",
    "from tqdm import tqdm"
   ]
  },
  {
   "cell_type": "code",
   "execution_count": 1,
   "metadata": {},
   "outputs": [
    {
     "name": "stdout",
     "output_type": "stream",
     "text": [
      "Märksõnaga Haabersti hõberemmelgas leitud linke: 17\n"
     ]
    }
   ],
   "source": [
    "import requests\n",
    "from bs4 import BeautifulSoup\n",
    "\n",
    "#Märksõna Haabersti hõberemmelgas\n",
    "urls1 = ['https://www.postimees.ee/search?sections=81%2C127%2C296%2C674%2C517%2C123%2C2413%2C3371%2C2187%2C3447%2C124%2C3127%2C2325%2C313%2C855%2C2125%2C115%2C80%2C2993%2C2349%2C2329%2C384%2C246%2C383%2C382%2C381%2C380%2C4776%2C4777%2C2375%2C3013%2C556&query=Haabersti%20h%C3%B5beremmelgas&end=2022-03-30T14%3A29%3A25%2B03%3A00&fields=body%2Cauthors%2Cheadline',\n",
    "'https://www.postimees.ee/search?end=2022-03-30T14%3A29%3A25%2B03%3A00&query=Haabersti%20h%C3%B5beremmelgas&sections=81%2C127%2C296%2C674%2C517%2C123%2C2413%2C3371%2C2187%2C3447%2C124%2C3127%2C2325%2C313%2C855%2C2125%2C115%2C80%2C2993%2C2349%2C2329%2C384%2C246%2C383%2C382%2C381%2C380%2C4776%2C4777%2C2375%2C3013%2C556&fields=body%2Cauthors%2Cheadline&page=2',\n",
    "]\n",
    "links1 = []\n",
    "for url in urls1:\n",
    "    try:\n",
    "        page = requests.get(url)\n",
    "        soup = BeautifulSoup(page.content)\n",
    "\n",
    "        otsi = soup.find(\"div\",{\"class\" : \"structured-content__block\"})\n",
    "        otsing = otsi.findAll('article')\n",
    "        lingid = soup.findAll(\"div\",{\"class\" : \"structured-content__block\"})\n",
    "        for link in otsing:\n",
    "            l = link.find('a')['href']\n",
    "            #print(l)\n",
    "            links1.append(l)\n",
    "    except Exception as e:\n",
    "        print(\"Exception is :\", e, url)\n",
    "print(\"Märksõnaga \"\"Haabersti hõberemmelgas\"\" leitud linke: \" + str(len(links1)))"
   ]
  },
  {
   "cell_type": "code",
   "execution_count": 2,
   "metadata": {},
   "outputs": [
    {
     "name": "stdout",
     "output_type": "stream",
     "text": [
      "Märksõnaga Haabersti hõberemmelga leitud linke: 43\n"
     ]
    }
   ],
   "source": [
    "import requests\n",
    "from bs4 import BeautifulSoup\n",
    "\n",
    "\n",
    "#Märksõna Haabersti hõberemmelga\n",
    "urls2 = ['https://www.postimees.ee/search?sections=81%2C127%2C296%2C674%2C517%2C123%2C2413%2C3371%2C2187%2C3447%2C124%2C3127%2C2325%2C313%2C855%2C2125%2C115%2C80%2C2993%2C2349%2C2329%2C384%2C246%2C383%2C382%2C381%2C380%2C4776%2C4777%2C2375%2C3013%2C556&query=Haabersti%20h%C3%B5beremmelga&end=2022-03-30T13%3A40%3A34%2B03%3A00&fields=body%2Cauthors%2Cheadline',\n",
    "'https://www.postimees.ee/search?end=2022-03-30T13%3A40%3A34%2B03%3A00&query=Haabersti%20h%C3%B5beremmelga&sections=81%2C127%2C296%2C674%2C517%2C123%2C2413%2C3371%2C2187%2C3447%2C124%2C3127%2C2325%2C313%2C855%2C2125%2C115%2C80%2C2993%2C2349%2C2329%2C384%2C246%2C383%2C382%2C381%2C380%2C4776%2C4777%2C2375%2C3013%2C556&fields=body%2Cauthors%2Cheadline&page=2',\n",
    "'https://www.postimees.ee/search?end=2022-03-30T13%3A40%3A34%2B03%3A00&query=Haabersti%20h%C3%B5beremmelga&sections=81%2C127%2C296%2C674%2C517%2C123%2C2413%2C3371%2C2187%2C3447%2C124%2C3127%2C2325%2C313%2C855%2C2125%2C115%2C80%2C2993%2C2349%2C2329%2C384%2C246%2C383%2C382%2C381%2C380%2C4776%2C4777%2C2375%2C3013%2C556&fields=body%2Cauthors%2Cheadline&page=3',\n",
    "'https://www.postimees.ee/search?end=2022-03-30T13%3A40%3A34%2B03%3A00&query=Haabersti%20h%C3%B5beremmelga&sections=81%2C127%2C296%2C674%2C517%2C123%2C2413%2C3371%2C2187%2C3447%2C124%2C3127%2C2325%2C313%2C855%2C2125%2C115%2C80%2C2993%2C2349%2C2329%2C384%2C246%2C383%2C382%2C381%2C380%2C4776%2C4777%2C2375%2C3013%2C556&fields=body%2Cauthors%2Cheadline&page=4',\n",
    "'https://www.postimees.ee/search?end=2022-03-30T13%3A40%3A34%2B03%3A00&query=Haabersti%20h%C3%B5beremmelga&sections=81%2C127%2C296%2C674%2C517%2C123%2C2413%2C3371%2C2187%2C3447%2C124%2C3127%2C2325%2C313%2C855%2C2125%2C115%2C80%2C2993%2C2349%2C2329%2C384%2C246%2C383%2C382%2C381%2C380%2C4776%2C4777%2C2375%2C3013%2C556&fields=body%2Cauthors%2Cheadline&page=5',\n",
    "]\n",
    "links2 = []\n",
    "for url in urls2:\n",
    "    try:\n",
    "        page = requests.get(url)\n",
    "        soup = BeautifulSoup(page.content)\n",
    "\n",
    "        otsi = soup.find(\"div\",{\"class\" : \"structured-content__block\"})\n",
    "        otsing = otsi.findAll('article')\n",
    "        lingid = soup.findAll(\"div\",{\"class\" : \"structured-content__block\"})\n",
    "        for link in otsing:\n",
    "            l = link.find('a')['href']\n",
    "            #print(l)\n",
    "            links2.append(l)\n",
    "    except Exception as e:\n",
    "        print(\"Exception is :\", e, url)\n",
    "print(\"Märksõnaga \"\"Haabersti hõberemmelga\"\" leitud linke: \" + str(len(links2)))"
   ]
  },
  {
   "cell_type": "code",
   "execution_count": 3,
   "metadata": {},
   "outputs": [
    {
     "name": "stdout",
     "output_type": "stream",
     "text": [
      "Märksõnaga hõberemmelgas leitud linke: 78\n"
     ]
    }
   ],
   "source": [
    "import requests\n",
    "from bs4 import BeautifulSoup\n",
    "\n",
    "\n",
    "#Märksõna hõberemmelga\n",
    "urls3 = ['https://www.postimees.ee/search?end=2022-03-30T14%3A29%3A25%2B03%3A00&query=h%C3%B5beremmelga&sections=81%2C127%2C296%2C674%2C517%2C123%2C2413%2C3371%2C2187%2C3447%2C124%2C3127%2C2325%2C313%2C855%2C2125%2C115%2C80%2C2993%2C2349%2C2329%2C384%2C246%2C383%2C382%2C381%2C380%2C4776%2C4777%2C2375%2C3013%2C556&fields=body%2Cauthors%2Cheadline&page=1',\n",
    "         'https://www.postimees.ee/search?end=2022-03-30T14%3A29%3A25%2B03%3A00&query=h%C3%B5beremmelga&sections=81%2C127%2C296%2C674%2C517%2C123%2C2413%2C3371%2C2187%2C3447%2C124%2C3127%2C2325%2C313%2C855%2C2125%2C115%2C80%2C2993%2C2349%2C2329%2C384%2C246%2C383%2C382%2C381%2C380%2C4776%2C4777%2C2375%2C3013%2C556&fields=body%2Cauthors%2Cheadline&page=2',\n",
    "         'https://www.postimees.ee/search?end=2022-03-30T14%3A29%3A25%2B03%3A00&query=h%C3%B5beremmelga&sections=81%2C127%2C296%2C674%2C517%2C123%2C2413%2C3371%2C2187%2C3447%2C124%2C3127%2C2325%2C313%2C855%2C2125%2C115%2C80%2C2993%2C2349%2C2329%2C384%2C246%2C383%2C382%2C381%2C380%2C4776%2C4777%2C2375%2C3013%2C556&fields=body%2Cauthors%2Cheadline&page=3',\n",
    "         'https://www.postimees.ee/search?end=2022-03-30T14%3A29%3A25%2B03%3A00&query=h%C3%B5beremmelga&sections=81%2C127%2C296%2C674%2C517%2C123%2C2413%2C3371%2C2187%2C3447%2C124%2C3127%2C2325%2C313%2C855%2C2125%2C115%2C80%2C2993%2C2349%2C2329%2C384%2C246%2C383%2C382%2C381%2C380%2C4776%2C4777%2C2375%2C3013%2C556&fields=body%2Cauthors%2Cheadline&page=4',\n",
    "         'https://www.postimees.ee/search?end=2022-03-30T14%3A29%3A25%2B03%3A00&query=h%C3%B5beremmelga&sections=81%2C127%2C296%2C674%2C517%2C123%2C2413%2C3371%2C2187%2C3447%2C124%2C3127%2C2325%2C313%2C855%2C2125%2C115%2C80%2C2993%2C2349%2C2329%2C384%2C246%2C383%2C382%2C381%2C380%2C4776%2C4777%2C2375%2C3013%2C556&fields=body%2Cauthors%2Cheadline&page=5',\n",
    "         'https://www.postimees.ee/search?end=2022-03-30T14%3A29%3A25%2B03%3A00&query=h%C3%B5beremmelga&sections=81%2C127%2C296%2C674%2C517%2C123%2C2413%2C3371%2C2187%2C3447%2C124%2C3127%2C2325%2C313%2C855%2C2125%2C115%2C80%2C2993%2C2349%2C2329%2C384%2C246%2C383%2C382%2C381%2C380%2C4776%2C4777%2C2375%2C3013%2C556&fields=body%2Cauthors%2Cheadline&page=6',\n",
    "         'https://www.postimees.ee/search?end=2022-03-30T14%3A29%3A25%2B03%3A00&query=h%C3%B5beremmelga&sections=81%2C127%2C296%2C674%2C517%2C123%2C2413%2C3371%2C2187%2C3447%2C124%2C3127%2C2325%2C313%2C855%2C2125%2C115%2C80%2C2993%2C2349%2C2329%2C384%2C246%2C383%2C382%2C381%2C380%2C4776%2C4777%2C2375%2C3013%2C556&fields=body%2Cauthors%2Cheadline&page=7',\n",
    "         'https://www.postimees.ee/search?end=2022-03-30T14%3A29%3A25%2B03%3A00&query=h%C3%B5beremmelga&sections=81%2C127%2C296%2C674%2C517%2C123%2C2413%2C3371%2C2187%2C3447%2C124%2C3127%2C2325%2C313%2C855%2C2125%2C115%2C80%2C2993%2C2349%2C2329%2C384%2C246%2C383%2C382%2C381%2C380%2C4776%2C4777%2C2375%2C3013%2C556&fields=body%2Cauthors%2Cheadline&page=8'\n",
    "        ]\n",
    "links3 = []\n",
    "for url in urls3:\n",
    "    try:\n",
    "        page = requests.get(url)\n",
    "        soup = BeautifulSoup(page.content)\n",
    "\n",
    "        otsi = soup.find(\"div\",{\"class\" : \"structured-content__block\"})\n",
    "        otsing = otsi.findAll('article')\n",
    "        lingid = soup.findAll(\"div\",{\"class\" : \"structured-content__block\"})\n",
    "        for link in otsing:\n",
    "            l = link.find('a')['href']\n",
    "            #print(l)\n",
    "            links3.append(l)\n",
    "    except Exception as e:\n",
    "        print(\"Exception is :\", e, url)\n",
    "print(\"Märksõnaga \"\"hõberemmelgas\"\" leitud linke: \" + str(len(links3)))"
   ]
  },
  {
   "cell_type": "code",
   "execution_count": 4,
   "metadata": {},
   "outputs": [],
   "source": [
    "res = list(set(links1 + links2 + links3))"
   ]
  },
  {
   "cell_type": "code",
   "execution_count": 5,
   "metadata": {},
   "outputs": [
    {
     "data": {
      "text/plain": [
       "91"
      ]
     },
     "execution_count": 5,
     "metadata": {},
     "output_type": "execute_result"
    }
   ],
   "source": [
    "len(res)"
   ]
  },
  {
   "cell_type": "code",
   "execution_count": 26,
   "metadata": {},
   "outputs": [
    {
     "data": {
      "text/plain": [
       "['https://leht.postimees.ee/4488372/haabersti-remmelgas-nikerdati-esemeteks',\n",
       " 'https://arvamus.postimees.ee/4151373/merlis-nogene-kurvad-klounid-ja-puupohine-loodushoid',\n",
       " 'https://kultuur.postimees.ee/4368197/jazz-massidesse-philly-joe-s-avab-taas-uksed',\n",
       " 'https://arvamus.postimees.ee/4152009/arborist-kusimus-ei-ole-vaid-uhes-puus',\n",
       " 'https://www.postimees.ee/4150539/hoberemmelga-kaitseks-tehtud-petitsioon-on-kogunud-ule-1400-allkirja',\n",
       " 'https://www.postimees.ee/4173823/nii-tallinna-jamedaim-kui-ka-vanim-puu-on-kadrioru-tammiku-parand',\n",
       " 'https://sakala.postimees.ee/4168845/kas-moistuse-voi-sudamega',\n",
       " 'https://arvamus.postimees.ee/4159963/juhtkiri-mida-haabersti-remmelga-loost-oppida',\n",
       " 'https://lounapostimees.postimees.ee/3272625/linnapuude-taga-pole-mets-vaid-oma-lugu',\n",
       " 'https://leht.postimees.ee/7298361/mupo-likvideeris-mitu-kuud-toompeal-pesitsenud-hipilaagri',\n",
       " 'https://www.postimees.ee/6455055/valisministeeriumi-asekantsler-randeleppest-isamaaliidu-valitsus-kirjutas-sama-sisuga-leppele-alla-juba-17-aastat-tagasi',\n",
       " 'https://arvamus.postimees.ee/4159563/tarmo-tuur-hoberemmelga-oppetund-loodus-ja-inimesed-arengul-jalus',\n",
       " 'https://www.postimees.ee/4149657/ajalugu-kordub-1980ndate-lopul-voideldi-tallinnas-holmikpuu-eest',\n",
       " 'https://www.postimees.ee/4151677/linn-haabersti-projekti-muutmine-remmelga-parast-maksaks-1-5-miljonit-eurot',\n",
       " 'https://arvamus.postimees.ee/4503096/marko-kaasik-tselluloositehasega-uhel-pool-kuhu-edasi',\n",
       " 'https://sakala.postimees.ee/42841/paber-puuhiiglased-tusenevad-uksteise-voidu',\n",
       " 'https://www.postimees.ee/4169525/hoberemmelga-kaitsja-nouab-tagasi-lippu-ja-ruuporit',\n",
       " 'https://www.postimees.ee/4148481/pildid-politsei-andis-hoberemmelga-kaitsjatele-oopaeva-lahkumiseks',\n",
       " 'https://leht.postimees.ee/6974140/kas-neoliberialism-on-pelgalt-ahnuse-ratsionaalne-pohjendamise-meetod',\n",
       " 'https://leht.postimees.ee/6887748/raievaidluses-langeb-fakt-emotsiooni-ees',\n",
       " 'https://maailm.postimees.ee/4159867/aktivistid-kaitsevad-puid-kas-voi-elu-hinnaga',\n",
       " 'https://virumaateataja.postimees.ee/4161257/raido-nagel-naisel-on-hea-meel-et-varustusele-raha-raiskan',\n",
       " 'https://www.postimees.ee/4151915/reidi-tee-tamm-ja-haabersti-hoberemmelgas-pole-vorreldavad',\n",
       " 'https://sakala.postimees.ee/397536/kitsed-ronisid-katusele',\n",
       " 'https://arvamus.postimees.ee/4149379/kristi-malmberg-mida-rohkem-tahelepanu-saab-kuulus-hoberemmelgas-seda-aktiivsemaks-lahevad-ka-poliitikud',\n",
       " 'https://reporter.postimees.ee/4150153/tants-puu-umber-jatkub',\n",
       " 'https://kultuur.postimees.ee/4149035/kui-opetajat-pole-on-koguduses-sabat',\n",
       " 'https://tehnika.postimees.ee/4159375/hoberemmelga-jandi-tottu-valmis-veebileht-tallinnraiub-ee',\n",
       " 'https://sakala.postimees.ee/5914862/viljandi-jarve-aares-lendab-kakaduu',\n",
       " 'https://www.postimees.ee/4135437/pildid-ja-video-voitlus-hoberemmelga-eest-jatkub-teisipaeval',\n",
       " 'https://www.postimees.ee/4148825/kodanikeuhendus-kutsub-inimesi-haabersti-hoberemmelga-kaitsele',\n",
       " 'https://arvamus.postimees.ee/4163543/olev-remsu-avalikus-ruumis-vohab-vulgaarsus-miks',\n",
       " 'https://jarvateataja.postimees.ee/4460373/tammeistikutest-saab-allee-asemel-hoopis-park',\n",
       " 'https://reporter.postimees.ee/4159947/miks-tekkis-segadus-hoberemmelga-umber',\n",
       " 'https://parnu.postimees.ee/4150655/arborist-ravel-reiljan-kusimus-ei-ole-vaid-uhes-puus',\n",
       " 'https://reis.postimees.ee/4146547/neli-toeliselt-puha-puud',\n",
       " 'https://kultuur.postimees.ee/4495638/kas-prugikast-on-jatkusuutlik',\n",
       " 'https://sakala.postimees.ee/397839/kitsed-ronisid-katusele',\n",
       " 'https://virumaateataja.postimees.ee/4159791/politsei-pidas-haabersti-remmelga-juures-kinni-seitse-inimest',\n",
       " 'https://www.postimees.ee/4147439/arboristid-keelduvad-haabersti-hoberemmelgat-maha-raiumast',\n",
       " 'https://sakala.postimees.ee/3254597/tormituul-kangutas-hobepaju-tiiki',\n",
       " 'https://www.postimees.ee/4149823/fotod-hoberemmelgas-jaab-uue-nadala-alguseni-pusti',\n",
       " 'https://www.postimees.ee/4488699/fotod-haabersti-hoberemmelga-uus-elu',\n",
       " 'https://www.postimees.ee/4158583/oismae-elanike-esindusorganisatsioon-toetab-hoberemmelga-mahavotmist',\n",
       " 'https://leht.postimees.ee/7398090/sojakalt-kontrollnoudeid-eiranud-elvis-braueri-mem-cafe-pakiti-kokku',\n",
       " 'https://www.postimees.ee/4365865/asko-lohmus-kui-uhiskonnas-tekib-segadus-peab-teadlane-juhtrolli-votma',\n",
       " 'https://www.postimees.ee/4185723/kesklinna-valitsus-oine-puuderaie-toimus-ohutuse-kaalutlustel',\n",
       " 'https://arvamus.postimees.ee/4310085/aivar-pau-prostituudi-laul',\n",
       " 'https://www.postimees.ee/6433683/solman-abilinnapea-izmailova-kaastundest-meie-pere-seda-kuulnud-pole',\n",
       " 'https://saartehaal.postimees.ee/6662927/suur-maa-suured-asjad-baba-jagaad-ja-umera-ulod',\n",
       " 'https://tv.postimees.ee/6415134/videointervjuu-napilt-paasenud-isaga-minge-metsa-zuzu-ja-rohelised-surm-oli-mu-pojast-meetri-kaugusel',\n",
       " 'https://leht.postimees.ee/4159673/remmelgatsirkus-sai-joulise-lopu',\n",
       " 'https://www.postimees.ee/4152487/haabersti-ristmiku-juures-pole-lubatust-rohkem-puid-maha-voetud',\n",
       " 'https://majandus.postimees.ee/4262413/puidutoostur-me-ei-aja-karbseid-pahe-metsa-jatkub',\n",
       " 'https://tv.postimees.ee/6521377/kes-kaitseb-omanikku-muinsuskaitse-eest-ehk-miks-uks-voib-ja-teine-mitte',\n",
       " 'https://www.postimees.ee/4168855/enne-ja-nuud-mis-toimub-hoberemmelga-asukohas-tana',\n",
       " 'https://majandus.postimees.ee/6452842/raivo-vare-me-nagu-ei-tahakski-uurida-ega-moista',\n",
       " 'https://parnu.postimees.ee/4166249/ruut-simson-onnelikud-ja-onnetud-paastmised',\n",
       " 'https://www.postimees.ee/4151951/kakumae-rahva-selts-palub-puukaitsjatel-ka-teiste-inimestega-arvestada',\n",
       " 'https://www.postimees.ee/4155557/hoberemmelga-arutelu-keskkonnakomisjonis-loppes-uue-komisjoni-loomisega',\n",
       " 'https://sakala.postimees.ee/43055/puuhiiglased-tusenevad-uksteise-voidu',\n",
       " 'https://www.postimees.ee/4141041/ekspertiis-linn-voiks-kaaluda-haabersti-hoberemmelga-kaitse-alla-votmist',\n",
       " 'https://www.postimees.ee/4161717/72-aastane-hoberemmelgas-jagatakse-koolidele-kasitoomaterjaliks',\n",
       " 'https://www.postimees.ee/4159973/video-hoberemmelga-mahavotmise-eredaimad-hetked',\n",
       " 'https://arvamus.postimees.ee/4241133/taavi-aas-millest-kull-tuleb-see-alaline-virisemine',\n",
       " 'https://www.postimees.ee/4171515/fotod-rannamoisa-teel-langetati-ligi-800-puud',\n",
       " 'https://majandus.postimees.ee/6452407/raivo-vare-suurte-ariprojektide-elluviimine-on-eestis-vaga-keeruline',\n",
       " 'https://arvamus.postimees.ee/4129965/juhtkiri-hobepaju-pole-holmikpuu',\n",
       " 'https://www.postimees.ee/4158863/galerii-videod-ja-blogi-haabersti-hoberemmelgas-voeti-politsei-jouga-maha',\n",
       " 'https://sakala.postimees.ee/2459901/rootsi-ajast-parit-kivirist-kaitseb-nisupoldu',\n",
       " 'https://leht.postimees.ee/4129875/aktivistid-nouavad-tee-ehitusele-ette-jaava-puu-sailitamist',\n",
       " 'https://sakala.postimees.ee/4159847/repliik-nii-nad-tapsidki-meie-rohelised',\n",
       " 'https://sakala.postimees.ee/4164059/liba-sakala-tanavakusitluses-pariti-hoberemmelga-kohta',\n",
       " 'https://teadus.postimees.ee/4203869/keskkonnakaitse-spetsialist-kas-eriala-puukallistajatele-voi-riigiametnikele',\n",
       " 'https://www.postimees.ee/4160571/puukaitsjate-oiguskaitse-taotlust-ei-lahendatud-markimisvaarsete-puuduste-tottu',\n",
       " 'https://virumaateataja.postimees.ee/4499897/peeter-hussar-seda-juba-ei-juhtu-et-kodustame-metsloomad',\n",
       " 'https://www.postimees.ee/4275889/viis-tallinna-haabersti-remmelga-kaitsjat-said-karistuseks-rahatrahvi',\n",
       " 'https://arvamus.postimees.ee/4163423/kristel-vilbaste-remmelgalahing-pr-riigis',\n",
       " 'https://www.postimees.ee/1555173/kadrioru-pargi-vanad-puud-voivad-olla-inimestele-ohtlikud',\n",
       " 'https://lounapostimees.postimees.ee/4302839/metsa-mahavott-nursipalu-harjutusvaljal-toi-kohtutee',\n",
       " 'https://jarvateataja.postimees.ee/338670/tormi-murtud-uhke-remmelgas-jaab-risuks',\n",
       " 'https://www.postimees.ee/7298183/mupo-likvideeris-toompeal-mitu-kuud-pesitsenud-hipilaagri',\n",
       " 'https://sakala.postimees.ee/2388973/hoberemmelga-elu-sai-otsa',\n",
       " 'https://arvamus.postimees.ee/4152939/haabersti-linnaosavanem-paneb-imestama-kuidas-puukaitsjad-ei-suuda-aduda-suurt-pilti',\n",
       " 'https://www.postimees.ee/4171399/lippu-ja-ruuporit-tagasi-noudnud-puukaitsja-sai-politseilt-ootamatu-kone',\n",
       " 'https://arvamus.postimees.ee/4163901/tingel-tangel-tungel-kara-tais-on-dzungel',\n",
       " 'https://tv.postimees.ee/6401543/peeter-ernits-lahkus-keskerakonnast-ja-liitub-ekre-ga',\n",
       " 'https://www.postimees.ee/4137091/tulikas-pajupuu-on-asjassepuutuvad-ametid-segadusse-ajanud',\n",
       " 'https://www.postimees.ee/4144853/haabersti-hoberemmelgas-voetakse-siiski-maha',\n",
       " 'https://virumaateataja.postimees.ee/4166605/nuud-ma-enam-ei-valista-et-voin-lennata-ka-kuule',\n",
       " 'https://tartu.postimees.ee/3352731/raske-valik-kas-paplivilla-ujuka-voi-pardi-tanav']"
      ]
     },
     "execution_count": 26,
     "metadata": {},
     "output_type": "execute_result"
    }
   ],
   "source": [
    "res"
   ]
  },
  {
   "cell_type": "code",
   "execution_count": 6,
   "metadata": {},
   "outputs": [],
   "source": [
    "from googlesearch import search\n",
    "import urllib\n",
    "from bs4 import BeautifulSoup\n",
    "import requests\n",
    "headers = requests.utils.default_headers()\n",
    "\n",
    "def google_scrape(url):\n",
    "    response = requests.get(url, headers=headers)\n",
    "    soup = BeautifulSoup(response.text, 'html.parser')\n",
    "\n",
    "lingid = []\n",
    "query = 'Haabersti hõberemmelga'\n",
    "for url in search(query, tld='ee', lang = 'est', num = 15, stop=50):\n",
    "    a = google_scrape(url)\n",
    "    lingid.append(url)"
   ]
  },
  {
   "cell_type": "code",
   "execution_count": 7,
   "metadata": {},
   "outputs": [],
   "source": [
    "#lingid"
   ]
  },
  {
   "cell_type": "code",
   "execution_count": 22,
   "metadata": {},
   "outputs": [
    {
     "name": "stderr",
     "output_type": "stream",
     "text": [
      "\r",
      "  0%|                                                                                           | 0/91 [00:00<?, ?it/s]"
     ]
    },
    {
     "name": "stdout",
     "output_type": "stream",
     "text": [
      "https://leht.postimees.ee/4488372/haabersti-remmelgas-nikerdati-esemeteks\n"
     ]
    },
    {
     "name": "stderr",
     "output_type": "stream",
     "text": [
      "\r",
      "  1%|▉                                                                                  | 1/91 [00:00<00:25,  3.46it/s]"
     ]
    },
    {
     "name": "stdout",
     "output_type": "stream",
     "text": [
      "https://arvamus.postimees.ee/4151373/merlis-nogene-kurvad-klounid-ja-puupohine-loodushoid\n"
     ]
    },
    {
     "name": "stderr",
     "output_type": "stream",
     "text": [
      "\r",
      "  2%|█▊                                                                                 | 2/91 [00:00<00:25,  3.52it/s]"
     ]
    },
    {
     "name": "stdout",
     "output_type": "stream",
     "text": [
      "https://kultuur.postimees.ee/4368197/jazz-massidesse-philly-joe-s-avab-taas-uksed\n"
     ]
    },
    {
     "name": "stderr",
     "output_type": "stream",
     "text": [
      "\r",
      "  3%|██▋                                                                                | 3/91 [00:00<00:25,  3.44it/s]"
     ]
    },
    {
     "name": "stdout",
     "output_type": "stream",
     "text": [
      "https://arvamus.postimees.ee/4152009/arborist-kusimus-ei-ole-vaid-uhes-puus\n"
     ]
    },
    {
     "name": "stderr",
     "output_type": "stream",
     "text": [
      "\r",
      "  4%|███▋                                                                               | 4/91 [00:01<00:23,  3.69it/s]"
     ]
    },
    {
     "name": "stdout",
     "output_type": "stream",
     "text": [
      "https://www.postimees.ee/4150539/hoberemmelga-kaitseks-tehtud-petitsioon-on-kogunud-ule-1400-allkirja\n"
     ]
    },
    {
     "name": "stderr",
     "output_type": "stream",
     "text": [
      "\r",
      "  5%|████▌                                                                              | 5/91 [00:01<00:22,  3.85it/s]"
     ]
    },
    {
     "name": "stdout",
     "output_type": "stream",
     "text": [
      "https://www.postimees.ee/4173823/nii-tallinna-jamedaim-kui-ka-vanim-puu-on-kadrioru-tammiku-parand\n"
     ]
    },
    {
     "name": "stderr",
     "output_type": "stream",
     "text": [
      "\r",
      "  7%|█████▍                                                                             | 6/91 [00:01<00:22,  3.76it/s]"
     ]
    },
    {
     "name": "stdout",
     "output_type": "stream",
     "text": [
      "https://sakala.postimees.ee/4168845/kas-moistuse-voi-sudamega\n"
     ]
    },
    {
     "name": "stderr",
     "output_type": "stream",
     "text": [
      "\r",
      "  8%|██████▍                                                                            | 7/91 [00:01<00:21,  3.86it/s]"
     ]
    },
    {
     "name": "stdout",
     "output_type": "stream",
     "text": [
      "https://arvamus.postimees.ee/4159963/juhtkiri-mida-haabersti-remmelga-loost-oppida\n"
     ]
    },
    {
     "name": "stderr",
     "output_type": "stream",
     "text": [
      "\r",
      "  9%|███████▎                                                                           | 8/91 [00:02<00:21,  3.90it/s]"
     ]
    },
    {
     "name": "stdout",
     "output_type": "stream",
     "text": [
      "https://lounapostimees.postimees.ee/3272625/linnapuude-taga-pole-mets-vaid-oma-lugu\n"
     ]
    },
    {
     "name": "stderr",
     "output_type": "stream",
     "text": [
      "\r",
      " 10%|████████▏                                                                          | 9/91 [00:02<00:20,  4.05it/s]"
     ]
    },
    {
     "name": "stdout",
     "output_type": "stream",
     "text": [
      "https://leht.postimees.ee/7298361/mupo-likvideeris-mitu-kuud-toompeal-pesitsenud-hipilaagri\n"
     ]
    },
    {
     "name": "stderr",
     "output_type": "stream",
     "text": [
      "\r",
      " 11%|█████████                                                                         | 10/91 [00:02<00:21,  3.77it/s]"
     ]
    },
    {
     "name": "stdout",
     "output_type": "stream",
     "text": [
      "https://www.postimees.ee/6455055/valisministeeriumi-asekantsler-randeleppest-isamaaliidu-valitsus-kirjutas-sama-sisuga-leppele-alla-juba-17-aastat-tagasi\n"
     ]
    },
    {
     "name": "stderr",
     "output_type": "stream",
     "text": [
      "\r",
      " 12%|█████████▉                                                                        | 11/91 [00:02<00:22,  3.52it/s]"
     ]
    },
    {
     "name": "stdout",
     "output_type": "stream",
     "text": [
      "https://arvamus.postimees.ee/4159563/tarmo-tuur-hoberemmelga-oppetund-loodus-ja-inimesed-arengul-jalus\n"
     ]
    },
    {
     "name": "stderr",
     "output_type": "stream",
     "text": [
      "\r",
      " 13%|██████████▊                                                                       | 12/91 [00:03<00:21,  3.62it/s]"
     ]
    },
    {
     "name": "stdout",
     "output_type": "stream",
     "text": [
      "https://www.postimees.ee/4149657/ajalugu-kordub-1980ndate-lopul-voideldi-tallinnas-holmikpuu-eest\n"
     ]
    },
    {
     "name": "stderr",
     "output_type": "stream",
     "text": [
      "\r",
      " 14%|███████████▋                                                                      | 13/91 [00:03<00:20,  3.79it/s]"
     ]
    },
    {
     "name": "stdout",
     "output_type": "stream",
     "text": [
      "https://www.postimees.ee/4151677/linn-haabersti-projekti-muutmine-remmelga-parast-maksaks-1-5-miljonit-eurot\n"
     ]
    },
    {
     "name": "stderr",
     "output_type": "stream",
     "text": [
      "\r",
      " 15%|████████████▌                                                                     | 14/91 [00:03<00:19,  3.89it/s]"
     ]
    },
    {
     "name": "stdout",
     "output_type": "stream",
     "text": [
      "https://arvamus.postimees.ee/4503096/marko-kaasik-tselluloositehasega-uhel-pool-kuhu-edasi\n"
     ]
    },
    {
     "name": "stderr",
     "output_type": "stream",
     "text": [
      "\r",
      " 16%|█████████████▌                                                                    | 15/91 [00:04<00:23,  3.23it/s]"
     ]
    },
    {
     "name": "stdout",
     "output_type": "stream",
     "text": [
      "https://sakala.postimees.ee/42841/paber-puuhiiglased-tusenevad-uksteise-voidu\n"
     ]
    },
    {
     "name": "stderr",
     "output_type": "stream",
     "text": [
      "\r",
      " 18%|██████████████▍                                                                   | 16/91 [00:04<00:20,  3.58it/s]"
     ]
    },
    {
     "name": "stdout",
     "output_type": "stream",
     "text": [
      "https://www.postimees.ee/4169525/hoberemmelga-kaitsja-nouab-tagasi-lippu-ja-ruuporit\n"
     ]
    },
    {
     "name": "stderr",
     "output_type": "stream",
     "text": [
      "\r",
      " 19%|███████████████▎                                                                  | 17/91 [00:04<00:20,  3.62it/s]"
     ]
    },
    {
     "name": "stdout",
     "output_type": "stream",
     "text": [
      "https://www.postimees.ee/4148481/pildid-politsei-andis-hoberemmelga-kaitsjatele-oopaeva-lahkumiseks\n"
     ]
    },
    {
     "name": "stderr",
     "output_type": "stream",
     "text": [
      "\r",
      " 20%|████████████████▏                                                                 | 18/91 [00:04<00:19,  3.70it/s]"
     ]
    },
    {
     "name": "stdout",
     "output_type": "stream",
     "text": [
      "https://leht.postimees.ee/6974140/kas-neoliberialism-on-pelgalt-ahnuse-ratsionaalne-pohjendamise-meetod\n"
     ]
    },
    {
     "name": "stderr",
     "output_type": "stream",
     "text": [
      "\r",
      " 21%|█████████████████                                                                 | 19/91 [00:05<00:20,  3.59it/s]"
     ]
    },
    {
     "name": "stdout",
     "output_type": "stream",
     "text": [
      "https://leht.postimees.ee/6887748/raievaidluses-langeb-fakt-emotsiooni-ees\n"
     ]
    },
    {
     "name": "stderr",
     "output_type": "stream",
     "text": [
      "\r",
      " 22%|██████████████████                                                                | 20/91 [00:05<00:20,  3.47it/s]"
     ]
    },
    {
     "name": "stdout",
     "output_type": "stream",
     "text": [
      "https://maailm.postimees.ee/4159867/aktivistid-kaitsevad-puid-kas-voi-elu-hinnaga\n"
     ]
    },
    {
     "name": "stderr",
     "output_type": "stream",
     "text": [
      "\r",
      " 23%|██████████████████▉                                                               | 21/91 [00:05<00:24,  2.87it/s]"
     ]
    },
    {
     "name": "stdout",
     "output_type": "stream",
     "text": [
      "https://virumaateataja.postimees.ee/4161257/raido-nagel-naisel-on-hea-meel-et-varustusele-raha-raiskan\n"
     ]
    },
    {
     "name": "stderr",
     "output_type": "stream",
     "text": [
      "\r",
      " 24%|███████████████████▊                                                              | 22/91 [00:06<00:22,  3.07it/s]"
     ]
    },
    {
     "name": "stdout",
     "output_type": "stream",
     "text": [
      "https://www.postimees.ee/4151915/reidi-tee-tamm-ja-haabersti-hoberemmelgas-pole-vorreldavad\n"
     ]
    },
    {
     "name": "stderr",
     "output_type": "stream",
     "text": [
      "\r",
      " 25%|████████████████████▋                                                             | 23/91 [00:06<00:20,  3.25it/s]"
     ]
    },
    {
     "name": "stdout",
     "output_type": "stream",
     "text": [
      "https://sakala.postimees.ee/397536/kitsed-ronisid-katusele\n"
     ]
    },
    {
     "name": "stderr",
     "output_type": "stream",
     "text": [
      "\r",
      " 26%|█████████████████████▋                                                            | 24/91 [00:06<00:22,  2.95it/s]"
     ]
    },
    {
     "name": "stdout",
     "output_type": "stream",
     "text": [
      "https://arvamus.postimees.ee/4149379/kristi-malmberg-mida-rohkem-tahelepanu-saab-kuulus-hoberemmelgas-seda-aktiivsemaks-lahevad-ka-poliitikud\n"
     ]
    },
    {
     "name": "stderr",
     "output_type": "stream",
     "text": [
      "\r",
      " 27%|██████████████████████▌                                                           | 25/91 [00:07<00:20,  3.18it/s]"
     ]
    },
    {
     "name": "stdout",
     "output_type": "stream",
     "text": [
      "https://reporter.postimees.ee/4150153/tants-puu-umber-jatkub\n"
     ]
    },
    {
     "name": "stderr",
     "output_type": "stream",
     "text": [
      "\r",
      " 29%|███████████████████████▍                                                          | 26/91 [00:07<00:18,  3.43it/s]"
     ]
    },
    {
     "name": "stdout",
     "output_type": "stream",
     "text": [
      "https://kultuur.postimees.ee/4149035/kui-opetajat-pole-on-koguduses-sabat\n"
     ]
    },
    {
     "name": "stderr",
     "output_type": "stream",
     "text": [
      "\r",
      " 30%|████████████████████████▎                                                         | 27/91 [00:07<00:17,  3.72it/s]"
     ]
    },
    {
     "name": "stdout",
     "output_type": "stream",
     "text": [
      "https://tehnika.postimees.ee/4159375/hoberemmelga-jandi-tottu-valmis-veebileht-tallinnraiub-ee\n"
     ]
    },
    {
     "name": "stderr",
     "output_type": "stream",
     "text": [
      "\r",
      " 31%|█████████████████████████▏                                                        | 28/91 [00:07<00:17,  3.69it/s]"
     ]
    },
    {
     "name": "stdout",
     "output_type": "stream",
     "text": [
      "https://sakala.postimees.ee/5914862/viljandi-jarve-aares-lendab-kakaduu\n"
     ]
    },
    {
     "name": "stderr",
     "output_type": "stream",
     "text": [
      "\r",
      " 32%|██████████████████████████▏                                                       | 29/91 [00:08<00:15,  3.92it/s]"
     ]
    },
    {
     "name": "stdout",
     "output_type": "stream",
     "text": [
      "https://www.postimees.ee/4135437/pildid-ja-video-voitlus-hoberemmelga-eest-jatkub-teisipaeval\n"
     ]
    },
    {
     "name": "stderr",
     "output_type": "stream",
     "text": [
      "\r",
      " 33%|███████████████████████████                                                       | 30/91 [00:08<00:15,  3.87it/s]"
     ]
    },
    {
     "name": "stdout",
     "output_type": "stream",
     "text": [
      "https://www.postimees.ee/4148825/kodanikeuhendus-kutsub-inimesi-haabersti-hoberemmelga-kaitsele\n"
     ]
    },
    {
     "name": "stderr",
     "output_type": "stream",
     "text": [
      "\r",
      " 34%|███████████████████████████▉                                                      | 31/91 [00:08<00:15,  3.84it/s]"
     ]
    },
    {
     "name": "stdout",
     "output_type": "stream",
     "text": [
      "https://arvamus.postimees.ee/4163543/olev-remsu-avalikus-ruumis-vohab-vulgaarsus-miks\n"
     ]
    },
    {
     "name": "stderr",
     "output_type": "stream",
     "text": [
      "\r",
      " 35%|████████████████████████████▊                                                     | 32/91 [00:08<00:15,  3.91it/s]"
     ]
    },
    {
     "name": "stdout",
     "output_type": "stream",
     "text": [
      "https://jarvateataja.postimees.ee/4460373/tammeistikutest-saab-allee-asemel-hoopis-park\n"
     ]
    },
    {
     "name": "stderr",
     "output_type": "stream",
     "text": [
      "\r",
      " 36%|█████████████████████████████▋                                                    | 33/91 [00:09<00:15,  3.84it/s]"
     ]
    },
    {
     "name": "stdout",
     "output_type": "stream",
     "text": [
      "https://reporter.postimees.ee/4159947/miks-tekkis-segadus-hoberemmelga-umber\n"
     ]
    },
    {
     "name": "stderr",
     "output_type": "stream",
     "text": [
      "\r",
      " 37%|██████████████████████████████▋                                                   | 34/91 [00:09<00:14,  3.91it/s]"
     ]
    },
    {
     "name": "stdout",
     "output_type": "stream",
     "text": [
      "https://parnu.postimees.ee/4150655/arborist-ravel-reiljan-kusimus-ei-ole-vaid-uhes-puus\n"
     ]
    },
    {
     "name": "stderr",
     "output_type": "stream",
     "text": [
      "\r",
      " 38%|███████████████████████████████▌                                                  | 35/91 [00:09<00:14,  3.99it/s]"
     ]
    },
    {
     "name": "stdout",
     "output_type": "stream",
     "text": [
      "https://reis.postimees.ee/4146547/neli-toeliselt-puha-puud\n"
     ]
    },
    {
     "name": "stderr",
     "output_type": "stream",
     "text": [
      "\r",
      " 40%|████████████████████████████████▍                                                 | 36/91 [00:09<00:13,  4.14it/s]"
     ]
    },
    {
     "name": "stdout",
     "output_type": "stream",
     "text": [
      "https://kultuur.postimees.ee/4495638/kas-prugikast-on-jatkusuutlik\n"
     ]
    },
    {
     "name": "stderr",
     "output_type": "stream",
     "text": [
      "\r",
      " 41%|█████████████████████████████████▎                                                | 37/91 [00:10<00:13,  4.08it/s]"
     ]
    },
    {
     "name": "stdout",
     "output_type": "stream",
     "text": [
      "https://sakala.postimees.ee/397839/kitsed-ronisid-katusele\n"
     ]
    },
    {
     "name": "stderr",
     "output_type": "stream",
     "text": [
      "\r",
      " 42%|██████████████████████████████████▏                                               | 38/91 [00:10<00:12,  4.08it/s]"
     ]
    },
    {
     "name": "stdout",
     "output_type": "stream",
     "text": [
      "https://virumaateataja.postimees.ee/4159791/politsei-pidas-haabersti-remmelga-juures-kinni-seitse-inimest\n"
     ]
    },
    {
     "name": "stderr",
     "output_type": "stream",
     "text": [
      "\r",
      " 43%|███████████████████████████████████▏                                              | 39/91 [00:10<00:12,  4.29it/s]"
     ]
    },
    {
     "name": "stdout",
     "output_type": "stream",
     "text": [
      "https://www.postimees.ee/4147439/arboristid-keelduvad-haabersti-hoberemmelgat-maha-raiumast\n"
     ]
    },
    {
     "name": "stderr",
     "output_type": "stream",
     "text": [
      "\r",
      " 44%|████████████████████████████████████                                              | 40/91 [00:10<00:11,  4.25it/s]"
     ]
    },
    {
     "name": "stdout",
     "output_type": "stream",
     "text": [
      "https://sakala.postimees.ee/3254597/tormituul-kangutas-hobepaju-tiiki\n"
     ]
    },
    {
     "name": "stderr",
     "output_type": "stream",
     "text": [
      "\r",
      " 45%|████████████████████████████████████▉                                             | 41/91 [00:11<00:11,  4.26it/s]"
     ]
    },
    {
     "name": "stdout",
     "output_type": "stream",
     "text": [
      "https://www.postimees.ee/4149823/fotod-hoberemmelgas-jaab-uue-nadala-alguseni-pusti\n"
     ]
    },
    {
     "name": "stderr",
     "output_type": "stream",
     "text": [
      "\r",
      " 46%|█████████████████████████████████████▊                                            | 42/91 [00:11<00:12,  4.01it/s]"
     ]
    },
    {
     "name": "stdout",
     "output_type": "stream",
     "text": [
      "https://www.postimees.ee/4488699/fotod-haabersti-hoberemmelga-uus-elu\n"
     ]
    },
    {
     "name": "stderr",
     "output_type": "stream",
     "text": [
      "\r",
      " 47%|██████████████████████████████████████▋                                           | 43/91 [00:11<00:12,  3.83it/s]"
     ]
    },
    {
     "name": "stdout",
     "output_type": "stream",
     "text": [
      "https://www.postimees.ee/4158583/oismae-elanike-esindusorganisatsioon-toetab-hoberemmelga-mahavotmist\n"
     ]
    },
    {
     "name": "stderr",
     "output_type": "stream",
     "text": [
      "\r",
      " 48%|███████████████████████████████████████▋                                          | 44/91 [00:11<00:12,  3.84it/s]"
     ]
    },
    {
     "name": "stdout",
     "output_type": "stream",
     "text": [
      "https://leht.postimees.ee/7398090/sojakalt-kontrollnoudeid-eiranud-elvis-braueri-mem-cafe-pakiti-kokku\n"
     ]
    },
    {
     "name": "stderr",
     "output_type": "stream",
     "text": [
      "\r",
      " 49%|████████████████████████████████████████▌                                         | 45/91 [00:12<00:12,  3.69it/s]"
     ]
    },
    {
     "name": "stdout",
     "output_type": "stream",
     "text": [
      "https://www.postimees.ee/4365865/asko-lohmus-kui-uhiskonnas-tekib-segadus-peab-teadlane-juhtrolli-votma\n"
     ]
    },
    {
     "name": "stderr",
     "output_type": "stream",
     "text": [
      "\r",
      " 51%|█████████████████████████████████████████▍                                        | 46/91 [00:12<00:11,  3.76it/s]"
     ]
    },
    {
     "name": "stdout",
     "output_type": "stream",
     "text": [
      "https://www.postimees.ee/4185723/kesklinna-valitsus-oine-puuderaie-toimus-ohutuse-kaalutlustel\n"
     ]
    },
    {
     "name": "stderr",
     "output_type": "stream",
     "text": [
      "\r",
      " 52%|██████████████████████████████████████████▎                                       | 47/91 [00:12<00:11,  3.83it/s]"
     ]
    },
    {
     "name": "stdout",
     "output_type": "stream",
     "text": [
      "https://arvamus.postimees.ee/4310085/aivar-pau-prostituudi-laul\n"
     ]
    },
    {
     "name": "stderr",
     "output_type": "stream",
     "text": [
      "\r",
      " 53%|███████████████████████████████████████████▎                                      | 48/91 [00:12<00:11,  3.85it/s]"
     ]
    },
    {
     "name": "stdout",
     "output_type": "stream",
     "text": [
      "https://www.postimees.ee/6433683/solman-abilinnapea-izmailova-kaastundest-meie-pere-seda-kuulnud-pole\n"
     ]
    },
    {
     "name": "stderr",
     "output_type": "stream",
     "text": [
      "\r",
      " 54%|████████████████████████████████████████████▏                                     | 49/91 [00:13<00:10,  3.92it/s]"
     ]
    },
    {
     "name": "stdout",
     "output_type": "stream",
     "text": [
      "https://saartehaal.postimees.ee/6662927/suur-maa-suured-asjad-baba-jagaad-ja-umera-ulod\n"
     ]
    },
    {
     "name": "stderr",
     "output_type": "stream",
     "text": [
      "\r",
      " 55%|█████████████████████████████████████████████                                     | 50/91 [00:13<00:10,  3.94it/s]"
     ]
    },
    {
     "name": "stdout",
     "output_type": "stream",
     "text": [
      "https://tv.postimees.ee/6415134/videointervjuu-napilt-paasenud-isaga-minge-metsa-zuzu-ja-rohelised-surm-oli-mu-pojast-meetri-kaugusel\n"
     ]
    },
    {
     "name": "stderr",
     "output_type": "stream",
     "text": [
      "\r",
      " 56%|█████████████████████████████████████████████▉                                    | 51/91 [00:13<00:10,  3.75it/s]"
     ]
    },
    {
     "name": "stdout",
     "output_type": "stream",
     "text": [
      "https://leht.postimees.ee/4159673/remmelgatsirkus-sai-joulise-lopu\n"
     ]
    },
    {
     "name": "stderr",
     "output_type": "stream",
     "text": [
      "\r",
      " 57%|██████████████████████████████████████████████▊                                   | 52/91 [00:14<00:10,  3.62it/s]"
     ]
    },
    {
     "name": "stdout",
     "output_type": "stream",
     "text": [
      "https://www.postimees.ee/4152487/haabersti-ristmiku-juures-pole-lubatust-rohkem-puid-maha-voetud\n"
     ]
    },
    {
     "name": "stderr",
     "output_type": "stream",
     "text": [
      "\r",
      " 58%|███████████████████████████████████████████████▊                                  | 53/91 [00:14<00:10,  3.67it/s]"
     ]
    },
    {
     "name": "stdout",
     "output_type": "stream",
     "text": [
      "https://majandus.postimees.ee/4262413/puidutoostur-me-ei-aja-karbseid-pahe-metsa-jatkub\n"
     ]
    },
    {
     "name": "stderr",
     "output_type": "stream",
     "text": [
      "\r",
      " 59%|████████████████████████████████████████████████▋                                 | 54/91 [00:14<00:09,  3.81it/s]"
     ]
    },
    {
     "name": "stdout",
     "output_type": "stream",
     "text": [
      "https://tv.postimees.ee/6521377/kes-kaitseb-omanikku-muinsuskaitse-eest-ehk-miks-uks-voib-ja-teine-mitte\n"
     ]
    },
    {
     "name": "stderr",
     "output_type": "stream",
     "text": [
      "\r",
      " 60%|█████████████████████████████████████████████████▌                                | 55/91 [00:14<00:09,  3.78it/s]"
     ]
    },
    {
     "name": "stdout",
     "output_type": "stream",
     "text": [
      "https://www.postimees.ee/4168855/enne-ja-nuud-mis-toimub-hoberemmelga-asukohas-tana\n"
     ]
    },
    {
     "name": "stderr",
     "output_type": "stream",
     "text": [
      "\r",
      " 62%|██████████████████████████████████████████████████▍                               | 56/91 [00:15<00:09,  3.83it/s]"
     ]
    },
    {
     "name": "stdout",
     "output_type": "stream",
     "text": [
      "https://majandus.postimees.ee/6452842/raivo-vare-me-nagu-ei-tahakski-uurida-ega-moista\n"
     ]
    },
    {
     "name": "stderr",
     "output_type": "stream",
     "text": [
      "\r",
      " 63%|███████████████████████████████████████████████████▎                              | 57/91 [00:15<00:08,  3.93it/s]"
     ]
    },
    {
     "name": "stdout",
     "output_type": "stream",
     "text": [
      "https://parnu.postimees.ee/4166249/ruut-simson-onnelikud-ja-onnetud-paastmised\n"
     ]
    },
    {
     "name": "stderr",
     "output_type": "stream",
     "text": [
      "\r",
      " 64%|████████████████████████████████████████████████████▎                             | 58/91 [00:15<00:08,  3.99it/s]"
     ]
    },
    {
     "name": "stdout",
     "output_type": "stream",
     "text": [
      "https://www.postimees.ee/4151951/kakumae-rahva-selts-palub-puukaitsjatel-ka-teiste-inimestega-arvestada\n"
     ]
    },
    {
     "name": "stderr",
     "output_type": "stream",
     "text": [
      "\r",
      " 65%|█████████████████████████████████████████████████████▏                            | 59/91 [00:15<00:08,  3.91it/s]"
     ]
    },
    {
     "name": "stdout",
     "output_type": "stream",
     "text": [
      "https://www.postimees.ee/4155557/hoberemmelga-arutelu-keskkonnakomisjonis-loppes-uue-komisjoni-loomisega\n"
     ]
    },
    {
     "name": "stderr",
     "output_type": "stream",
     "text": [
      "\r",
      " 66%|██████████████████████████████████████████████████████                            | 60/91 [00:16<00:08,  3.83it/s]"
     ]
    },
    {
     "name": "stdout",
     "output_type": "stream",
     "text": [
      "https://sakala.postimees.ee/43055/puuhiiglased-tusenevad-uksteise-voidu\n"
     ]
    },
    {
     "name": "stderr",
     "output_type": "stream",
     "text": [
      "\r",
      " 67%|██████████████████████████████████████████████████████▉                           | 61/91 [00:16<00:07,  3.90it/s]"
     ]
    },
    {
     "name": "stdout",
     "output_type": "stream",
     "text": [
      "https://www.postimees.ee/4141041/ekspertiis-linn-voiks-kaaluda-haabersti-hoberemmelga-kaitse-alla-votmist\n"
     ]
    },
    {
     "name": "stderr",
     "output_type": "stream",
     "text": [
      "\r",
      " 68%|███████████████████████████████████████████████████████▊                          | 62/91 [00:16<00:07,  3.78it/s]"
     ]
    },
    {
     "name": "stdout",
     "output_type": "stream",
     "text": [
      "https://www.postimees.ee/4161717/72-aastane-hoberemmelgas-jagatakse-koolidele-kasitoomaterjaliks\n"
     ]
    },
    {
     "name": "stderr",
     "output_type": "stream",
     "text": [
      "\r",
      " 69%|████████████████████████████████████████████████████████▊                         | 63/91 [00:16<00:07,  3.86it/s]"
     ]
    },
    {
     "name": "stdout",
     "output_type": "stream",
     "text": [
      "https://www.postimees.ee/4159973/video-hoberemmelga-mahavotmise-eredaimad-hetked\n"
     ]
    },
    {
     "name": "stderr",
     "output_type": "stream",
     "text": [
      "\r",
      " 70%|█████████████████████████████████████████████████████████▋                        | 64/91 [00:17<00:06,  3.88it/s]"
     ]
    },
    {
     "name": "stdout",
     "output_type": "stream",
     "text": [
      "https://arvamus.postimees.ee/4241133/taavi-aas-millest-kull-tuleb-see-alaline-virisemine\n"
     ]
    },
    {
     "name": "stderr",
     "output_type": "stream",
     "text": [
      "\r",
      " 71%|██████████████████████████████████████████████████████████▌                       | 65/91 [00:17<00:06,  3.88it/s]"
     ]
    },
    {
     "name": "stdout",
     "output_type": "stream",
     "text": [
      "https://www.postimees.ee/4171515/fotod-rannamoisa-teel-langetati-ligi-800-puud\n"
     ]
    },
    {
     "name": "stderr",
     "output_type": "stream",
     "text": [
      "\r",
      " 73%|███████████████████████████████████████████████████████████▍                      | 66/91 [00:17<00:06,  3.92it/s]"
     ]
    },
    {
     "name": "stdout",
     "output_type": "stream",
     "text": [
      "https://majandus.postimees.ee/6452407/raivo-vare-suurte-ariprojektide-elluviimine-on-eestis-vaga-keeruline\n"
     ]
    },
    {
     "name": "stderr",
     "output_type": "stream",
     "text": [
      "\r",
      " 74%|████████████████████████████████████████████████████████████▎                     | 67/91 [00:17<00:06,  3.88it/s]"
     ]
    },
    {
     "name": "stdout",
     "output_type": "stream",
     "text": [
      "https://arvamus.postimees.ee/4129965/juhtkiri-hobepaju-pole-holmikpuu\n"
     ]
    },
    {
     "name": "stderr",
     "output_type": "stream",
     "text": [
      "\r",
      " 75%|█████████████████████████████████████████████████████████████▎                    | 68/91 [00:18<00:05,  3.96it/s]"
     ]
    },
    {
     "name": "stdout",
     "output_type": "stream",
     "text": [
      "https://www.postimees.ee/4158863/galerii-videod-ja-blogi-haabersti-hoberemmelgas-voeti-politsei-jouga-maha\n"
     ]
    },
    {
     "name": "stderr",
     "output_type": "stream",
     "text": [
      " 77%|███████████████████████████████████████████████████████████████                   | 70/91 [00:18<00:05,  4.12it/s]"
     ]
    },
    {
     "name": "stdout",
     "output_type": "stream",
     "text": [
      "https://sakala.postimees.ee/2459901/rootsi-ajast-parit-kivirist-kaitseb-nisupoldu\n",
      "https://leht.postimees.ee/4129875/aktivistid-nouavad-tee-ehitusele-ette-jaava-puu-sailitamist\n"
     ]
    },
    {
     "name": "stderr",
     "output_type": "stream",
     "text": [
      " 79%|████████████████████████████████████████████████████████████████▉                 | 72/91 [00:19<00:05,  3.78it/s]"
     ]
    },
    {
     "name": "stdout",
     "output_type": "stream",
     "text": [
      "https://sakala.postimees.ee/4159847/repliik-nii-nad-tapsidki-meie-rohelised\n",
      "https://sakala.postimees.ee/4164059/liba-sakala-tanavakusitluses-pariti-hoberemmelga-kohta\n"
     ]
    },
    {
     "name": "stderr",
     "output_type": "stream",
     "text": [
      "\r",
      " 80%|█████████████████████████████████████████████████████████████████▊                | 73/91 [00:19<00:04,  4.01it/s]"
     ]
    },
    {
     "name": "stdout",
     "output_type": "stream",
     "text": [
      "https://teadus.postimees.ee/4203869/keskkonnakaitse-spetsialist-kas-eriala-puukallistajatele-voi-riigiametnikele\n"
     ]
    },
    {
     "name": "stderr",
     "output_type": "stream",
     "text": [
      "\r",
      " 81%|██████████████████████████████████████████████████████████████████▋               | 74/91 [00:19<00:04,  3.97it/s]"
     ]
    },
    {
     "name": "stdout",
     "output_type": "stream",
     "text": [
      "https://www.postimees.ee/4160571/puukaitsjate-oiguskaitse-taotlust-ei-lahendatud-markimisvaarsete-puuduste-tottu\n"
     ]
    },
    {
     "name": "stderr",
     "output_type": "stream",
     "text": [
      "\r",
      " 82%|███████████████████████████████████████████████████████████████████▌              | 75/91 [00:20<00:05,  2.83it/s]"
     ]
    },
    {
     "name": "stdout",
     "output_type": "stream",
     "text": [
      "https://virumaateataja.postimees.ee/4499897/peeter-hussar-seda-juba-ei-juhtu-et-kodustame-metsloomad\n"
     ]
    },
    {
     "name": "stderr",
     "output_type": "stream",
     "text": [
      "\r",
      " 84%|████████████████████████████████████████████████████████████████████▍             | 76/91 [00:20<00:04,  3.08it/s]"
     ]
    },
    {
     "name": "stdout",
     "output_type": "stream",
     "text": [
      "https://www.postimees.ee/4275889/viis-tallinna-haabersti-remmelga-kaitsjat-said-karistuseks-rahatrahvi\n"
     ]
    },
    {
     "name": "stderr",
     "output_type": "stream",
     "text": [
      "\r",
      " 85%|█████████████████████████████████████████████████████████████████████▍            | 77/91 [00:20<00:04,  3.31it/s]"
     ]
    },
    {
     "name": "stdout",
     "output_type": "stream",
     "text": [
      "https://arvamus.postimees.ee/4163423/kristel-vilbaste-remmelgalahing-pr-riigis\n"
     ]
    },
    {
     "name": "stderr",
     "output_type": "stream",
     "text": [
      " 87%|███████████████████████████████████████████████████████████████████████▏          | 79/91 [00:21<00:03,  3.90it/s]"
     ]
    },
    {
     "name": "stdout",
     "output_type": "stream",
     "text": [
      "https://www.postimees.ee/1555173/kadrioru-pargi-vanad-puud-voivad-olla-inimestele-ohtlikud\n",
      "https://lounapostimees.postimees.ee/4302839/metsa-mahavott-nursipalu-harjutusvaljal-toi-kohtutee\n"
     ]
    },
    {
     "name": "stderr",
     "output_type": "stream",
     "text": [
      "\r",
      " 88%|████████████████████████████████████████████████████████████████████████          | 80/91 [00:21<00:02,  3.77it/s]"
     ]
    },
    {
     "name": "stdout",
     "output_type": "stream",
     "text": [
      "https://jarvateataja.postimees.ee/338670/tormi-murtud-uhke-remmelgas-jaab-risuks\n"
     ]
    },
    {
     "name": "stderr",
     "output_type": "stream",
     "text": [
      "\r",
      " 89%|████████████████████████████████████████████████████████████████████████▉         | 81/91 [00:21<00:02,  3.77it/s]"
     ]
    },
    {
     "name": "stdout",
     "output_type": "stream",
     "text": [
      "https://www.postimees.ee/7298183/mupo-likvideeris-toompeal-mitu-kuud-pesitsenud-hipilaagri\n"
     ]
    },
    {
     "name": "stderr",
     "output_type": "stream",
     "text": [
      " 91%|██████████████████████████████████████████████████████████████████████████▊       | 83/91 [00:22<00:01,  4.15it/s]"
     ]
    },
    {
     "name": "stdout",
     "output_type": "stream",
     "text": [
      "https://sakala.postimees.ee/2388973/hoberemmelga-elu-sai-otsa\n",
      "https://arvamus.postimees.ee/4152939/haabersti-linnaosavanem-paneb-imestama-kuidas-puukaitsjad-ei-suuda-aduda-suurt-pilti\n"
     ]
    },
    {
     "name": "stderr",
     "output_type": "stream",
     "text": [
      "\r",
      " 92%|███████████████████████████████████████████████████████████████████████████▋      | 84/91 [00:22<00:01,  4.09it/s]"
     ]
    },
    {
     "name": "stdout",
     "output_type": "stream",
     "text": [
      "https://www.postimees.ee/4171399/lippu-ja-ruuporit-tagasi-noudnud-puukaitsja-sai-politseilt-ootamatu-kone\n"
     ]
    },
    {
     "name": "stderr",
     "output_type": "stream",
     "text": [
      "\r",
      " 93%|████████████████████████████████████████████████████████████████████████████▌     | 85/91 [00:23<00:03,  1.67it/s]"
     ]
    },
    {
     "name": "stdout",
     "output_type": "stream",
     "text": [
      "https://arvamus.postimees.ee/4163901/tingel-tangel-tungel-kara-tais-on-dzungel\n"
     ]
    },
    {
     "name": "stderr",
     "output_type": "stream",
     "text": [
      "\r",
      " 95%|█████████████████████████████████████████████████████████████████████████████▍    | 86/91 [00:24<00:02,  2.01it/s]"
     ]
    },
    {
     "name": "stdout",
     "output_type": "stream",
     "text": [
      "https://tv.postimees.ee/6401543/peeter-ernits-lahkus-keskerakonnast-ja-liitub-ekre-ga\n"
     ]
    },
    {
     "name": "stderr",
     "output_type": "stream",
     "text": [
      "\r",
      " 96%|██████████████████████████████████████████████████████████████████████████████▍   | 87/91 [00:24<00:01,  2.32it/s]"
     ]
    },
    {
     "name": "stdout",
     "output_type": "stream",
     "text": [
      "https://www.postimees.ee/4137091/tulikas-pajupuu-on-asjassepuutuvad-ametid-segadusse-ajanud\n"
     ]
    },
    {
     "name": "stderr",
     "output_type": "stream",
     "text": [
      "\r",
      " 97%|███████████████████████████████████████████████████████████████████████████████▎  | 88/91 [00:24<00:01,  2.66it/s]"
     ]
    },
    {
     "name": "stdout",
     "output_type": "stream",
     "text": [
      "https://www.postimees.ee/4144853/haabersti-hoberemmelgas-voetakse-siiski-maha\n"
     ]
    },
    {
     "name": "stderr",
     "output_type": "stream",
     "text": [
      "\r",
      " 98%|████████████████████████████████████████████████████████████████████████████████▏ | 89/91 [00:24<00:00,  2.97it/s]"
     ]
    },
    {
     "name": "stdout",
     "output_type": "stream",
     "text": [
      "https://virumaateataja.postimees.ee/4166605/nuud-ma-enam-ei-valista-et-voin-lennata-ka-kuule\n"
     ]
    },
    {
     "name": "stderr",
     "output_type": "stream",
     "text": [
      "\r",
      " 99%|█████████████████████████████████████████████████████████████████████████████████ | 90/91 [00:25<00:00,  3.29it/s]"
     ]
    },
    {
     "name": "stdout",
     "output_type": "stream",
     "text": [
      "https://tartu.postimees.ee/3352731/raske-valik-kas-paplivilla-ujuka-voi-pardi-tanav\n"
     ]
    },
    {
     "name": "stderr",
     "output_type": "stream",
     "text": [
      "100%|██████████████████████████████████████████████████████████████████████████████████| 91/91 [00:25<00:00,  3.58it/s]\n"
     ]
    }
   ],
   "source": [
    "# Postimees Grupp tekstide kogumine\n",
    "headers = requests.utils.default_headers()\n",
    "headers.update(\n",
    "  { 'User-Agent': 'my crawler (anneliis@ut.ee) / on studying purpose', }\n",
    ")\n",
    "\n",
    "ajad = []\n",
    "valjaanded = []\n",
    "pealkirjad_pm = []\n",
    "tekstid_pm = []\n",
    "marksonad = []\n",
    "\n",
    "\n",
    "for url in tqdm(res):\n",
    "    print(url)\n",
    "    try:\n",
    "        yhendatud_tekst = []\n",
    "        response = requests.get(url, headers=headers)\n",
    "        soup = BeautifulSoup(response.text, 'html.parser')\n",
    "\n",
    "        pealkiri = soup.find(\"meta\", {\"property\" :\"og:title\"})['content']\n",
    "        \n",
    "        aeg = soup.find(\"meta\", {\"name\" : \"article:published_time\"})['content']\n",
    "        \n",
    "        väljaanne = soup.find(\"meta\", {\"property\" : \"og:site_name\"})['content']\n",
    "        \n",
    "        marksona = soup.find(\"meta\", {\"name\" : \"keywords\"})['content']\n",
    "               \n",
    "        tekst = soup.findAll(\"div\",{\"class\" : \"article-body\"})\n",
    "        \n",
    "        for t in tekst:\n",
    "            p = t.find_all('p')\n",
    "            for r in p:\n",
    "                yhendatud_tekst.append(r.text)\n",
    "          \n",
    "        tekstid_pm.append(yhendatud_tekst)\n",
    "        \n",
    "    except Exception as e:\n",
    "        print(\"Exception is :\", e, url)\n",
    "    \n",
    "    ajad.append(aeg)\n",
    "    valjaanded.append(väljaanne)\n",
    "    pealkirjad_pm.append(pealkiri)\n",
    "    marksonad.append(marksona)\n",
    "    artikkel_pm = [' '.join(article) for article in tekstid_pm]"
   ]
  },
  {
   "cell_type": "code",
   "execution_count": 23,
   "metadata": {},
   "outputs": [],
   "source": [
    "artiklid_pm = {'title': pealkirjad_pm, 'text': artikkel_pm, 'subject': valjaanded, 'date': ajad, 'keywords': marksonad, 'link': res}\n",
    "data_pm = pd.DataFrame(artiklid_pm, columns = ['title', 'text', 'subject', 'date', 'keywords', 'link'])"
   ]
  },
  {
   "cell_type": "code",
   "execution_count": 24,
   "metadata": {},
   "outputs": [
    {
     "data": {
      "text/html": [
       "<div>\n",
       "<style scoped>\n",
       "    .dataframe tbody tr th:only-of-type {\n",
       "        vertical-align: middle;\n",
       "    }\n",
       "\n",
       "    .dataframe tbody tr th {\n",
       "        vertical-align: top;\n",
       "    }\n",
       "\n",
       "    .dataframe thead th {\n",
       "        text-align: right;\n",
       "    }\n",
       "</style>\n",
       "<table border=\"1\" class=\"dataframe\">\n",
       "  <thead>\n",
       "    <tr style=\"text-align: right;\">\n",
       "      <th></th>\n",
       "      <th>title</th>\n",
       "      <th>text</th>\n",
       "      <th>subject</th>\n",
       "      <th>date</th>\n",
       "      <th>keywords</th>\n",
       "      <th>link</th>\n",
       "    </tr>\n",
       "  </thead>\n",
       "  <tbody>\n",
       "    <tr>\n",
       "      <th>0</th>\n",
       "      <td>Haabersti remmelgas nikerdati esemeteks</td>\n",
       "      <td>Riigimetsa Majandamise Keskuse Tallinna büroo ...</td>\n",
       "      <td>Tänane leht</td>\n",
       "      <td>2018-05-15T00:00:47+03:00</td>\n",
       "      <td></td>\n",
       "      <td>https://leht.postimees.ee/4488372/haabersti-re...</td>\n",
       "    </tr>\n",
       "    <tr>\n",
       "      <th>1</th>\n",
       "      <td>Merlis Nõgene: kurvad klounid ja puupõhine loo...</td>\n",
       "      <td>Kõnekäänd ütleb, et kui sa mind üks kord alt t...</td>\n",
       "      <td>Arvamus</td>\n",
       "      <td>2017-06-19T13:40:19+03:00</td>\n",
       "      <td>Eestimaa Rohelised, erakond eestimaa rohelised...</td>\n",
       "      <td>https://arvamus.postimees.ee/4151373/merlis-no...</td>\n",
       "    </tr>\n",
       "    <tr>\n",
       "      <th>2</th>\n",
       "      <td>Jazz massidesse – Philly Joe's avab taas uksed</td>\n",
       "      <td>Kuus aastat tagasi astus Eesti üks tuntumaid t...</td>\n",
       "      <td>Muusika</td>\n",
       "      <td>2018-01-08T14:56:04+02:00</td>\n",
       "      <td>Eesti, eesti kultuurkapital, Euroopa, jazz, ja...</td>\n",
       "      <td>https://kultuur.postimees.ee/4368197/jazz-mass...</td>\n",
       "    </tr>\n",
       "    <tr>\n",
       "      <th>3</th>\n",
       "      <td>Arborist: küsimus ei ole vaid ühes puus</td>\n",
       "      <td>Tallinnas Haabersti hõberemmelga ümber toimuv ...</td>\n",
       "      <td>Arvamus</td>\n",
       "      <td>2017-06-19T18:45:09+03:00</td>\n",
       "      <td>haabersti, hõberemmelgas</td>\n",
       "      <td>https://arvamus.postimees.ee/4152009/arborist-...</td>\n",
       "    </tr>\n",
       "    <tr>\n",
       "      <th>4</th>\n",
       "      <td>Hõberemmelga kaitseks tehtud petitsioon on kog...</td>\n",
       "      <td>Tallinnas Paldiski maantee ääres kasvavat suur...</td>\n",
       "      <td>Tallinn</td>\n",
       "      <td>2017-06-18T15:00:38+03:00</td>\n",
       "      <td>hõberemmelgas, loodusesõber, petitsioon</td>\n",
       "      <td>https://www.postimees.ee/4150539/hoberemmelga-...</td>\n",
       "    </tr>\n",
       "    <tr>\n",
       "      <th>...</th>\n",
       "      <td>...</td>\n",
       "      <td>...</td>\n",
       "      <td>...</td>\n",
       "      <td>...</td>\n",
       "      <td>...</td>\n",
       "      <td>...</td>\n",
       "    </tr>\n",
       "    <tr>\n",
       "      <th>86</th>\n",
       "      <td>Peeter Ernits lahkus Keskerakonnast ja liitub ...</td>\n",
       "      <td>Peeter Ernits lahkus esmaspäeval Keskerakonnas...</td>\n",
       "      <td>Otse Postimehest</td>\n",
       "      <td>2018-09-10T13:26:41+03:00</td>\n",
       "      <td>Eesti Keskerakond, Peeter Ernits, Riigikogu</td>\n",
       "      <td>https://tv.postimees.ee/6401543/peeter-ernits-...</td>\n",
       "    </tr>\n",
       "    <tr>\n",
       "      <th>87</th>\n",
       "      <td>Tülikas pajupuu on asjassepuutuvad ametid sega...</td>\n",
       "      <td>Haaberstis asuv hõberemmelgas, mille juures ak...</td>\n",
       "      <td>Tallinn</td>\n",
       "      <td>2017-06-07T10:15:54+03:00</td>\n",
       "      <td>Munitsipaalpolitsei</td>\n",
       "      <td>https://www.postimees.ee/4137091/tulikas-pajup...</td>\n",
       "    </tr>\n",
       "    <tr>\n",
       "      <th>88</th>\n",
       "      <td>Haabersti hõberemmelgas võetakse siiski maha</td>\n",
       "      <td>Paldiski maanteel asuvat, tee-ehitusele ette j...</td>\n",
       "      <td>Tallinn</td>\n",
       "      <td>2017-06-13T13:27:41+03:00</td>\n",
       "      <td>haabersti</td>\n",
       "      <td>https://www.postimees.ee/4144853/haabersti-hob...</td>\n",
       "    </tr>\n",
       "    <tr>\n",
       "      <th>89</th>\n",
       "      <td>Nüüd ma enam ei välista, et võin lennata ka Ku...</td>\n",
       "      <td>Juunikuises töökohavahetuses on minu jaoks ikk...</td>\n",
       "      <td>Paberleht</td>\n",
       "      <td>2017-07-04T01:05:00+03:00</td>\n",
       "      <td></td>\n",
       "      <td>https://virumaateataja.postimees.ee/4166605/nu...</td>\n",
       "    </tr>\n",
       "    <tr>\n",
       "      <th>90</th>\n",
       "      <td>Raske valik: kas Paplivilla, Ujuka või Pardi t...</td>\n",
       "      <td>Rahvas on rääkinud ja pakkunud Tartus uuele tä...</td>\n",
       "      <td>Uudised</td>\n",
       "      <td>2015-10-06T15:46:29+03:00</td>\n",
       "      <td>pakkumised, tänav</td>\n",
       "      <td>https://tartu.postimees.ee/3352731/raske-valik...</td>\n",
       "    </tr>\n",
       "  </tbody>\n",
       "</table>\n",
       "<p>91 rows × 6 columns</p>\n",
       "</div>"
      ],
      "text/plain": [
       "                                                title  \\\n",
       "0             Haabersti remmelgas nikerdati esemeteks   \n",
       "1   Merlis Nõgene: kurvad klounid ja puupõhine loo...   \n",
       "2     Jazz massidesse – Philly Joe's avab taas uksed    \n",
       "3             Arborist: küsimus ei ole vaid ühes puus   \n",
       "4   Hõberemmelga kaitseks tehtud petitsioon on kog...   \n",
       "..                                                ...   \n",
       "86  Peeter Ernits lahkus Keskerakonnast ja liitub ...   \n",
       "87  Tülikas pajupuu on asjassepuutuvad ametid sega...   \n",
       "88       Haabersti hõberemmelgas võetakse siiski maha   \n",
       "89  Nüüd ma enam ei välista, et võin lennata ka Ku...   \n",
       "90  Raske valik: kas Paplivilla, Ujuka või Pardi t...   \n",
       "\n",
       "                                                 text           subject  \\\n",
       "0   Riigimetsa Majandamise Keskuse Tallinna büroo ...       Tänane leht   \n",
       "1   Kõnekäänd ütleb, et kui sa mind üks kord alt t...           Arvamus   \n",
       "2   Kuus aastat tagasi astus Eesti üks tuntumaid t...           Muusika   \n",
       "3   Tallinnas Haabersti hõberemmelga ümber toimuv ...           Arvamus   \n",
       "4   Tallinnas Paldiski maantee ääres kasvavat suur...           Tallinn   \n",
       "..                                                ...               ...   \n",
       "86  Peeter Ernits lahkus esmaspäeval Keskerakonnas...  Otse Postimehest   \n",
       "87  Haaberstis asuv hõberemmelgas, mille juures ak...           Tallinn   \n",
       "88  Paldiski maanteel asuvat, tee-ehitusele ette j...           Tallinn   \n",
       "89  Juunikuises töökohavahetuses on minu jaoks ikk...         Paberleht   \n",
       "90  Rahvas on rääkinud ja pakkunud Tartus uuele tä...           Uudised   \n",
       "\n",
       "                         date  \\\n",
       "0   2018-05-15T00:00:47+03:00   \n",
       "1   2017-06-19T13:40:19+03:00   \n",
       "2   2018-01-08T14:56:04+02:00   \n",
       "3   2017-06-19T18:45:09+03:00   \n",
       "4   2017-06-18T15:00:38+03:00   \n",
       "..                        ...   \n",
       "86  2018-09-10T13:26:41+03:00   \n",
       "87  2017-06-07T10:15:54+03:00   \n",
       "88  2017-06-13T13:27:41+03:00   \n",
       "89  2017-07-04T01:05:00+03:00   \n",
       "90  2015-10-06T15:46:29+03:00   \n",
       "\n",
       "                                             keywords  \\\n",
       "0                                                       \n",
       "1   Eestimaa Rohelised, erakond eestimaa rohelised...   \n",
       "2   Eesti, eesti kultuurkapital, Euroopa, jazz, ja...   \n",
       "3                            haabersti, hõberemmelgas   \n",
       "4             hõberemmelgas, loodusesõber, petitsioon   \n",
       "..                                                ...   \n",
       "86        Eesti Keskerakond, Peeter Ernits, Riigikogu   \n",
       "87                                Munitsipaalpolitsei   \n",
       "88                                          haabersti   \n",
       "89                                                      \n",
       "90                                  pakkumised, tänav   \n",
       "\n",
       "                                                 link  \n",
       "0   https://leht.postimees.ee/4488372/haabersti-re...  \n",
       "1   https://arvamus.postimees.ee/4151373/merlis-no...  \n",
       "2   https://kultuur.postimees.ee/4368197/jazz-mass...  \n",
       "3   https://arvamus.postimees.ee/4152009/arborist-...  \n",
       "4   https://www.postimees.ee/4150539/hoberemmelga-...  \n",
       "..                                                ...  \n",
       "86  https://tv.postimees.ee/6401543/peeter-ernits-...  \n",
       "87  https://www.postimees.ee/4137091/tulikas-pajup...  \n",
       "88  https://www.postimees.ee/4144853/haabersti-hob...  \n",
       "89  https://virumaateataja.postimees.ee/4166605/nu...  \n",
       "90  https://tartu.postimees.ee/3352731/raske-valik...  \n",
       "\n",
       "[91 rows x 6 columns]"
      ]
     },
     "execution_count": 24,
     "metadata": {},
     "output_type": "execute_result"
    }
   ],
   "source": [
    "data_pm"
   ]
  },
  {
   "cell_type": "code",
   "execution_count": 25,
   "metadata": {},
   "outputs": [],
   "source": [
    "data_pm.to_csv('remmelgas/data_postimees_hoberemmelgas.csv',index=False)\n",
    "read_file = pd.read_csv (r'remmelgas/data_postimees_hoberemmelgas.csv')\n",
    "read_file.to_excel (r'remmelgas/data_postimees_hoberemmelgas.xlsx', index = None, header=True)"
   ]
  }
 ],
 "metadata": {
  "kernelspec": {
   "display_name": "Python 3",
   "language": "python",
   "name": "python3"
  },
  "language_info": {
   "codemirror_mode": {
    "name": "ipython",
    "version": 3
   },
   "file_extension": ".py",
   "mimetype": "text/x-python",
   "name": "python",
   "nbconvert_exporter": "python",
   "pygments_lexer": "ipython3",
   "version": "3.6.10"
  }
 },
 "nbformat": 4,
 "nbformat_minor": 4
}
