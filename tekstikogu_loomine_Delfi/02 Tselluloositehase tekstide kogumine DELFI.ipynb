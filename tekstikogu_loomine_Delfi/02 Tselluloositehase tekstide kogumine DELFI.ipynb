{
 "cells": [
  {
   "cell_type": "markdown",
   "metadata": {},
   "source": [
    "# 02 \"Tselluloositehas\" kogumine Delfi veebilehelt"
   ]
  },
  {
   "cell_type": "code",
   "execution_count": 1,
   "metadata": {},
   "outputs": [],
   "source": [
    "import pandas as pd\n",
    "import matplotlib.pyplot as plt\n",
    "import requests\n",
    "import csv\n",
    "from bs4 import BeautifulSoup\n",
    "import pandas as pd\n",
    "from tqdm import tqdm\n",
    "from wordcloud import WordCloud\n",
    "from estnltk import Text\n",
    "import re"
   ]
  },
  {
   "cell_type": "markdown",
   "metadata": {},
   "source": [
    "Delfi veebilehtelt koguti veebiämblikuga uudisartiklite lingid. Kogutud lingid on failis:  delfiscraper/delfiscraper/spiders/delfi_lingid_tselluloositehas.csv\n",
    "Linkide kogumiseks kasutatud valikukriteeriumid:\n",
    "\n",
    "https://old.delfi.ee/archive/?tod=18.03.2022&fromd=01.01.2016&channel=1&category=0&query=tselluloositehas\n",
    "1) periood: 01.01.2016 – 18.03.2022\n",
    "\n",
    "2) kanal: Delfi\n",
    "\n",
    "3) kategooria: kõik"
   ]
  },
  {
   "cell_type": "code",
   "execution_count": 2,
   "metadata": {},
   "outputs": [
    {
     "name": "stdout",
     "output_type": "stream",
     "text": [
      "86\n"
     ]
    }
   ],
   "source": [
    "# Delfi veebilehelt veebiämblikuga kogutud lingid loetakse listi\n",
    "\n",
    "# list Delfi linkide jaoks\n",
    "urls_delfi_toor = []\n",
    "\n",
    "with open('delfiscraper/delfiscraper/spiders/delfi_lingid_tselluloositehas.csv', 'r', encoding = 'utf-8') as f:\n",
    "    reader = csv.reader(f)\n",
    "    for line in reader:\n",
    "        if line != []:\n",
    "            urls_delfi_toor.append(line[0])\n",
    "# linkide failis esimene rida ei ole uudise link\n",
    "print(len(urls_delfi_toor)-1)"
   ]
  },
  {
   "cell_type": "code",
   "execution_count": 3,
   "metadata": {},
   "outputs": [
    {
     "name": "stdout",
     "output_type": "stream",
     "text": [
      "Delfi veebilehtedelt kogutud linkide arv:  86\n"
     ]
    }
   ],
   "source": [
    "# võimalike topeltlinkide eemaldamine\n",
    "urls_delfi = list(dict.fromkeys(urls_delfi_toor))\n",
    "print(\"Delfi veebilehtedelt kogutud linkide arv: \", len(urls_delfi)-1)"
   ]
  },
  {
   "cell_type": "markdown",
   "metadata": {},
   "source": [
    "Delfi veebilehtedelt kogutud linkidelt saadakse BeautifulSoup abil järgmine info:\n",
    "\n",
    "1) väljaande nimi\n",
    "\n",
    "2) artikli pealkiri\n",
    "\n",
    "3) artikli tekst\n",
    "\n",
    "4) artikli publitseerimise kuupäev"
   ]
  },
  {
   "cell_type": "code",
   "execution_count": 4,
   "metadata": {},
   "outputs": [
    {
     "name": "stderr",
     "output_type": "stream",
     "text": [
      "  1%|▉                                                                                  | 1/86 [00:01<02:05,  1.48s/it]"
     ]
    },
    {
     "name": "stdout",
     "output_type": "stream",
     "text": [
      "Maaleht\n"
     ]
    },
    {
     "name": "stderr",
     "output_type": "stream",
     "text": [
      "\r",
      "  2%|█▉                                                                                 | 2/86 [00:01<01:35,  1.13s/it]"
     ]
    },
    {
     "name": "stdout",
     "output_type": "stream",
     "text": [
      "Maaleht\n"
     ]
    },
    {
     "name": "stderr",
     "output_type": "stream",
     "text": [
      "\r",
      "  3%|██▉                                                                                | 3/86 [00:03<01:53,  1.37s/it]"
     ]
    },
    {
     "name": "stdout",
     "output_type": "stream",
     "text": [
      "Eesti Päevaleht\n"
     ]
    },
    {
     "name": "stderr",
     "output_type": "stream",
     "text": [
      "\r",
      "  5%|███▊                                                                               | 4/86 [00:05<01:53,  1.39s/it]"
     ]
    },
    {
     "name": "stdout",
     "output_type": "stream",
     "text": [
      "Eesti Päevaleht\n"
     ]
    },
    {
     "name": "stderr",
     "output_type": "stream",
     "text": [
      "\r",
      "  6%|████▊                                                                              | 5/86 [00:05<01:37,  1.21s/it]"
     ]
    },
    {
     "name": "stdout",
     "output_type": "stream",
     "text": [
      "Delfi\n"
     ]
    },
    {
     "name": "stderr",
     "output_type": "stream",
     "text": [
      "\r",
      "  7%|█████▊                                                                             | 6/86 [00:07<01:42,  1.28s/it]"
     ]
    },
    {
     "name": "stdout",
     "output_type": "stream",
     "text": [
      "Ärileht\n"
     ]
    },
    {
     "name": "stderr",
     "output_type": "stream",
     "text": [
      "\r",
      "  8%|██████▊                                                                            | 7/86 [00:07<01:19,  1.00s/it]"
     ]
    },
    {
     "name": "stdout",
     "output_type": "stream",
     "text": [
      "Maaleht\n"
     ]
    },
    {
     "name": "stderr",
     "output_type": "stream",
     "text": [
      "\r",
      "  9%|███████▋                                                                           | 8/86 [00:09<01:25,  1.09s/it]"
     ]
    },
    {
     "name": "stdout",
     "output_type": "stream",
     "text": [
      "Eesti Päevaleht\n"
     ]
    },
    {
     "name": "stderr",
     "output_type": "stream",
     "text": [
      "\r",
      " 10%|████████▋                                                                          | 9/86 [00:09<01:07,  1.14it/s]"
     ]
    },
    {
     "name": "stdout",
     "output_type": "stream",
     "text": [
      "Eesti Ekspress\n"
     ]
    },
    {
     "name": "stderr",
     "output_type": "stream",
     "text": [
      "\r",
      " 12%|█████████▌                                                                        | 10/86 [00:09<00:54,  1.39it/s]"
     ]
    },
    {
     "name": "stdout",
     "output_type": "stream",
     "text": [
      "Maaleht\n"
     ]
    },
    {
     "name": "stderr",
     "output_type": "stream",
     "text": [
      "\r",
      " 13%|██████████▍                                                                       | 11/86 [00:10<00:46,  1.62it/s]"
     ]
    },
    {
     "name": "stdout",
     "output_type": "stream",
     "text": [
      "Eesti Ekspress\n"
     ]
    },
    {
     "name": "stderr",
     "output_type": "stream",
     "text": [
      "\r",
      " 14%|███████████▍                                                                      | 12/86 [00:10<00:40,  1.85it/s]"
     ]
    },
    {
     "name": "stdout",
     "output_type": "stream",
     "text": [
      "Eesti Ekspress\n"
     ]
    },
    {
     "name": "stderr",
     "output_type": "stream",
     "text": [
      "\r",
      " 15%|████████████▍                                                                     | 13/86 [00:11<00:57,  1.26it/s]"
     ]
    },
    {
     "name": "stdout",
     "output_type": "stream",
     "text": [
      "Delfi\n"
     ]
    },
    {
     "name": "stderr",
     "output_type": "stream",
     "text": [
      "\r",
      " 16%|█████████████▎                                                                    | 14/86 [00:13<01:11,  1.01it/s]"
     ]
    },
    {
     "name": "stdout",
     "output_type": "stream",
     "text": [
      "Eesti Ekspress\n"
     ]
    },
    {
     "name": "stderr",
     "output_type": "stream",
     "text": [
      "\r",
      " 17%|██████████████▎                                                                   | 15/86 [00:13<00:56,  1.25it/s]"
     ]
    },
    {
     "name": "stdout",
     "output_type": "stream",
     "text": [
      "Maaleht\n"
     ]
    },
    {
     "name": "stderr",
     "output_type": "stream",
     "text": [
      "\r",
      " 19%|███████████████▎                                                                  | 16/86 [00:15<01:19,  1.13s/it]"
     ]
    },
    {
     "name": "stdout",
     "output_type": "stream",
     "text": [
      "Delfi\n"
     ]
    },
    {
     "name": "stderr",
     "output_type": "stream",
     "text": [
      "\r",
      " 20%|████████████████▏                                                                 | 17/86 [00:17<01:43,  1.50s/it]"
     ]
    },
    {
     "name": "stdout",
     "output_type": "stream",
     "text": [
      "Delfi\n"
     ]
    },
    {
     "name": "stderr",
     "output_type": "stream",
     "text": [
      "\r",
      " 21%|█████████████████▏                                                                | 18/86 [00:18<01:29,  1.31s/it]"
     ]
    },
    {
     "name": "stdout",
     "output_type": "stream",
     "text": [
      "Eesti Ekspress\n"
     ]
    },
    {
     "name": "stderr",
     "output_type": "stream",
     "text": [
      "\r",
      " 22%|██████████████████                                                                | 19/86 [00:19<01:08,  1.03s/it]"
     ]
    },
    {
     "name": "stdout",
     "output_type": "stream",
     "text": [
      "Maaleht\n"
     ]
    },
    {
     "name": "stderr",
     "output_type": "stream",
     "text": [
      "\r",
      " 23%|███████████████████                                                               | 20/86 [00:20<01:11,  1.09s/it]"
     ]
    },
    {
     "name": "stdout",
     "output_type": "stream",
     "text": [
      "Eesti Ekspress\n"
     ]
    },
    {
     "name": "stderr",
     "output_type": "stream",
     "text": [
      "\r",
      " 24%|████████████████████                                                              | 21/86 [00:20<00:57,  1.13it/s]"
     ]
    },
    {
     "name": "stdout",
     "output_type": "stream",
     "text": [
      "Maaleht\n"
     ]
    },
    {
     "name": "stderr",
     "output_type": "stream",
     "text": [
      "\r",
      " 26%|████████████████████▉                                                             | 22/86 [00:22<01:09,  1.08s/it]"
     ]
    },
    {
     "name": "stdout",
     "output_type": "stream",
     "text": [
      "Delfi\n"
     ]
    },
    {
     "name": "stderr",
     "output_type": "stream",
     "text": [
      "\r",
      " 27%|█████████████████████▉                                                            | 23/86 [00:22<00:55,  1.13it/s]"
     ]
    },
    {
     "name": "stdout",
     "output_type": "stream",
     "text": [
      "Maaleht\n"
     ]
    },
    {
     "name": "stderr",
     "output_type": "stream",
     "text": [
      "\r",
      " 28%|██████████████████████▉                                                           | 24/86 [00:24<01:17,  1.24s/it]"
     ]
    },
    {
     "name": "stdout",
     "output_type": "stream",
     "text": [
      "Delfi\n"
     ]
    },
    {
     "name": "stderr",
     "output_type": "stream",
     "text": [
      "\r",
      " 29%|███████████████████████▊                                                          | 25/86 [00:26<01:26,  1.42s/it]"
     ]
    },
    {
     "name": "stdout",
     "output_type": "stream",
     "text": [
      "Delfi\n"
     ]
    },
    {
     "name": "stderr",
     "output_type": "stream",
     "text": [
      "\r",
      " 30%|████████████████████████▊                                                         | 26/86 [00:28<01:32,  1.54s/it]"
     ]
    },
    {
     "name": "stdout",
     "output_type": "stream",
     "text": [
      "Delfi\n"
     ]
    },
    {
     "name": "stderr",
     "output_type": "stream",
     "text": [
      "\r",
      " 31%|█████████████████████████▋                                                        | 27/86 [00:30<01:39,  1.69s/it]"
     ]
    },
    {
     "name": "stdout",
     "output_type": "stream",
     "text": [
      "Delfi\n"
     ]
    },
    {
     "name": "stderr",
     "output_type": "stream",
     "text": [
      "\r",
      " 33%|██████████████████████████▋                                                       | 28/86 [00:32<01:40,  1.73s/it]"
     ]
    },
    {
     "name": "stdout",
     "output_type": "stream",
     "text": [
      "Delfi\n"
     ]
    },
    {
     "name": "stderr",
     "output_type": "stream",
     "text": [
      "\r",
      " 34%|███████████████████████████▋                                                      | 29/86 [00:32<01:14,  1.30s/it]"
     ]
    },
    {
     "name": "stdout",
     "output_type": "stream",
     "text": [
      "Maaleht\n"
     ]
    },
    {
     "name": "stderr",
     "output_type": "stream",
     "text": [
      "\r",
      " 35%|████████████████████████████▌                                                     | 30/86 [00:32<00:55,  1.00it/s]"
     ]
    },
    {
     "name": "stdout",
     "output_type": "stream",
     "text": [
      "Maaleht\n"
     ]
    },
    {
     "name": "stderr",
     "output_type": "stream",
     "text": [
      "\r",
      " 36%|█████████████████████████████▌                                                    | 31/86 [00:34<01:06,  1.21s/it]"
     ]
    },
    {
     "name": "stdout",
     "output_type": "stream",
     "text": [
      "Delfi\n"
     ]
    },
    {
     "name": "stderr",
     "output_type": "stream",
     "text": [
      "\r",
      " 37%|██████████████████████████████▌                                                   | 32/86 [00:36<01:15,  1.40s/it]"
     ]
    },
    {
     "name": "stdout",
     "output_type": "stream",
     "text": [
      "Eesti Ekspress\n"
     ]
    },
    {
     "name": "stderr",
     "output_type": "stream",
     "text": [
      "\r",
      " 38%|███████████████████████████████▍                                                  | 33/86 [00:38<01:19,  1.49s/it]"
     ]
    },
    {
     "name": "stdout",
     "output_type": "stream",
     "text": [
      "Eesti Ekspress\n"
     ]
    },
    {
     "name": "stderr",
     "output_type": "stream",
     "text": [
      "\r",
      " 40%|████████████████████████████████▍                                                 | 34/86 [00:38<01:00,  1.16s/it]"
     ]
    },
    {
     "name": "stdout",
     "output_type": "stream",
     "text": [
      "Maaleht\n"
     ]
    },
    {
     "name": "stderr",
     "output_type": "stream",
     "text": [
      "\r",
      " 41%|█████████████████████████████████▎                                                | 35/86 [00:39<01:01,  1.21s/it]"
     ]
    },
    {
     "name": "stdout",
     "output_type": "stream",
     "text": [
      "Delfi\n"
     ]
    },
    {
     "name": "stderr",
     "output_type": "stream",
     "text": [
      "\r",
      " 42%|██████████████████████████████████▎                                               | 36/86 [00:41<01:07,  1.34s/it]"
     ]
    },
    {
     "name": "stdout",
     "output_type": "stream",
     "text": [
      "Delfi\n"
     ]
    },
    {
     "name": "stderr",
     "output_type": "stream",
     "text": [
      "\r",
      " 43%|███████████████████████████████████▎                                              | 37/86 [00:44<01:22,  1.69s/it]"
     ]
    },
    {
     "name": "stdout",
     "output_type": "stream",
     "text": [
      "Delfi\n"
     ]
    },
    {
     "name": "stderr",
     "output_type": "stream",
     "text": [
      "\r",
      " 44%|████████████████████████████████████▏                                             | 38/86 [00:45<01:19,  1.66s/it]"
     ]
    },
    {
     "name": "stdout",
     "output_type": "stream",
     "text": [
      "Eesti Päevaleht\n"
     ]
    },
    {
     "name": "stderr",
     "output_type": "stream",
     "text": [
      "\r",
      " 45%|█████████████████████████████████████▏                                            | 39/86 [00:48<01:30,  1.93s/it]"
     ]
    },
    {
     "name": "stdout",
     "output_type": "stream",
     "text": [
      "Eesti Ekspress\n"
     ]
    },
    {
     "name": "stderr",
     "output_type": "stream",
     "text": [
      "\r",
      " 47%|██████████████████████████████████████▏                                           | 40/86 [00:50<01:28,  1.92s/it]"
     ]
    },
    {
     "name": "stdout",
     "output_type": "stream",
     "text": [
      "Delfi\n"
     ]
    },
    {
     "name": "stderr",
     "output_type": "stream",
     "text": [
      "\r",
      " 48%|███████████████████████████████████████                                           | 41/86 [00:52<01:26,  1.92s/it]"
     ]
    },
    {
     "name": "stdout",
     "output_type": "stream",
     "text": [
      "Maaleht\n"
     ]
    },
    {
     "name": "stderr",
     "output_type": "stream",
     "text": [
      "\r",
      " 49%|████████████████████████████████████████                                          | 42/86 [00:53<01:18,  1.78s/it]"
     ]
    },
    {
     "name": "stdout",
     "output_type": "stream",
     "text": [
      "Delfi\n"
     ]
    },
    {
     "name": "stderr",
     "output_type": "stream",
     "text": [
      "\r",
      " 50%|█████████████████████████████████████████                                         | 43/86 [00:55<01:12,  1.69s/it]"
     ]
    },
    {
     "name": "stdout",
     "output_type": "stream",
     "text": [
      "Delfi\n"
     ]
    },
    {
     "name": "stderr",
     "output_type": "stream",
     "text": [
      "\r",
      " 51%|█████████████████████████████████████████▉                                        | 44/86 [00:57<01:16,  1.82s/it]"
     ]
    },
    {
     "name": "stdout",
     "output_type": "stream",
     "text": [
      "Delfi\n"
     ]
    },
    {
     "name": "stderr",
     "output_type": "stream",
     "text": [
      "\r",
      " 52%|██████████████████████████████████████████▉                                       | 45/86 [00:59<01:21,  1.99s/it]"
     ]
    },
    {
     "name": "stdout",
     "output_type": "stream",
     "text": [
      "Eesti Ekspress\n"
     ]
    },
    {
     "name": "stderr",
     "output_type": "stream",
     "text": [
      "\r",
      " 53%|███████████████████████████████████████████▊                                      | 46/86 [01:00<01:12,  1.81s/it]"
     ]
    },
    {
     "name": "stdout",
     "output_type": "stream",
     "text": [
      "Eesti Ekspress\n"
     ]
    },
    {
     "name": "stderr",
     "output_type": "stream",
     "text": [
      "\r",
      " 55%|████████████████████████████████████████████▊                                     | 47/86 [01:02<01:06,  1.72s/it]"
     ]
    },
    {
     "name": "stdout",
     "output_type": "stream",
     "text": [
      "Delfi\n"
     ]
    },
    {
     "name": "stderr",
     "output_type": "stream",
     "text": [
      "\r",
      " 56%|█████████████████████████████████████████████▊                                    | 48/86 [01:04<01:06,  1.76s/it]"
     ]
    },
    {
     "name": "stdout",
     "output_type": "stream",
     "text": [
      "Delfi\n"
     ]
    },
    {
     "name": "stderr",
     "output_type": "stream",
     "text": [
      "\r",
      " 57%|██████████████████████████████████████████████▋                                   | 49/86 [01:05<01:04,  1.73s/it]"
     ]
    },
    {
     "name": "stdout",
     "output_type": "stream",
     "text": [
      "Delfi\n"
     ]
    },
    {
     "name": "stderr",
     "output_type": "stream",
     "text": [
      "\r",
      " 58%|███████████████████████████████████████████████▋                                  | 50/86 [01:07<00:58,  1.63s/it]"
     ]
    },
    {
     "name": "stdout",
     "output_type": "stream",
     "text": [
      "Eesti Päevaleht\n"
     ]
    },
    {
     "name": "stderr",
     "output_type": "stream",
     "text": [
      "\r",
      " 59%|████████████████████████████████████████████████▋                                 | 51/86 [01:08<00:53,  1.53s/it]"
     ]
    },
    {
     "name": "stdout",
     "output_type": "stream",
     "text": [
      "Delfi\n"
     ]
    },
    {
     "name": "stderr",
     "output_type": "stream",
     "text": [
      "\r",
      " 60%|█████████████████████████████████████████████████▌                                | 52/86 [01:10<00:50,  1.50s/it]"
     ]
    },
    {
     "name": "stdout",
     "output_type": "stream",
     "text": [
      "Maaleht\n"
     ]
    },
    {
     "name": "stderr",
     "output_type": "stream",
     "text": [
      "\r",
      " 62%|██████████████████████████████████████████████████▌                               | 53/86 [01:11<00:49,  1.49s/it]"
     ]
    },
    {
     "name": "stdout",
     "output_type": "stream",
     "text": [
      "Delfi\n"
     ]
    },
    {
     "name": "stderr",
     "output_type": "stream",
     "text": [
      "\r",
      " 63%|███████████████████████████████████████████████████▍                              | 54/86 [01:12<00:46,  1.45s/it]"
     ]
    },
    {
     "name": "stdout",
     "output_type": "stream",
     "text": [
      "Eesti Ekspress\n"
     ]
    },
    {
     "name": "stderr",
     "output_type": "stream",
     "text": [
      "\r",
      " 64%|████████████████████████████████████████████████████▍                             | 55/86 [01:14<00:45,  1.46s/it]"
     ]
    },
    {
     "name": "stdout",
     "output_type": "stream",
     "text": [
      "Eesti Ekspress\n"
     ]
    },
    {
     "name": "stderr",
     "output_type": "stream",
     "text": [
      "\r",
      " 65%|█████████████████████████████████████████████████████▍                            | 56/86 [01:16<00:46,  1.56s/it]"
     ]
    },
    {
     "name": "stdout",
     "output_type": "stream",
     "text": [
      "Maaleht\n"
     ]
    },
    {
     "name": "stderr",
     "output_type": "stream",
     "text": [
      "\r",
      " 66%|██████████████████████████████████████████████████████▎                           | 57/86 [01:17<00:45,  1.57s/it]"
     ]
    },
    {
     "name": "stdout",
     "output_type": "stream",
     "text": [
      "Eesti Ekspress\n"
     ]
    },
    {
     "name": "stderr",
     "output_type": "stream",
     "text": [
      "\r",
      " 67%|███████████████████████████████████████████████████████▎                          | 58/86 [01:19<00:45,  1.63s/it]"
     ]
    },
    {
     "name": "stdout",
     "output_type": "stream",
     "text": [
      "Delfi\n"
     ]
    },
    {
     "name": "stderr",
     "output_type": "stream",
     "text": [
      "\r",
      " 69%|████████████████████████████████████████████████████████▎                         | 59/86 [01:21<00:43,  1.60s/it]"
     ]
    },
    {
     "name": "stdout",
     "output_type": "stream",
     "text": [
      "Delfi\n"
     ]
    },
    {
     "name": "stderr",
     "output_type": "stream",
     "text": [
      "\r",
      " 70%|█████████████████████████████████████████████████████████▏                        | 60/86 [01:22<00:43,  1.65s/it]"
     ]
    },
    {
     "name": "stdout",
     "output_type": "stream",
     "text": [
      "Maaleht\n"
     ]
    },
    {
     "name": "stderr",
     "output_type": "stream",
     "text": [
      "\r",
      " 71%|██████████████████████████████████████████████████████████▏                       | 61/86 [01:24<00:38,  1.53s/it]"
     ]
    },
    {
     "name": "stdout",
     "output_type": "stream",
     "text": [
      "Maaleht\n"
     ]
    },
    {
     "name": "stderr",
     "output_type": "stream",
     "text": [
      "\r",
      " 72%|███████████████████████████████████████████████████████████                       | 62/86 [01:26<00:46,  1.94s/it]"
     ]
    },
    {
     "name": "stdout",
     "output_type": "stream",
     "text": [
      "Eesti Ekspress\n"
     ]
    },
    {
     "name": "stderr",
     "output_type": "stream",
     "text": [
      "\r",
      " 73%|████████████████████████████████████████████████████████████                      | 63/86 [01:28<00:42,  1.84s/it]"
     ]
    },
    {
     "name": "stdout",
     "output_type": "stream",
     "text": [
      "Maaleht\n"
     ]
    },
    {
     "name": "stderr",
     "output_type": "stream",
     "text": [
      "\r",
      " 74%|█████████████████████████████████████████████████████████████                     | 64/86 [01:30<00:42,  1.92s/it]"
     ]
    },
    {
     "name": "stdout",
     "output_type": "stream",
     "text": [
      "Maaleht\n"
     ]
    },
    {
     "name": "stderr",
     "output_type": "stream",
     "text": [
      "\r",
      " 76%|█████████████████████████████████████████████████████████████▉                    | 65/86 [01:32<00:37,  1.81s/it]"
     ]
    },
    {
     "name": "stdout",
     "output_type": "stream",
     "text": [
      "Delfi\n"
     ]
    },
    {
     "name": "stderr",
     "output_type": "stream",
     "text": [
      "\r",
      " 77%|██████████████████████████████████████████████████████████████▉                   | 66/86 [01:32<00:27,  1.37s/it]"
     ]
    },
    {
     "name": "stdout",
     "output_type": "stream",
     "text": [
      "Ärileht\n"
     ]
    },
    {
     "name": "stderr",
     "output_type": "stream",
     "text": [
      "\r",
      " 78%|███████████████████████████████████████████████████████████████▉                  | 67/86 [01:34<00:28,  1.51s/it]"
     ]
    },
    {
     "name": "stdout",
     "output_type": "stream",
     "text": [
      "Delfi\n"
     ]
    },
    {
     "name": "stderr",
     "output_type": "stream",
     "text": [
      "\r",
      " 79%|████████████████████████████████████████████████████████████████▊                 | 68/86 [01:34<00:20,  1.16s/it]"
     ]
    },
    {
     "name": "stdout",
     "output_type": "stream",
     "text": [
      "Ärileht\n"
     ]
    },
    {
     "name": "stderr",
     "output_type": "stream",
     "text": [
      "\r",
      " 80%|█████████████████████████████████████████████████████████████████▊                | 69/86 [01:36<00:22,  1.31s/it]"
     ]
    },
    {
     "name": "stdout",
     "output_type": "stream",
     "text": [
      "Delfi\n"
     ]
    },
    {
     "name": "stderr",
     "output_type": "stream",
     "text": [
      "\r",
      " 81%|██████████████████████████████████████████████████████████████████▋               | 70/86 [01:37<00:21,  1.34s/it]"
     ]
    },
    {
     "name": "stdout",
     "output_type": "stream",
     "text": [
      "Delfi\n"
     ]
    },
    {
     "name": "stderr",
     "output_type": "stream",
     "text": [
      "\r",
      " 83%|███████████████████████████████████████████████████████████████████▋              | 71/86 [01:40<00:25,  1.72s/it]"
     ]
    },
    {
     "name": "stdout",
     "output_type": "stream",
     "text": [
      "Delfi\n"
     ]
    },
    {
     "name": "stderr",
     "output_type": "stream",
     "text": [
      "\r",
      " 84%|████████████████████████████████████████████████████████████████████▋             | 72/86 [01:41<00:23,  1.65s/it]"
     ]
    },
    {
     "name": "stdout",
     "output_type": "stream",
     "text": [
      "Eesti Päevaleht\n"
     ]
    },
    {
     "name": "stderr",
     "output_type": "stream",
     "text": [
      "\r",
      " 85%|█████████████████████████████████████████████████████████████████████▌            | 73/86 [01:43<00:21,  1.62s/it]"
     ]
    },
    {
     "name": "stdout",
     "output_type": "stream",
     "text": [
      "Eesti Ekspress\n"
     ]
    },
    {
     "name": "stderr",
     "output_type": "stream",
     "text": [
      "\r",
      " 86%|██████████████████████████████████████████████████████████████████████▌           | 74/86 [01:44<00:18,  1.55s/it]"
     ]
    },
    {
     "name": "stdout",
     "output_type": "stream",
     "text": [
      "Eesti Ekspress\n"
     ]
    },
    {
     "name": "stderr",
     "output_type": "stream",
     "text": [
      "\r",
      " 87%|███████████████████████████████████████████████████████████████████████▌          | 75/86 [01:46<00:16,  1.50s/it]"
     ]
    },
    {
     "name": "stdout",
     "output_type": "stream",
     "text": [
      "Delfi\n"
     ]
    },
    {
     "name": "stderr",
     "output_type": "stream",
     "text": [
      "\r",
      " 88%|████████████████████████████████████████████████████████████████████████▍         | 76/86 [01:47<00:14,  1.47s/it]"
     ]
    },
    {
     "name": "stdout",
     "output_type": "stream",
     "text": [
      "Eesti Ekspress\n"
     ]
    },
    {
     "name": "stderr",
     "output_type": "stream",
     "text": [
      "\r",
      " 90%|█████████████████████████████████████████████████████████████████████████▍        | 77/86 [01:48<00:12,  1.40s/it]"
     ]
    },
    {
     "name": "stdout",
     "output_type": "stream",
     "text": [
      "Eesti Ekspress\n"
     ]
    },
    {
     "name": "stderr",
     "output_type": "stream",
     "text": [
      "\r",
      " 91%|██████████████████████████████████████████████████████████████████████████▎       | 78/86 [01:50<00:11,  1.43s/it]"
     ]
    },
    {
     "name": "stdout",
     "output_type": "stream",
     "text": [
      "Eesti Ekspress\n"
     ]
    },
    {
     "name": "stderr",
     "output_type": "stream",
     "text": [
      "\r",
      " 92%|███████████████████████████████████████████████████████████████████████████▎      | 79/86 [01:52<00:10,  1.53s/it]"
     ]
    },
    {
     "name": "stdout",
     "output_type": "stream",
     "text": [
      "Eesti Ekspress\n"
     ]
    },
    {
     "name": "stderr",
     "output_type": "stream",
     "text": [
      "\r",
      " 93%|████████████████████████████████████████████████████████████████████████████▎     | 80/86 [01:53<00:09,  1.62s/it]"
     ]
    },
    {
     "name": "stdout",
     "output_type": "stream",
     "text": [
      "Maaleht\n"
     ]
    },
    {
     "name": "stderr",
     "output_type": "stream",
     "text": [
      "\r",
      " 94%|█████████████████████████████████████████████████████████████████████████████▏    | 81/86 [01:55<00:08,  1.64s/it]"
     ]
    },
    {
     "name": "stdout",
     "output_type": "stream",
     "text": [
      "Eesti Ekspress\n"
     ]
    },
    {
     "name": "stderr",
     "output_type": "stream",
     "text": [
      "\r",
      " 95%|██████████████████████████████████████████████████████████████████████████████▏   | 82/86 [01:57<00:06,  1.65s/it]"
     ]
    },
    {
     "name": "stdout",
     "output_type": "stream",
     "text": [
      "Maaleht\n"
     ]
    },
    {
     "name": "stderr",
     "output_type": "stream",
     "text": [
      "\r",
      " 97%|███████████████████████████████████████████████████████████████████████████████▏  | 83/86 [01:57<00:03,  1.26s/it]"
     ]
    },
    {
     "name": "stdout",
     "output_type": "stream",
     "text": [
      "Eesti Ekspress\n"
     ]
    },
    {
     "name": "stderr",
     "output_type": "stream",
     "text": [
      "\r",
      " 98%|████████████████████████████████████████████████████████████████████████████████  | 84/86 [01:58<00:02,  1.28s/it]"
     ]
    },
    {
     "name": "stdout",
     "output_type": "stream",
     "text": [
      "Delfi\n"
     ]
    },
    {
     "name": "stderr",
     "output_type": "stream",
     "text": [
      "\r",
      " 99%|█████████████████████████████████████████████████████████████████████████████████ | 85/86 [02:00<00:01,  1.49s/it]"
     ]
    },
    {
     "name": "stdout",
     "output_type": "stream",
     "text": [
      "Maaleht\n"
     ]
    },
    {
     "name": "stderr",
     "output_type": "stream",
     "text": [
      "100%|██████████████████████████████████████████████████████████████████████████████████| 86/86 [02:01<00:00,  1.41s/it]"
     ]
    },
    {
     "name": "stdout",
     "output_type": "stream",
     "text": [
      "Maaleht\n"
     ]
    },
    {
     "name": "stderr",
     "output_type": "stream",
     "text": [
      "\n"
     ]
    }
   ],
   "source": [
    "headers = requests.utils.default_headers()\n",
    "headers.update(\n",
    "  { 'User-Agent': 'my crawler (anneliis@ut.ee) / on studying purpose', }\n",
    ")\n",
    "\n",
    "pealkirjad = []\n",
    "tekstid = []\n",
    "väljaanded = []\n",
    "ajad =[]\n",
    "\n",
    "for url in tqdm(urls_delfi[1:]):\n",
    "  \n",
    "    try:\n",
    "        yhendatud_tekst = []\n",
    "        response = requests.get(url, headers=headers)\n",
    "        soup = BeautifulSoup(response.text, 'html.parser')\n",
    "        \n",
    "        väljaanne = soup.find(\"meta\", {\"property\" :\"og:site_name\"})['content']\n",
    "        print(väljaanne)\n",
    "\n",
    "        pealkiri = soup.find(\"meta\", {\"property\" :\"og:title\"})['content']\n",
    "        \n",
    "        #artik = \"article__body\"\n",
    "        artik = \"G-col-article\"\n",
    "        publits = {\"name\": \"cXenseParse:recs:publishtime\"}\n",
    "        #publits = {\"property\" : \"article:published_time\"}\n",
    "                    \n",
    "        tekst = soup.findAll(\"div\",{\"class\" : artik})\n",
    "\n",
    "        for t in tekst:\n",
    "            p = t.find_all('p')\n",
    "            for r in p:\n",
    "                yhendatud_tekst.append(r.text)\n",
    "          \n",
    "        tekstid.append(yhendatud_tekst)\n",
    "\n",
    "        aeg = soup.find(\"meta\", publits)['content']\n",
    "        \n",
    "    except Exception as e:\n",
    "        print(\"Exception is :\", e, url)\n",
    "        \n",
    "    pealkirjad.append(pealkiri)\n",
    "    väljaanded.append(väljaanne)\n",
    "    ajad.append(aeg)\n",
    "    artikkel = [' '.join(article) for article in tekstid]"
   ]
  },
  {
   "cell_type": "markdown",
   "metadata": {},
   "source": [
    "Kogutud info uudisartiklite kohta koondatakse sõnastikuks."
   ]
  },
  {
   "cell_type": "code",
   "execution_count": 5,
   "metadata": {},
   "outputs": [],
   "source": [
    "artiklid = {'title': pealkirjad, 'text': artikkel,'subject': väljaanded, 'date': ajad, 'link': urls_delfi[1:]}"
   ]
  },
  {
   "cell_type": "markdown",
   "metadata": {},
   "source": [
    "Kogutud sõnastik esitatakse tabeli kujul. Tabelis on viis veergu:\n",
    "\n",
    "1) artikli pealkiri\n",
    "\n",
    "2) artikli tekst\n",
    "\n",
    "3) artikli väljaandja\n",
    "\n",
    "4) artikli publitseerimise kuupäev\n",
    "\n",
    "5) artikli link"
   ]
  },
  {
   "cell_type": "code",
   "execution_count": 6,
   "metadata": {},
   "outputs": [],
   "source": [
    "data_delfi = pd.DataFrame(artiklid, columns = ['title', 'text','subject', 'date', 'link'])"
   ]
  },
  {
   "cell_type": "code",
   "execution_count": 7,
   "metadata": {},
   "outputs": [
    {
     "data": {
      "text/plain": [
       "(86, 5)"
      ]
     },
     "execution_count": 7,
     "metadata": {},
     "output_type": "execute_result"
    }
   ],
   "source": [
    "data_delfi.shape"
   ]
  },
  {
   "cell_type": "code",
   "execution_count": 8,
   "metadata": {},
   "outputs": [
    {
     "data": {
      "text/html": [
       "<div>\n",
       "<style scoped>\n",
       "    .dataframe tbody tr th:only-of-type {\n",
       "        vertical-align: middle;\n",
       "    }\n",
       "\n",
       "    .dataframe tbody tr th {\n",
       "        vertical-align: top;\n",
       "    }\n",
       "\n",
       "    .dataframe thead th {\n",
       "        text-align: right;\n",
       "    }\n",
       "</style>\n",
       "<table border=\"1\" class=\"dataframe\">\n",
       "  <thead>\n",
       "    <tr style=\"text-align: right;\">\n",
       "      <th></th>\n",
       "      <th>title</th>\n",
       "      <th>text</th>\n",
       "      <th>subject</th>\n",
       "      <th>date</th>\n",
       "      <th>link</th>\n",
       "    </tr>\n",
       "  </thead>\n",
       "  <tbody>\n",
       "    <tr>\n",
       "      <th>0</th>\n",
       "      <td>Soome puidukontserni UPM asepresident Kaido Kukk: puidukeemia pole kaugeltki vaid WC-paber Hiina turule</td>\n",
       "      <td>| METSALEHT |Puidu väärindamisel on palju erinevaid tahkusid, aga olgu see puidu kasutamine ehituses, puidust laiatarbekaupade tootmine, puidu rafineerimine või puidukeemia – kõik need arengud peaksid lähtuma süsinikuneutraalsuse põhimõttest. Vaata siit, millest Maalehe värskes numbris veel juttu! Kui Eestis asuvad puiduettevõtted tegutsevad siiani peaasjalikult puidu mehaanilise töötlemise vallas, siis mujal maailmas on üha enam levimas n-ö puidukeemiaga tööstus, mille tooraine on küll puit, aga mille toodangut me esmapilgul puiduga seostada ei oskagi. Need on näiteks puidukiust valmistatud kangad, plastilaadsed tooted jmt. Soome puidukontserni UPM asepresident Kaido Kukk on omal ajal olnud pikalt tegev vineeritööstuses, aga viimased pea kuus aastat tegeleb ta UPMis puidupõhiste lahenduste otsimisega plasti asendamiseks. Need on näiteks biokomposiitmaterjalid ja puidupõhised kiud, mis võiksid tulevikus asuda laiatarbesse praeguseks juba kogu maailmas nuhtluseks muutunud plasti asemel. Kaido Kukk on seda meelt, et innovatsioon puiduvaldkonnas liigub tõepoolest puidu mehaaniliselt töötlemiselt puidu keemilisele töötlemisele, kusjuures see on midagi märksa keerulisemat ja spetsiifilisemat kui traditsioonilisse vormi surutud tselluloositootmine.</td>\n",
       "      <td>Maaleht</td>\n",
       "      <td>2021-09-29T11:01:40.000Z</td>\n",
       "      <td>https://maaleht.delfi.ee/artikkel/94693231/soome-puidukontserni-upm-asepresident-kaido-kukk-puidukeemia-pole-kaugeltki-vaid-wc-paber-hiina-turule</td>\n",
       "    </tr>\n",
       "    <tr>\n",
       "      <th>1</th>\n",
       "      <td>Kohtla-Järve veerele planeeritav tselluloositehas annaks põlevkivikaevuritele töö ja tuleviku, aga mida saaks teised?</td>\n",
       "      <td>Vaata siit, millest Maalehe värskes numbris veel juttu! Kunagise kaevanduslinnaku Kohtla-Nõmme koolimaja saalis on mitukümmend inimest kuulamas VKG juhtide tehase ehitamise plaani. Meeleolu on asjalik, arutlev.Kõige tähtsama mehe Ahti Asmanni suust kõlab kõige tähtsamana: “See on siinsete inimeste endi otsustada, kas tehas siia tuleb!” Ka teises ja kolmandas sõnastuses. Mõte jääb samaks. Sarnaseid avalikke arutelusid hakkab hulgi olema, lisatakse.Kuigi otsesõnu seda keegi kohtumisel koolisaalis välja ei ütle, on põlevkivikeemikuil rohepöörde tõttu vesi ahjus. Keegi täpselt ei tea, millal poliitikud põlevkiviga toimetamisele kriipsu peale tõmbavad. Üheks võimaluseks ongi nüüd biotooted ehk tselluloosid, mille tooraineks puit. VKG väljaõppinud töötajad, keskmise palgaga nii umbes 1700 eurot, vajavad tööd ka homme, vaevalt et kõik väikeettevõtjaks hakkavad.Kohalikul rahval on jälle omad suured mured, mis kohtumisel kõlamas.</td>\n",
       "      <td>Maaleht</td>\n",
       "      <td>2021-09-08T21:05:41.000Z</td>\n",
       "      <td>https://maaleht.delfi.ee/artikkel/94526643/kohtla-jarve-veerele-planeeritav-tselluloositehas-annaks-polevkivikaevuritele-too-ja-tuleviku-aga-mida-saaks-teised</td>\n",
       "    </tr>\n",
       "    <tr>\n",
       "      <th>2</th>\n",
       "      <td>Kliimaeesmärgid panevad suure trahvi ähvardusega Eesti metsa langetamisele piirid ette</td>\n",
       "      <td>• Vaidluses, kui palju võib aastas puid raiuda, muutub määravaks metsa võime süsinikku talletada.• Liiga hoogsalt kirvega toimetades võib mets muutuda süsiniku sidujast CO2 vallandajaks.• Kui mets ei seo loodetud määral CO2, tuleks riigil osta kvooti, mis võib maksta aastas sadu miljoneid eurosid. Mitu keskkonnaministrit on juba alla andnud. Vaidlus küsimuse üle, kui palju oleks paras Eestis aastas metsa raiuda, on üks poliitiliselt tulisemaid kartuleid üldse. Ühel pool on metsa kasutav majandus: puidutööstuse eri harud, energiatootmine jne. Neile näib, et Eestis on raieküpset metsa päris palju, mida kinnitab ka statistika. Peaaegu 40% metsa on rohkem kui 60 aastat vana. Mõistlik oleks ju kasutada loodusvara ära enne, kui see ise pikali kukub ja ära kõduneb? Teisel pool on keskkonnakaitsjad, aga ka metsa tähtsaks pidav rahvas.</td>\n",
       "      <td>Eesti Päevaleht</td>\n",
       "      <td>2021-09-05T21:05:09.000Z</td>\n",
       "      <td>https://epl.delfi.ee/artikkel/94506799/kliimaeesmargid-panevad-suure-trahvi-ahvardusega-eesti-metsa-langetamisele-piirid-ette</td>\n",
       "    </tr>\n",
       "    <tr>\n",
       "      <th>3</th>\n",
       "      <td>Kristina Kallas: Ratase teine valitsus on veel hullem kui Reformierakond</td>\n",
       "      <td>Erakonna Eesti 200 juht Kristina Kallas toetab samasooliste abielu ja pole nõus EKRE-ga koostööd tegema isegi siis, kui see aitaks Tallinnas Keskerakonda kukutada. Eesti 200 toetuse üle valimiskünnise tõstnud erakonnajuht räägib intervjuus nii Eesti 200 plaanidest kohalikeks valimisteks kui ka sellest, miks loeb ta Poola ajalehti.</td>\n",
       "      <td>Eesti Päevaleht</td>\n",
       "      <td>2020-10-27T15:26:45.000Z</td>\n",
       "      <td>https://epl.delfi.ee/uudised/kristina-kallas-ratase-teine-valitsus-on-veel-hullem-kui-reformierakond?id=91378209</td>\n",
       "    </tr>\n",
       "    <tr>\n",
       "      <th>4</th>\n",
       "      <td>Kirju karjääriga ekssuusatajast Kaspar Kokkast on saanud Isamaa suursponsor</td>\n",
       "      <td>Lahke finantseering parteile näib iseenesest üdini mõistetav: Kokk saab alates 2013. aastast nimetada end erakonna liikmeks, aastast 2018 lausa Isamaa Tartu piirkonna esimeheks ning aastaringi eest kaasati ta ka partei eestseisuse hulka. Rahalisi annetusi on endine murdmaasuusataja teinud Isamaale tihtipeale mitmes jaos: meelissummadena torkavad silma just 5000-eurosed ülekanded, ent erakondade rahastuse järelevalve logiraamatus võib kohata tema nime taga ka 3000-/4000-/6000-euroseid rahaportse.  Miks avas mees oma rahakotirauad partei hüvanguks kolm aastat peale liitumist? Kas ettevõtja planeerib pisitasa vahetada taas elukutset ning suunduda täiskohaga poliitikasse?</td>\n",
       "      <td>Delfi</td>\n",
       "      <td>2020-08-26T09:43:15.000Z</td>\n",
       "      <td>https://www.delfi.ee/news/paevauudised/eesti/kirju-karjaariga-ekssuusatajast-kaspar-kokkast-on-saanud-isamaa-suursponsor?id=90822727</td>\n",
       "    </tr>\n",
       "    <tr>\n",
       "      <th>...</th>\n",
       "      <td>...</td>\n",
       "      <td>...</td>\n",
       "      <td>...</td>\n",
       "      <td>...</td>\n",
       "      <td>...</td>\n",
       "    </tr>\n",
       "    <tr>\n",
       "      <th>81</th>\n",
       "      <td>Uue puidutehase rajajad ja teadlased näevad Eestile suurt majanduskasu</td>\n",
       "      <td>Uue tehase asukohta pole veel välja valitud, kuid otsingud käivad eelkõige Tartumaal Emajõe läheduses. See on tekitanud küsimuse, kas Emajõge ei taba puidurafineerimistehase rajamisel oluline saastamiskoormus.“Enne eelprojekti koostamist ja uuringute lõppu ei ole võimalik täpselt vastata küsimusele, milline on koormus Emajõele,” tunnistasid puidurafineerimis­tehast kavandava ettevõtte Est-For Invest juhatuse liikmed Margus Kohava ja Aadu Polli ühendusele edastatud läkituses. Kuid Emajõe veekvaliteedi pärast muretsemiseks ei ole nende sõnul põhjust, sest tehas saab sündida ainult siis, kui see ei halvenda vee kvaliteeti.Tehase vastased opereerivad mõnevõrra teistsuguste arvudega. Eesti Metsa Abiks kodulehekülje andmetel kasutaks tehas tootmiseks ligikaudu 1,5% Emajõe vooluhulgast. Aktivistid rõhutavad, et tselluloositehasest läbi käinud vesi jõuaks edasi Peipsi järve ning puudutaks seega umbes kolmandikku kogu Eesti vesikonnast.</td>\n",
       "      <td>Maaleht</td>\n",
       "      <td>2017-12-13T22:00:16.000Z</td>\n",
       "      <td>https://maaleht.delfi.ee/news/lehelood/koik/uue-puidutehase-rajajad-ja-teadlased-naevad-eestile-suurt-majanduskasu?id=80468878</td>\n",
       "    </tr>\n",
       "    <tr>\n",
       "      <th>82</th>\n",
       "      <td>Mets on eestlase kirik</td>\n",
       "      <td>Mitte juhuslikult ei taju osa rahvast praegust intensiivset lageraieperioodi kui sissetungi oma kõige pühamasse ruumi, millega tal on isiklik side, ka siis, kui pole metsaomanik. Nagu eestlasel on valus metsatööstuse jõhkruse pärast, nii kogeksid kristlased kirikute rüüstamist ja rüvetamist. Etnograafid on eestlase suhet puudega kirjeldanud kui animistlikku: puudel on hing, mille ees on enne raiuma asumist isegi vabandust palutud. Teada on puukoputamine enne raiumist, kolm korda vastu tüve, et puu hing teaks lahkuda enne sae sisselöömist. Saaremaalt on teada pärimus, kus mees võtab enne kirve tõstmist puu ees mütsi maha. Terveid liike, nagu pihlakas ja kadakas, on peetud pühadeks ja hiite maharaiujaid tabab pärimuse kohaselt needus. 1990ndatel Eestis toimunud röövraiete ja metsaga hangeldamise perioodist alates Eesti elanike suhtumist loodusse ja metsa uurinud sotsiaalpsühholoog Maaris Raudsepa andmetel jaatavad üle kolmveerandi Eesti inimestest nii maal kui linnas looduse hingestatust ja pühadust. Looduse hingestatust ja pühadust on uuringutes tunnistanud nii eestlased kui Eesti venelased, kes eestlastest enamgi sidusid looduse pühadust jumalaga! Enam on looduseusku naised ja haritumad, mehed ja vähemharitud on pragmaatilisemad. Sotsiaalsetele väärtustele orienteeritud on enam metsausku kui parempoolsed. Raudsepa hinnangul on Eesti inimesed oma metsatunnetuselt sarnased enam venelaste ja jaapanlaste kui USA, Inglismaa või Lääne-Saksa vastajatega, kes oluliselt vähemal määral käsitavad loodust hingestatuna. Metsatööstuse lobi ja küünikud võivad metsa eest väljaastuvaid inimesi küll puukallistajateks sildistada, kuid nagu uuringud näitavad, on inimesi, kes metsa halastamatu mahavõtmise pärast kannatavad, liiga palju, et kõiki veidrikena marginaliseerida. Tööstuslik ja ratsionaalne metsakasutus põrkab kokku paljude eesti inimeste sisetundega, mis hea meelega pigem loobuks kasvule orienteeritud majanduse poolt toodetud materiaalsest heaolust kui nõustuks harvesteride ja silmitu lageraiega Eesti metsades. Tänavune aasta jääb meelde kui roheliste tõusulaine aasta, kus toimusid metsakaitsjate meeleavaldused, ja ka aasta, kus rohelised aktivistid takistavad füüsiliselt linnapuude mahavõtmist, nagu on varem nähtud vaid lääneriikide uudistes. Facebooki grupp Eesti Metsa Abiks on oma lühikese tegutsemisperioodi jooksul koondanud üle 5000 inimese ning ühendab nii loodusteadusliku haridusega inimesi, erametsaomanikke kui ka progressiivseteks peetavaid IT-inimesi. Et nende tegutsemine on kirglik, ent samas argumenteeritud, kuuleme neist Eesti poliitilises elus küllap lähiajal rohkemgi. Väga kerge on nimetada metsade eestkõnelejaid emotsionaalseteks ullikesteks, Kalamaja hipsteriteks, kes sel hooajal on avastanud rohelise ilmavaate. Metsahüsteerias olevat süüdi paneelmajade rahvas, kes polevat elus metsa näinudki ja nüüd on asunud üles kütma rahvast ja ründama perspektiivset, ekspordile suunatud majandusharu. „Emotsionaalsele“ – see on Eestis väga levinud hävitav hinnang – seatakse vastu metsatööstuse „ratsionaalsed“ argumendid, mille taga on sageli teine, lihtlabane madal emotsioon – omanike või metsafirmade ahnus. Eestlaste metsasuhet uurinud Maaris Raudsepa hinnangul on enamikule eestlastest mõistetav metsa majanduslik tähtsus Eestis ning metsa tajumine eestilikkuse sümbolina. Varem on mets eestlastele olnud ka pelgupaik vaenlase eest. Ehk seetõttu on meie side metsaga arhailine, talletatud geenides. Raudsepa tsiteeritud Ene Mihkelsoni väitel on sõjajärgsele põlvkonnale mets olnud ka hirmutav ja võõras koht, kus liiguvad metsavennad. Arusaam metsast kui surnute paigast, metsahaldjate valdusest, pühade paikade ja puude asukohast on Raudsepa varasemate küsitluste põhjal levinud vaid kitsamates gruppides, näiteks maausuliste hulgas. Julgen arvata ja ka loota, et müstika ja new-age-liikumiste tuules ning metsarüüstamise vastase protestina on arusaamad metsast hingestatud pühamuna jõudu kogumas. Pole siiski ime, et ennast metsarahvaks pidavad eestlased ei leia metsateemadel üksmeelt. Raudsepp väidab, et tänapäeva eestlaste looduse ja metsaga seotud tähenduste maailm on heterogeenne ja selle põhjused on Eesti kirjus ajaloos, erinevates grupikuuluvustes ja individuaalsetes kogemustes. Ühelt poolt avaldub arusaamade paljus selles, et üksteise kõrval eksisteerivad eri ajalooperioodidest pärit tähendused ja arusaamad. Näiteks meenutavad paljud intensiivsete metsaraiete pooldajad argumendina esimest Eesti Vabariiki, kus metsaga oli kaetud palju väiksem osa riigi pindalast, näiteks oli peaaegu lage tiheasustatud Vormsi saar. Nõukogude perioodi piirangute tõttu jäid puutumata rannikualade piirivööndi metsad, mille tõttu meil on näiteks Lahemaa rahvuspark ja teised sarnased metsamassiivid ranniku läheduses. Nüüd on osa Eesti mereäärsetest metsadest raieküpsuse tõttu asutud realiseerima. Teisalt on selge, et inimeste positsioonid ühiskonnas on erinevad nagu ka loodusega seotud tegevused. Nii ei saagi kokku langeda näiteks loodusteadlaste, jahimeeste, maa­usuliste, metsatöösturite ja metsa puhkekohana kasutavate pühapäevamaakate arusaamad metsast. Kui keegi näeb oma haridusliku tausta tõttu metsa vaid raiemahtude Exceli tabelina, pole halastust. Mõni asjaolu on siiski liiga paradoksaalne, et rahu anda. Ajal, kui kavandamisel on megamõõtmetes tselluloositehas Emajõel ja Eesti loodust lõhestav Rail Baltic, müüme me oma riiki maailmale jätkuvalt lõpmatu puutumatu looduse kuvandiga! EASi Eesti brändi ­tööriistakasti esitlusest jäi mulle läbiva kujundina meelde üksik mees, näoga metsa, raba ja mere poole. Seljaga vaataja suunas, käed laiali sirutatud – nagu oleks altari ees seisnud, kõneluseks jumalaga.</td>\n",
       "      <td>Eesti Ekspress</td>\n",
       "      <td>2017-10-10T21:20:01.000Z</td>\n",
       "      <td>https://ekspress.delfi.ee/arvamus/mets-on-eestlase-kirik?id=79738194</td>\n",
       "    </tr>\n",
       "    <tr>\n",
       "      <th>83</th>\n",
       "      <td>Halduskohus ei hoolinud kodanikuühenduse kaebusest hiid-tselluloositehase planeerimise asjus</td>\n",
       "      <td>Halduskohus kaebust küll vastu ei võtnud, aga EMA jääb seisukohale, et riigi eriplaneeringu algatamisel kaasati kodanikke ebapiisaval määral ning tehase rajamise protseduur liikus rutem kui ühiskonnale kaasarääkimisvõimaluse pakkumine. \"Kuigi õiguslikud põhjused olid olemas, ei julgenud kohus pretsedenti luua ega luba rahva kaasamist planeeringu algusesse, sest seaduses ei ole see selgesõnaliselt kirjas,\" kommenteeris kodanikuühenduse jurist Sven Anton halduskohtu otsust. EMA on korduvalt tselluloositehast kavandavale Est-For Investile selgitanud, et tehase rajamine on teravas vastuolus ühiskonna praeguste ootustega ning kodanike kaasamine antud protsessi peaks olema tagatud juba eos. Seetõttu ei saa ühendus heaks kiita asjade praegust käiku, millega otsitakse tehasele juba sobivat asukohta, samal ajal kui endiselt on vastamata küsimus, kas Eesti inimesed ülepea soovivad sellist tehast. EMA on mitmesugustele riiklikele instantsidele viimase kümne kuu jooksul korduvalt mõista andnud, et ühiskonnal on tungiv vajadus metsandusliku kokkuleppe järele, mis sõlmitaks riigi ning kõigi asjakohaste gruppide vahel – maainimesed, mesinikud, loodusturismi ettevõtjad, püsimetsnikud, ökoloogid, keskkonnakaitsjad, metsaettevõtjad, puidutöösturid jt. Riik on seda lubanud uue metsanduse arengukava näol, mille koostamisse Keskkonnaministeeriumi sõnul kaasatakse senisest rohkem huvigruppe, aga sellegipoolest otsitakse praegu asukohta hiiglaslikule tööstusele, mis oma investeeringu suuruse ja olemuse poolest paneks meie metsamajandamiskavad tegelikkuses paika. EMA selgitab, et kui rajatakse sellise toormevajadusega tselluloositehas nagu Est-For Invest hetkel plaanib, siis ei saa enam juttugi olla raiemahtude vähendamisest järgmise kümne aasta arengukavas, sest vastasel juhul pole miljardiinvesteeringut millegagi toita. Seega ei saa kodanikuühenduse hinnangul tehase rajamisest tegelikult enne rääkima hakata, kui ühiskond järgmises metsanduse arengukavas kokkuleppe on saavutanud. Eri huvigrupid on korduvalt nõudnud metsanduse arengukava ennetähtaegset avamist, tuues põhjenduseks selle toetumise vananenud teadusele ja ebatäpsetele andmetele, samuti lubab see raiumisel säästlikku normi peaaegu kahekordselt ületada.</td>\n",
       "      <td>Delfi</td>\n",
       "      <td>2017-09-25T04:14:44.000Z</td>\n",
       "      <td>https://www.delfi.ee/news/paevauudised/eesti/halduskohus-ei-hoolinud-kodanikuuhenduse-kaebusest-hiid-tselluloositehase-planeerimise-asjus?id=79608718</td>\n",
       "    </tr>\n",
       "    <tr>\n",
       "      <th>84</th>\n",
       "      <td>Vastsed tehased suurendavad puidutööstuse toormevajadust</td>\n",
       "      <td></td>\n",
       "      <td>Maaleht</td>\n",
       "      <td>2017-04-26T21:00:27.000Z</td>\n",
       "      <td>https://maaleht.delfi.ee/archive/vastsed-tehased-suurendavad-puidutoostuse-toormevajadust?id=77921642</td>\n",
       "    </tr>\n",
       "    <tr>\n",
       "      <th>85</th>\n",
       "      <td>Tselluloositehase ehitamine Eestisse seaks meie metsad veelgi suurema löögi alla</td>\n",
       "      <td></td>\n",
       "      <td>Maaleht</td>\n",
       "      <td>2017-04-26T21:00:18.000Z</td>\n",
       "      <td>https://maaleht.delfi.ee/archive/tselluloositehase-ehitamine-eestisse-seaks-meie-metsad-veelgi-suurema-loogi-alla?id=77982470</td>\n",
       "    </tr>\n",
       "  </tbody>\n",
       "</table>\n",
       "<p>86 rows × 5 columns</p>\n",
       "</div>"
      ],
      "text/plain": [
       "                                                                                                                    title  \\\n",
       "0                 Soome puidukontserni UPM asepresident Kaido Kukk: puidukeemia pole kaugeltki vaid WC-paber Hiina turule   \n",
       "1   Kohtla-Järve veerele planeeritav tselluloositehas annaks põlevkivikaevuritele töö ja tuleviku, aga mida saaks teised?   \n",
       "2                                  Kliimaeesmärgid panevad suure trahvi ähvardusega Eesti metsa langetamisele piirid ette   \n",
       "3                                                Kristina Kallas: Ratase teine valitsus on veel hullem kui Reformierakond   \n",
       "4                                             Kirju karjääriga ekssuusatajast Kaspar Kokkast on saanud Isamaa suursponsor   \n",
       "..                                                                                                                    ...   \n",
       "81                                                 Uue puidutehase rajajad ja teadlased näevad Eestile suurt majanduskasu   \n",
       "82                                                                                                 Mets on eestlase kirik   \n",
       "83                           Halduskohus ei hoolinud kodanikuühenduse kaebusest hiid-tselluloositehase planeerimise asjus   \n",
       "84                                                               Vastsed tehased suurendavad puidutööstuse toormevajadust   \n",
       "85                                       Tselluloositehase ehitamine Eestisse seaks meie metsad veelgi suurema löögi alla   \n",
       "\n",
       "                                                                                                                                                                                                                                                                                                                                                                                                                                                                                                                                                                                                                                                                                                                                                                                                                                                                                                                                                                                                                                                                                                                                                                                                                                                                                                                                                                                                                                                                                                                                                                                                                                                                                                                                                                                                                                                                                                                                                                                                                                                                                                                                                                                                                                                                                                                                                                                                                                                                                                                                                                                                                                                                                                                                                                                                                                                                                                                                                                                                                                                                                                                                                                                                                                                                                                                                                                                                                                                                                                                                                                                                                                                                                                                                                                                                                                                                                                                                                                                                                                                                                                                                                                                                                                                                                                                                                                                                                                                                                                                                                                                                                                                                                                                                                                                                                                                                                                                                                                                                                                                                                                                                                                                                                                                                                                                                                                                                                                                                                                                                                                                                                                                                                                                                                                                                                                                                                                               text  \\\n",
       "0                                                                                                                                                                                                                                                                                                                                                                                                                                                                                                                                                                                                                                                                                                                                                                                                                                                                                                                                                                                                                                                                                                                                                                                                                                                                                                                                                                                                                                                                                                                                                                                                                                                                                                                                                                                                                                                                                                                                                                                                                                                                                                                                                                                                                                                                                                                                                                                                                                                                                                                                                                                                                                                                                                                                                                                                                                                                                                                                                                                                                                                                                                                                                                                                                                                                                                                                                                                                                                                                                                                                                                                                                                                                                                                                                                                                                                                                                                                                                                                                                                                                                                                                                                                                                                                                                                                                                                                                                                                                                                                                                                                                    | METSALEHT |Puidu väärindamisel on palju erinevaid tahkusid, aga olgu see puidu kasutamine ehituses, puidust laiatarbekaupade tootmine, puidu rafineerimine või puidukeemia – kõik need arengud peaksid lähtuma süsinikuneutraalsuse põhimõttest. Vaata siit, millest Maalehe värskes numbris veel juttu! Kui Eestis asuvad puiduettevõtted tegutsevad siiani peaasjalikult puidu mehaanilise töötlemise vallas, siis mujal maailmas on üha enam levimas n-ö puidukeemiaga tööstus, mille tooraine on küll puit, aga mille toodangut me esmapilgul puiduga seostada ei oskagi. Need on näiteks puidukiust valmistatud kangad, plastilaadsed tooted jmt. Soome puidukontserni UPM asepresident Kaido Kukk on omal ajal olnud pikalt tegev vineeritööstuses, aga viimased pea kuus aastat tegeleb ta UPMis puidupõhiste lahenduste otsimisega plasti asendamiseks. Need on näiteks biokomposiitmaterjalid ja puidupõhised kiud, mis võiksid tulevikus asuda laiatarbesse praeguseks juba kogu maailmas nuhtluseks muutunud plasti asemel. Kaido Kukk on seda meelt, et innovatsioon puiduvaldkonnas liigub tõepoolest puidu mehaaniliselt töötlemiselt puidu keemilisele töötlemisele, kusjuures see on midagi märksa keerulisemat ja spetsiifilisemat kui traditsioonilisse vormi surutud tselluloositootmine.   \n",
       "1                                                                                                                                                                                                                                                                                                                                                                                                                                                                                                                                                                                                                                                                                                                                                                                                                                                                                                                                                                                                                                                                                                                                                                                                                                                                                                                                                                                                                                                                                                                                                                                                                                                                                                                                                                                                                                                                                                                                                                                                                                                                                                                                                                                                                                                                                                                                                                                                                                                                                                                                                                                                                                                                                                                                                                                                                                                                                                                                                                                                                                                                                                                                                                                                                                                                                                                                                                                                                                                                                                                                                                                                                                                                                                                                                                                                                                                                                                                                                                                                                                                                                                                                                                                                                                                                                                                                                                                                                                                                                                                                                                                                                                                                                                                                                                                                                                                                                                                                            Vaata siit, millest Maalehe värskes numbris veel juttu! Kunagise kaevanduslinnaku Kohtla-Nõmme koolimaja saalis on mitukümmend inimest kuulamas VKG juhtide tehase ehitamise plaani. Meeleolu on asjalik, arutlev.Kõige tähtsama mehe Ahti Asmanni suust kõlab kõige tähtsamana: “See on siinsete inimeste endi otsustada, kas tehas siia tuleb!” Ka teises ja kolmandas sõnastuses. Mõte jääb samaks. Sarnaseid avalikke arutelusid hakkab hulgi olema, lisatakse.Kuigi otsesõnu seda keegi kohtumisel koolisaalis välja ei ütle, on põlevkivikeemikuil rohepöörde tõttu vesi ahjus. Keegi täpselt ei tea, millal poliitikud põlevkiviga toimetamisele kriipsu peale tõmbavad. Üheks võimaluseks ongi nüüd biotooted ehk tselluloosid, mille tooraineks puit. VKG väljaõppinud töötajad, keskmise palgaga nii umbes 1700 eurot, vajavad tööd ka homme, vaevalt et kõik väikeettevõtjaks hakkavad.Kohalikul rahval on jälle omad suured mured, mis kohtumisel kõlamas.   \n",
       "2                                                                                                                                                                                                                                                                                                                                                                                                                                                                                                                                                                                                                                                                                                                                                                                                                                                                                                                                                                                                                                                                                                                                                                                                                                                                                                                                                                                                                                                                                                                                                                                                                                                                                                                                                                                                                                                                                                                                                                                                                                                                                                                                                                                                                                                                                                                                                                                                                                                                                                                                                                                                                                                                                                                                                                                                                                                                                                                                                                                                                                                                                                                                                                                                                                                                                                                                                                                                                                                                                                                                                                                                                                                                                                                                                                                                                                                                                                                                                                                                                                                                                                                                                                                                                                                                                                                                                                                                                                                                                                                                                                                                                                                                                                                                                                                                                                                                                                                                                                                                                                           • Vaidluses, kui palju võib aastas puid raiuda, muutub määravaks metsa võime süsinikku talletada.• Liiga hoogsalt kirvega toimetades võib mets muutuda süsiniku sidujast CO2 vallandajaks.• Kui mets ei seo loodetud määral CO2, tuleks riigil osta kvooti, mis võib maksta aastas sadu miljoneid eurosid. Mitu keskkonnaministrit on juba alla andnud. Vaidlus küsimuse üle, kui palju oleks paras Eestis aastas metsa raiuda, on üks poliitiliselt tulisemaid kartuleid üldse. Ühel pool on metsa kasutav majandus: puidutööstuse eri harud, energiatootmine jne. Neile näib, et Eestis on raieküpset metsa päris palju, mida kinnitab ka statistika. Peaaegu 40% metsa on rohkem kui 60 aastat vana. Mõistlik oleks ju kasutada loodusvara ära enne, kui see ise pikali kukub ja ära kõduneb? Teisel pool on keskkonnakaitsjad, aga ka metsa tähtsaks pidav rahvas.    \n",
       "3                                                                                                                                                                                                                                                                                                                                                                                                                                                                                                                                                                                                                                                                                                                                                                                                                                                                                                                                                                                                                                                                                                                                                                                                                                                                                                                                                                                                                                                                                                                                                                                                                                                                                                                                                                                                                                                                                                                                                                                                                                                                                                                                                                                                                                                                                                                                                                                                                                                                                                                                                                                                                                                                                                                                                                                                                                                                                                                                                                                                                                                                                                                                                                                                                                                                                                                                                                                                                                                                                                                                                                                                                                                                                                                                                                                                                                                                                                                                                                                                                                                                                                                                                                                                                                                                                                                                                                                                                                                                                                                                                                                                                                                                                                                                                                                                                                                                                                                                                                                                                                                                                                                                                                                                                                                                                                                                                                                                                                                                                                                                                                      Erakonna Eesti 200 juht Kristina Kallas toetab samasooliste abielu ja pole nõus EKRE-ga koostööd tegema isegi siis, kui see aitaks Tallinnas Keskerakonda kukutada. Eesti 200 toetuse üle valimiskünnise tõstnud erakonnajuht räägib intervjuus nii Eesti 200 plaanidest kohalikeks valimisteks kui ka sellest, miks loeb ta Poola ajalehti.   \n",
       "4                                                                                                                                                                                                                                                                                                                                                                                                                                                                                                                                                                                                                                                                                                                                                                                                                                                                                                                                                                                                                                                                                                                                                                                                                                                                                                                                                                                                                                                                                                                                                                                                                                                                                                                                                                                                                                                                                                                                                                                                                                                                                                                                                                                                                                                                                                                                                                                                                                                                                                                                                                                                                                                                                                                                                                                                                                                                                                                                                                                                                                                                                                                                                                                                                                                                                                                                                                                                                                                                                                                                                                                                                                                                                                                                                                                                                                                                                                                                                                                                                                                                                                                                                                                                                                                                                                                                                                                                                                                                                                                                                                                                                                                                                                                                                                                                                                                                                                                                                                                                                                                                                                                                                                                                              Lahke finantseering parteile näib iseenesest üdini mõistetav: Kokk saab alates 2013. aastast nimetada end erakonna liikmeks, aastast 2018 lausa Isamaa Tartu piirkonna esimeheks ning aastaringi eest kaasati ta ka partei eestseisuse hulka. Rahalisi annetusi on endine murdmaasuusataja teinud Isamaale tihtipeale mitmes jaos: meelissummadena torkavad silma just 5000-eurosed ülekanded, ent erakondade rahastuse järelevalve logiraamatus võib kohata tema nime taga ka 3000-/4000-/6000-euroseid rahaportse.  Miks avas mees oma rahakotirauad partei hüvanguks kolm aastat peale liitumist? Kas ettevõtja planeerib pisitasa vahetada taas elukutset ning suunduda täiskohaga poliitikasse?   \n",
       "..                                                                                                                                                                                                                                                                                                                                                                                                                                                                                                                                                                                                                                                                                                                                                                                                                                                                                                                                                                                                                                                                                                                                                                                                                                                                                                                                                                                                                                                                                                                                                                                                                                                                                                                                                                                                                                                                                                                                                                                                                                                                                                                                                                                                                                                                                                                                                                                                                                                                                                                                                                                                                                                                                                                                                                                                                                                                                                                                                                                                                                                                                                                                                                                                                                                                                                                                                                                                                                                                                                                                                                                                                                                                                                                                                                                                                                                                                                                                                                                                                                                                                                                                                                                                                                                                                                                                                                                                                                                                                                                                                                                                                                                                                                                                                                                                                                                                                                                                                                                                                                                                                                                                                                                                                                                                                                                                                                                                                                                                                                                                                                                                                                                                                                                                                                                                                                                                                                              ...   \n",
       "81                                                                                                                                                                                                                                                                                                                                                                                                                                                                                                                                                                                                                                                                                                                                                                                                                                                                                                                                                                                                                                                                                                                                                                                                                                                                                                                                                                                                                                                                                                                                                                                                                                                                                                                                                                                                                                                                                                                                                                                                                                                                                                                                                                                                                                                                                                                                                                                                                                                                                                                                                                                                                                                                                                                                                                                                                                                                                                                                                                                                                                                                                                                                                                                                                                                                                                                                                                                                                                                                                                                                                                                                                                                                                                                                                                                                                                                                                                                                                                                                                                                                                                                                                                                                                                                                                                                                                                                                                                                                                                                                                                                                                                                                                                                                                                                                                                                                                                                                    Uue tehase asukohta pole veel välja valitud, kuid otsingud käivad eelkõige Tartumaal Emajõe läheduses. See on tekitanud küsimuse, kas Emajõge ei taba puidurafineerimistehase rajamisel oluline saastamiskoormus.“Enne eelprojekti koostamist ja uuringute lõppu ei ole võimalik täpselt vastata küsimusele, milline on koormus Emajõele,” tunnistasid puidurafineerimis­tehast kavandava ettevõtte Est-For Invest juhatuse liikmed Margus Kohava ja Aadu Polli ühendusele edastatud läkituses. Kuid Emajõe veekvaliteedi pärast muretsemiseks ei ole nende sõnul põhjust, sest tehas saab sündida ainult siis, kui see ei halvenda vee kvaliteeti.Tehase vastased opereerivad mõnevõrra teistsuguste arvudega. Eesti Metsa Abiks kodulehekülje andmetel kasutaks tehas tootmiseks ligikaudu 1,5% Emajõe vooluhulgast. Aktivistid rõhutavad, et tselluloositehasest läbi käinud vesi jõuaks edasi Peipsi järve ning puudutaks seega umbes kolmandikku kogu Eesti vesikonnast.   \n",
       "82  Mitte juhuslikult ei taju osa rahvast praegust intensiivset lageraieperioodi kui sissetungi oma kõige pühamasse ruumi, millega tal on isiklik side, ka siis, kui pole metsaomanik. Nagu eestlasel on valus metsatööstuse jõhkruse pärast, nii kogeksid kristlased kirikute rüüstamist ja rüvetamist. Etnograafid on eestlase suhet puudega kirjeldanud kui animistlikku: puudel on hing, mille ees on enne raiuma asumist isegi vabandust palutud. Teada on puukoputamine enne raiumist, kolm korda vastu tüve, et puu hing teaks lahkuda enne sae sisselöömist. Saaremaalt on teada pärimus, kus mees võtab enne kirve tõstmist puu ees mütsi maha. Terveid liike, nagu pihlakas ja kadakas, on peetud pühadeks ja hiite maharaiujaid tabab pärimuse kohaselt needus. 1990ndatel Eestis toimunud röövraiete ja metsaga hangeldamise perioodist alates Eesti elanike suhtumist loodusse ja metsa uurinud sotsiaalpsühholoog Maaris Raudsepa andmetel jaatavad üle kolmveerandi Eesti inimestest nii maal kui linnas looduse hingestatust ja pühadust. Looduse hingestatust ja pühadust on uuringutes tunnistanud nii eestlased kui Eesti venelased, kes eestlastest enamgi sidusid looduse pühadust jumalaga! Enam on looduseusku naised ja haritumad, mehed ja vähemharitud on pragmaatilisemad. Sotsiaalsetele väärtustele orienteeritud on enam metsausku kui parempoolsed. Raudsepa hinnangul on Eesti inimesed oma metsatunnetuselt sarnased enam venelaste ja jaapanlaste kui USA, Inglismaa või Lääne-Saksa vastajatega, kes oluliselt vähemal määral käsitavad loodust hingestatuna. Metsatööstuse lobi ja küünikud võivad metsa eest väljaastuvaid inimesi küll puukallistajateks sildistada, kuid nagu uuringud näitavad, on inimesi, kes metsa halastamatu mahavõtmise pärast kannatavad, liiga palju, et kõiki veidrikena marginaliseerida. Tööstuslik ja ratsionaalne metsakasutus põrkab kokku paljude eesti inimeste sisetundega, mis hea meelega pigem loobuks kasvule orienteeritud majanduse poolt toodetud materiaalsest heaolust kui nõustuks harvesteride ja silmitu lageraiega Eesti metsades. Tänavune aasta jääb meelde kui roheliste tõusulaine aasta, kus toimusid metsakaitsjate meeleavaldused, ja ka aasta, kus rohelised aktivistid takistavad füüsiliselt linnapuude mahavõtmist, nagu on varem nähtud vaid lääneriikide uudistes. Facebooki grupp Eesti Metsa Abiks on oma lühikese tegutsemisperioodi jooksul koondanud üle 5000 inimese ning ühendab nii loodusteadusliku haridusega inimesi, erametsaomanikke kui ka progressiivseteks peetavaid IT-inimesi. Et nende tegutsemine on kirglik, ent samas argumenteeritud, kuuleme neist Eesti poliitilises elus küllap lähiajal rohkemgi. Väga kerge on nimetada metsade eestkõnelejaid emotsionaalseteks ullikesteks, Kalamaja hipsteriteks, kes sel hooajal on avastanud rohelise ilmavaate. Metsahüsteerias olevat süüdi paneelmajade rahvas, kes polevat elus metsa näinudki ja nüüd on asunud üles kütma rahvast ja ründama perspektiivset, ekspordile suunatud majandusharu. „Emotsionaalsele“ – see on Eestis väga levinud hävitav hinnang – seatakse vastu metsatööstuse „ratsionaalsed“ argumendid, mille taga on sageli teine, lihtlabane madal emotsioon – omanike või metsafirmade ahnus. Eestlaste metsasuhet uurinud Maaris Raudsepa hinnangul on enamikule eestlastest mõistetav metsa majanduslik tähtsus Eestis ning metsa tajumine eestilikkuse sümbolina. Varem on mets eestlastele olnud ka pelgupaik vaenlase eest. Ehk seetõttu on meie side metsaga arhailine, talletatud geenides. Raudsepa tsiteeritud Ene Mihkelsoni väitel on sõjajärgsele põlvkonnale mets olnud ka hirmutav ja võõras koht, kus liiguvad metsavennad. Arusaam metsast kui surnute paigast, metsahaldjate valdusest, pühade paikade ja puude asukohast on Raudsepa varasemate küsitluste põhjal levinud vaid kitsamates gruppides, näiteks maausuliste hulgas. Julgen arvata ja ka loota, et müstika ja new-age-liikumiste tuules ning metsarüüstamise vastase protestina on arusaamad metsast hingestatud pühamuna jõudu kogumas. Pole siiski ime, et ennast metsarahvaks pidavad eestlased ei leia metsateemadel üksmeelt. Raudsepp väidab, et tänapäeva eestlaste looduse ja metsaga seotud tähenduste maailm on heterogeenne ja selle põhjused on Eesti kirjus ajaloos, erinevates grupikuuluvustes ja individuaalsetes kogemustes. Ühelt poolt avaldub arusaamade paljus selles, et üksteise kõrval eksisteerivad eri ajalooperioodidest pärit tähendused ja arusaamad. Näiteks meenutavad paljud intensiivsete metsaraiete pooldajad argumendina esimest Eesti Vabariiki, kus metsaga oli kaetud palju väiksem osa riigi pindalast, näiteks oli peaaegu lage tiheasustatud Vormsi saar. Nõukogude perioodi piirangute tõttu jäid puutumata rannikualade piirivööndi metsad, mille tõttu meil on näiteks Lahemaa rahvuspark ja teised sarnased metsamassiivid ranniku läheduses. Nüüd on osa Eesti mereäärsetest metsadest raieküpsuse tõttu asutud realiseerima. Teisalt on selge, et inimeste positsioonid ühiskonnas on erinevad nagu ka loodusega seotud tegevused. Nii ei saagi kokku langeda näiteks loodusteadlaste, jahimeeste, maa­usuliste, metsatöösturite ja metsa puhkekohana kasutavate pühapäevamaakate arusaamad metsast. Kui keegi näeb oma haridusliku tausta tõttu metsa vaid raiemahtude Exceli tabelina, pole halastust. Mõni asjaolu on siiski liiga paradoksaalne, et rahu anda. Ajal, kui kavandamisel on megamõõtmetes tselluloositehas Emajõel ja Eesti loodust lõhestav Rail Baltic, müüme me oma riiki maailmale jätkuvalt lõpmatu puutumatu looduse kuvandiga! EASi Eesti brändi ­tööriistakasti esitlusest jäi mulle läbiva kujundina meelde üksik mees, näoga metsa, raba ja mere poole. Seljaga vaataja suunas, käed laiali sirutatud – nagu oleks altari ees seisnud, kõneluseks jumalaga.    \n",
       "83                                                                                                                                                                                                                                                                                                                                                                                                                                                                                                                                                                                                                                                                                                                                                                                                                                                                                                                                                                                                                                                                                                                                                                                                                                                                                                                                                                                                                                                                                                                                                                                                                                                                                                                                                                                                                                                                                                                                                                                                                                                                                                                                                                                                                                                                                                                                                                                                                                                                                                                                                                                                                                                                                                                                                                                                                                                                                                                                                                                                                                                                                                                                                                                                                                                                                                                                                                                                                                                                                                                                                                                            Halduskohus kaebust küll vastu ei võtnud, aga EMA jääb seisukohale, et riigi eriplaneeringu algatamisel kaasati kodanikke ebapiisaval määral ning tehase rajamise protseduur liikus rutem kui ühiskonnale kaasarääkimisvõimaluse pakkumine. \"Kuigi õiguslikud põhjused olid olemas, ei julgenud kohus pretsedenti luua ega luba rahva kaasamist planeeringu algusesse, sest seaduses ei ole see selgesõnaliselt kirjas,\" kommenteeris kodanikuühenduse jurist Sven Anton halduskohtu otsust. EMA on korduvalt tselluloositehast kavandavale Est-For Investile selgitanud, et tehase rajamine on teravas vastuolus ühiskonna praeguste ootustega ning kodanike kaasamine antud protsessi peaks olema tagatud juba eos. Seetõttu ei saa ühendus heaks kiita asjade praegust käiku, millega otsitakse tehasele juba sobivat asukohta, samal ajal kui endiselt on vastamata küsimus, kas Eesti inimesed ülepea soovivad sellist tehast. EMA on mitmesugustele riiklikele instantsidele viimase kümne kuu jooksul korduvalt mõista andnud, et ühiskonnal on tungiv vajadus metsandusliku kokkuleppe järele, mis sõlmitaks riigi ning kõigi asjakohaste gruppide vahel – maainimesed, mesinikud, loodusturismi ettevõtjad, püsimetsnikud, ökoloogid, keskkonnakaitsjad, metsaettevõtjad, puidutöösturid jt. Riik on seda lubanud uue metsanduse arengukava näol, mille koostamisse Keskkonnaministeeriumi sõnul kaasatakse senisest rohkem huvigruppe, aga sellegipoolest otsitakse praegu asukohta hiiglaslikule tööstusele, mis oma investeeringu suuruse ja olemuse poolest paneks meie metsamajandamiskavad tegelikkuses paika. EMA selgitab, et kui rajatakse sellise toormevajadusega tselluloositehas nagu Est-For Invest hetkel plaanib, siis ei saa enam juttugi olla raiemahtude vähendamisest järgmise kümne aasta arengukavas, sest vastasel juhul pole miljardiinvesteeringut millegagi toita. Seega ei saa kodanikuühenduse hinnangul tehase rajamisest tegelikult enne rääkima hakata, kui ühiskond järgmises metsanduse arengukavas kokkuleppe on saavutanud. Eri huvigrupid on korduvalt nõudnud metsanduse arengukava ennetähtaegset avamist, tuues põhjenduseks selle toetumise vananenud teadusele ja ebatäpsetele andmetele, samuti lubab see raiumisel säästlikku normi peaaegu kahekordselt ületada.   \n",
       "84                                                                                                                                                                                                                                                                                                                                                                                                                                                                                                                                                                                                                                                                                                                                                                                                                                                                                                                                                                                                                                                                                                                                                                                                                                                                                                                                                                                                                                                                                                                                                                                                                                                                                                                                                                                                                                                                                                                                                                                                                                                                                                                                                                                                                                                                                                                                                                                                                                                                                                                                                                                                                                                                                                                                                                                                                                                                                                                                                                                                                                                                                                                                                                                                                                                                                                                                                                                                                                                                                                                                                                                                                                                                                                                                                                                                                                                                                                                                                                                                                                                                                                                                                                                                                                                                                                                                                                                                                                                                                                                                                                                                                                                                                                                                                                                                                                                                                                                                                                                                                                                                                                                                                                                                                                                                                                                                                                                                                                                                                                                                                                                                                                                                                                                                                                                                                                                                                                                    \n",
       "85                                                                                                                                                                                                                                                                                                                                                                                                                                                                                                                                                                                                                                                                                                                                                                                                                                                                                                                                                                                                                                                                                                                                                                                                                                                                                                                                                                                                                                                                                                                                                                                                                                                                                                                                                                                                                                                                                                                                                                                                                                                                                                                                                                                                                                                                                                                                                                                                                                                                                                                                                                                                                                                                                                                                                                                                                                                                                                                                                                                                                                                                                                                                                                                                                                                                                                                                                                                                                                                                                                                                                                                                                                                                                                                                                                                                                                                                                                                                                                                                                                                                                                                                                                                                                                                                                                                                                                                                                                                                                                                                                                                                                                                                                                                                                                                                                                                                                                                                                                                                                                                                                                                                                                                                                                                                                                                                                                                                                                                                                                                                                                                                                                                                                                                                                                                                                                                                                                                    \n",
       "\n",
       "            subject                      date  \\\n",
       "0           Maaleht  2021-09-29T11:01:40.000Z   \n",
       "1           Maaleht  2021-09-08T21:05:41.000Z   \n",
       "2   Eesti Päevaleht  2021-09-05T21:05:09.000Z   \n",
       "3   Eesti Päevaleht  2020-10-27T15:26:45.000Z   \n",
       "4             Delfi  2020-08-26T09:43:15.000Z   \n",
       "..              ...                       ...   \n",
       "81          Maaleht  2017-12-13T22:00:16.000Z   \n",
       "82   Eesti Ekspress  2017-10-10T21:20:01.000Z   \n",
       "83            Delfi  2017-09-25T04:14:44.000Z   \n",
       "84          Maaleht  2017-04-26T21:00:27.000Z   \n",
       "85          Maaleht  2017-04-26T21:00:18.000Z   \n",
       "\n",
       "                                                                                                                                                              link  \n",
       "0                https://maaleht.delfi.ee/artikkel/94693231/soome-puidukontserni-upm-asepresident-kaido-kukk-puidukeemia-pole-kaugeltki-vaid-wc-paber-hiina-turule  \n",
       "1   https://maaleht.delfi.ee/artikkel/94526643/kohtla-jarve-veerele-planeeritav-tselluloositehas-annaks-polevkivikaevuritele-too-ja-tuleviku-aga-mida-saaks-teised  \n",
       "2                                    https://epl.delfi.ee/artikkel/94506799/kliimaeesmargid-panevad-suure-trahvi-ahvardusega-eesti-metsa-langetamisele-piirid-ette  \n",
       "3                                                 https://epl.delfi.ee/uudised/kristina-kallas-ratase-teine-valitsus-on-veel-hullem-kui-reformierakond?id=91378209  \n",
       "4                             https://www.delfi.ee/news/paevauudised/eesti/kirju-karjaariga-ekssuusatajast-kaspar-kokkast-on-saanud-isamaa-suursponsor?id=90822727  \n",
       "..                                                                                                                                                             ...  \n",
       "81                                  https://maaleht.delfi.ee/news/lehelood/koik/uue-puidutehase-rajajad-ja-teadlased-naevad-eestile-suurt-majanduskasu?id=80468878  \n",
       "82                                                                                            https://ekspress.delfi.ee/arvamus/mets-on-eestlase-kirik?id=79738194  \n",
       "83           https://www.delfi.ee/news/paevauudised/eesti/halduskohus-ei-hoolinud-kodanikuuhenduse-kaebusest-hiid-tselluloositehase-planeerimise-asjus?id=79608718  \n",
       "84                                                           https://maaleht.delfi.ee/archive/vastsed-tehased-suurendavad-puidutoostuse-toormevajadust?id=77921642  \n",
       "85                                   https://maaleht.delfi.ee/archive/tselluloositehase-ehitamine-eestisse-seaks-meie-metsad-veelgi-suurema-loogi-alla?id=77982470  \n",
       "\n",
       "[86 rows x 5 columns]"
      ]
     },
     "execution_count": 8,
     "metadata": {},
     "output_type": "execute_result"
    }
   ],
   "source": [
    "data_delfi"
   ]
  },
  {
   "cell_type": "code",
   "execution_count": 13,
   "metadata": {},
   "outputs": [
    {
     "name": "stdout",
     "output_type": "stream",
     "text": [
      "subject\n",
      "Delfi              32\n",
      "Eesti Ekspress     23\n",
      "Eesti Päevaleht     6\n",
      "Maaleht            20\n",
      "Ärileht             3\n",
      "Name: text, dtype: int64\n"
     ]
    },
    {
     "data": {
      "image/png": "[encoded data removed]",
      "text/plain": [
       "<Figure size 432x288 with 1 Axes>"
      ]
     },
     "metadata": {
      "needs_background": "light"
     },
     "output_type": "display_data"
    }
   ],
   "source": [
    "# Artiklite jaotus väljaandjate kaupa\n",
    "print(data_delfi.groupby(['subject'])['text'].count())\n",
    "data_delfi.groupby(['subject'])['text'].count().plot(kind=\"bar\")\n",
    "plt.show()"
   ]
  },
  {
   "cell_type": "code",
   "execution_count": 16,
   "metadata": {},
   "outputs": [],
   "source": [
    "data_delfi.to_csv('data_delfi_tselluloositehas.csv',index=False)"
   ]
  },
  {
   "cell_type": "code",
   "execution_count": 17,
   "metadata": {},
   "outputs": [],
   "source": [
    "read_file = pd.read_csv (r'data_delfi_tselluloositehas.csv')\n",
    "read_file.to_excel (r'data_delfi_tselluloositehas.xlsx', index = None, header=True)"
   ]
  }
 ],
 "metadata": {
  "kernelspec": {
   "display_name": "Python 3",
   "language": "python",
   "name": "python3"
  },
  "language_info": {
   "codemirror_mode": {
    "name": "ipython",
    "version": 3
   },
   "file_extension": ".py",
   "mimetype": "text/x-python",
   "name": "python",
   "nbconvert_exporter": "python",
   "pygments_lexer": "ipython3",
   "version": "3.6.10"
  }
 },
 "nbformat": 4,
 "nbformat_minor": 4
}
