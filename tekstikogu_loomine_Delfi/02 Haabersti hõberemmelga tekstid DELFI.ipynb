{
 "cells": [
  {
   "cell_type": "markdown",
   "metadata": {},
   "source": [
    "# 02 \"Haabersti hõberemmelgas\" kogumine Delfi veebilehelt"
   ]
  },
  {
   "cell_type": "code",
   "execution_count": 311,
   "metadata": {},
   "outputs": [],
   "source": [
    "import pandas as pd\n",
    "import matplotlib.pyplot as plt\n",
    "import requests\n",
    "import csv\n",
    "from bs4 import BeautifulSoup\n",
    "import pandas as pd\n",
    "from tqdm import tqdm\n",
    "from wordcloud import WordCloud\n",
    "from estnltk import Text\n",
    "import re"
   ]
  },
  {
   "cell_type": "markdown",
   "metadata": {},
   "source": [
    "Delfi veebilehtelt koguti veebiämblikuga uudisartiklite lingid. Kogutud lingid on failis:  delfiscraper/delfiscraper/spiders/delfi_lingid_hoberemmelgas.csv\n",
    "Linkide kogumiseks kasutatud valikukriteeriumid:\n",
    "https://old.delfi.ee/archive/?tod=31.12.2021&fromd=01.01.2017&channel=0&category=0&query=Haabersti+h%C3%B5beremmelga,\n",
    "https://old.delfi.ee/archive/?tod=31.12.2021&fromd=01.01.2017&channel=0&category=0&query=Haabersti+h%C3%B5beremmelgas,\n",
    "https://www.delfi.ee/otsing?search=Haabersti%20remmelga&domain=all&categoriesExternalId&order=LATEST&publishTimeFrom=2017-01-01T00%3A00%3A00Z&publishTimeTo=2021-12-31T21%3A59%3A59Z,\n",
    "https://www.delfi.ee/otsing?search=Haabersti%20remmelgas&domain=all&categoriesExternalId&order=LATEST&publishTimeFrom=2017-01-01T00%3A00%3A00Z&publishTimeTo=2021-12-31T21%3A59%3A59Z\n",
    "\n",
    "1) periood: 01.01.2017 – 31.12.2021\n",
    "\n",
    "2) kanal: kõik\n",
    "\n",
    "3) kategooria: kõik"
   ]
  },
  {
   "cell_type": "code",
   "execution_count": 279,
   "metadata": {},
   "outputs": [
    {
     "name": "stdout",
     "output_type": "stream",
     "text": [
      "144\n"
     ]
    }
   ],
   "source": [
    "# Delfi veebilehelt veebiämblikuga kogutud lingid loetakse listi\n",
    "\n",
    "# list Delfi linkide jaoks\n",
    "urls_delfi_toor = []\n",
    "\n",
    "with open('delfiscraper/delfiscraper/spiders/delfi_lingid_hoberemmelgas.csv', 'r', encoding = 'utf-8') as f:\n",
    "    reader = csv.reader(f)\n",
    "    for line in reader:\n",
    "        if line != []:\n",
    "            urls_delfi_toor.append(line[0])\n",
    "# linkide failis esimene rida ei ole uudise link\n",
    "print(len(urls_delfi_toor)-1)"
   ]
  },
  {
   "cell_type": "code",
   "execution_count": 280,
   "metadata": {},
   "outputs": [
    {
     "name": "stdout",
     "output_type": "stream",
     "text": [
      "Delfi veebilehtedelt kogutud linkide arv:  94\n"
     ]
    }
   ],
   "source": [
    "# võimalike topeltlinkide eemaldamine\n",
    "urls_delfi = list(dict.fromkeys(urls_delfi_toor))\n",
    "print(\"Delfi veebilehtedelt kogutud linkide arv: \", len(urls_delfi)-1)"
   ]
  },
  {
   "cell_type": "markdown",
   "metadata": {},
   "source": [
    "Delfi veebilehtedelt kogutud linkidelt saadakse BeautifulSoup abil järgmine info:\n",
    "\n",
    "1) väljaande nimi\n",
    "\n",
    "2) artikli pealkiri\n",
    "\n",
    "3) artikli tekst\n",
    "\n",
    "4) artikli publitseerimise kuupäev"
   ]
  },
  {
   "cell_type": "code",
   "execution_count": 281,
   "metadata": {},
   "outputs": [
    {
     "name": "stderr",
     "output_type": "stream",
     "text": [
      "  1%|▉                                                                                  | 1/94 [00:01<01:50,  1.19s/it]"
     ]
    },
    {
     "name": "stdout",
     "output_type": "stream",
     "text": [
      "Eesti Ekspress\n"
     ]
    },
    {
     "name": "stderr",
     "output_type": "stream",
     "text": [
      "\r",
      "  2%|█▊                                                                                 | 2/94 [00:01<01:29,  1.03it/s]"
     ]
    },
    {
     "name": "stdout",
     "output_type": "stream",
     "text": [
      "Delfi\n"
     ]
    },
    {
     "name": "stderr",
     "output_type": "stream",
     "text": [
      "\r",
      "  3%|██▋                                                                                | 3/94 [00:02<01:11,  1.27it/s]"
     ]
    },
    {
     "name": "stdout",
     "output_type": "stream",
     "text": [
      "Ärileht\n"
     ]
    },
    {
     "name": "stderr",
     "output_type": "stream",
     "text": [
      "\r",
      "  4%|███▌                                                                               | 4/94 [00:02<00:58,  1.53it/s]"
     ]
    },
    {
     "name": "stdout",
     "output_type": "stream",
     "text": [
      "Eesti Päevaleht\n"
     ]
    },
    {
     "name": "stderr",
     "output_type": "stream",
     "text": [
      "\r",
      "  5%|████▍                                                                              | 5/94 [00:02<00:48,  1.82it/s]"
     ]
    },
    {
     "name": "stdout",
     "output_type": "stream",
     "text": [
      "Ärileht\n"
     ]
    },
    {
     "name": "stderr",
     "output_type": "stream",
     "text": [
      "\r",
      "  6%|█████▎                                                                             | 6/94 [00:04<01:11,  1.23it/s]"
     ]
    },
    {
     "name": "stdout",
     "output_type": "stream",
     "text": [
      "Maaleht\n"
     ]
    },
    {
     "name": "stderr",
     "output_type": "stream",
     "text": [
      "\r",
      "  7%|██████▏                                                                            | 7/94 [00:04<00:58,  1.49it/s]"
     ]
    },
    {
     "name": "stdout",
     "output_type": "stream",
     "text": [
      "Maaleht\n"
     ]
    },
    {
     "name": "stderr",
     "output_type": "stream",
     "text": [
      "\r",
      "  9%|███████                                                                            | 8/94 [00:04<00:49,  1.72it/s]"
     ]
    },
    {
     "name": "stdout",
     "output_type": "stream",
     "text": [
      "Kroonika\n"
     ]
    },
    {
     "name": "stderr",
     "output_type": "stream",
     "text": [
      "\r",
      " 10%|███████▉                                                                           | 9/94 [00:05<00:43,  1.93it/s]"
     ]
    },
    {
     "name": "stdout",
     "output_type": "stream",
     "text": [
      "Delfi TV\n"
     ]
    },
    {
     "name": "stderr",
     "output_type": "stream",
     "text": [
      "\r",
      " 11%|████████▋                                                                         | 10/94 [00:05<00:42,  1.97it/s]"
     ]
    },
    {
     "name": "stdout",
     "output_type": "stream",
     "text": [
      "Delfi\n"
     ]
    },
    {
     "name": "stderr",
     "output_type": "stream",
     "text": [
      "\r",
      " 12%|█████████▌                                                                        | 11/94 [00:06<00:38,  2.17it/s]"
     ]
    },
    {
     "name": "stdout",
     "output_type": "stream",
     "text": [
      "Eesti Päevaleht\n"
     ]
    },
    {
     "name": "stderr",
     "output_type": "stream",
     "text": [
      "\r",
      " 13%|██████████▍                                                                       | 12/94 [00:06<00:46,  1.76it/s]"
     ]
    },
    {
     "name": "stdout",
     "output_type": "stream",
     "text": [
      "Delfi\n"
     ]
    },
    {
     "name": "stderr",
     "output_type": "stream",
     "text": [
      "\r",
      " 14%|███████████▎                                                                      | 13/94 [00:07<00:49,  1.64it/s]"
     ]
    },
    {
     "name": "stdout",
     "output_type": "stream",
     "text": [
      "Delfi\n"
     ]
    },
    {
     "name": "stderr",
     "output_type": "stream",
     "text": [
      "\r",
      " 15%|████████████▏                                                                     | 14/94 [00:08<00:46,  1.73it/s]"
     ]
    },
    {
     "name": "stdout",
     "output_type": "stream",
     "text": [
      "Eesti Päevaleht\n"
     ]
    },
    {
     "name": "stderr",
     "output_type": "stream",
     "text": [
      "\r",
      " 16%|█████████████                                                                     | 15/94 [00:08<00:38,  2.03it/s]"
     ]
    },
    {
     "name": "stdout",
     "output_type": "stream",
     "text": [
      "Kroonika\n"
     ]
    },
    {
     "name": "stderr",
     "output_type": "stream",
     "text": [
      "\r",
      " 17%|█████████████▉                                                                    | 16/94 [00:08<00:36,  2.11it/s]"
     ]
    },
    {
     "name": "stdout",
     "output_type": "stream",
     "text": [
      "Delfi\n"
     ]
    },
    {
     "name": "stderr",
     "output_type": "stream",
     "text": [
      "\r",
      " 18%|██████████████▊                                                                   | 17/94 [00:10<00:57,  1.33it/s]"
     ]
    },
    {
     "name": "stdout",
     "output_type": "stream",
     "text": [
      "Kroonika\n"
     ]
    },
    {
     "name": "stderr",
     "output_type": "stream",
     "text": [
      "\r",
      " 19%|███████████████▋                                                                  | 18/94 [00:10<00:49,  1.53it/s]"
     ]
    },
    {
     "name": "stdout",
     "output_type": "stream",
     "text": [
      "Eesti Päevaleht\n"
     ]
    },
    {
     "name": "stderr",
     "output_type": "stream",
     "text": [
      "\r",
      " 20%|████████████████▌                                                                 | 19/94 [00:12<01:11,  1.05it/s]"
     ]
    },
    {
     "name": "stdout",
     "output_type": "stream",
     "text": [
      "Kroonika\n"
     ]
    },
    {
     "name": "stderr",
     "output_type": "stream",
     "text": [
      "\r",
      " 21%|█████████████████▍                                                                | 20/94 [00:12<00:56,  1.31it/s]"
     ]
    },
    {
     "name": "stdout",
     "output_type": "stream",
     "text": [
      "Eesti Päevaleht\n"
     ]
    },
    {
     "name": "stderr",
     "output_type": "stream",
     "text": [
      "\r",
      " 22%|██████████████████▎                                                               | 21/94 [00:12<00:45,  1.59it/s]"
     ]
    },
    {
     "name": "stdout",
     "output_type": "stream",
     "text": [
      "Eesti Päevaleht\n"
     ]
    },
    {
     "name": "stderr",
     "output_type": "stream",
     "text": [
      "\r",
      " 23%|███████████████████▏                                                              | 22/94 [00:14<01:04,  1.11it/s]"
     ]
    },
    {
     "name": "stdout",
     "output_type": "stream",
     "text": [
      "Eesti Ekspress\n"
     ]
    },
    {
     "name": "stderr",
     "output_type": "stream",
     "text": [
      "\r",
      " 24%|████████████████████                                                              | 23/94 [00:14<00:52,  1.34it/s]"
     ]
    },
    {
     "name": "stdout",
     "output_type": "stream",
     "text": [
      "Eesti Ekspress\n"
     ]
    },
    {
     "name": "stderr",
     "output_type": "stream",
     "text": [
      "\r",
      " 26%|████████████████████▉                                                             | 24/94 [00:15<00:42,  1.63it/s]"
     ]
    },
    {
     "name": "stdout",
     "output_type": "stream",
     "text": [
      "Eesti Päevaleht\n"
     ]
    },
    {
     "name": "stderr",
     "output_type": "stream",
     "text": [
      "\r",
      " 27%|█████████████████████▊                                                            | 25/94 [00:15<00:39,  1.74it/s]"
     ]
    },
    {
     "name": "stdout",
     "output_type": "stream",
     "text": [
      "Delfi\n"
     ]
    },
    {
     "name": "stderr",
     "output_type": "stream",
     "text": [
      "\r",
      " 28%|██████████████████████▋                                                           | 26/94 [00:15<00:34,  1.98it/s]"
     ]
    },
    {
     "name": "stdout",
     "output_type": "stream",
     "text": [
      "Maaleht\n"
     ]
    },
    {
     "name": "stderr",
     "output_type": "stream",
     "text": [
      "\r",
      " 29%|███████████████████████▌                                                          | 27/94 [00:16<00:29,  2.25it/s]"
     ]
    },
    {
     "name": "stdout",
     "output_type": "stream",
     "text": [
      "Eesti Päevaleht\n"
     ]
    },
    {
     "name": "stderr",
     "output_type": "stream",
     "text": [
      "\r",
      " 30%|████████████████████████▍                                                         | 28/94 [00:16<00:30,  2.19it/s]"
     ]
    },
    {
     "name": "stdout",
     "output_type": "stream",
     "text": [
      "Delfi\n"
     ]
    },
    {
     "name": "stderr",
     "output_type": "stream",
     "text": [
      "\r",
      " 31%|█████████████████████████▎                                                        | 29/94 [00:17<00:27,  2.36it/s]"
     ]
    },
    {
     "name": "stdout",
     "output_type": "stream",
     "text": [
      "Maaleht\n"
     ]
    },
    {
     "name": "stderr",
     "output_type": "stream",
     "text": [
      "\r",
      " 32%|██████████████████████████▏                                                       | 30/94 [00:17<00:24,  2.59it/s]"
     ]
    },
    {
     "name": "stdout",
     "output_type": "stream",
     "text": [
      "Eesti Päevaleht\n"
     ]
    },
    {
     "name": "stderr",
     "output_type": "stream",
     "text": [
      "\r",
      " 33%|███████████████████████████                                                       | 31/94 [00:18<00:36,  1.75it/s]"
     ]
    },
    {
     "name": "stdout",
     "output_type": "stream",
     "text": [
      "Maaleht\n"
     ]
    },
    {
     "name": "stderr",
     "output_type": "stream",
     "text": [
      "\r",
      " 34%|███████████████████████████▉                                                      | 32/94 [00:18<00:34,  1.80it/s]"
     ]
    },
    {
     "name": "stdout",
     "output_type": "stream",
     "text": [
      "Delfi\n"
     ]
    },
    {
     "name": "stderr",
     "output_type": "stream",
     "text": [
      "\r",
      " 35%|████████████████████████████▊                                                     | 33/94 [00:19<00:31,  1.92it/s]"
     ]
    },
    {
     "name": "stdout",
     "output_type": "stream",
     "text": [
      "Delfi\n"
     ]
    },
    {
     "name": "stderr",
     "output_type": "stream",
     "text": [
      "\r",
      " 36%|█████████████████████████████▋                                                    | 34/94 [00:19<00:31,  1.93it/s]"
     ]
    },
    {
     "name": "stdout",
     "output_type": "stream",
     "text": [
      "Delfi\n"
     ]
    },
    {
     "name": "stderr",
     "output_type": "stream",
     "text": [
      "\r",
      " 37%|██████████████████████████████▌                                                   | 35/94 [00:20<00:29,  1.97it/s]"
     ]
    },
    {
     "name": "stdout",
     "output_type": "stream",
     "text": [
      "Delfi\n"
     ]
    },
    {
     "name": "stderr",
     "output_type": "stream",
     "text": [
      "\r",
      " 38%|███████████████████████████████▍                                                  | 36/94 [00:20<00:25,  2.25it/s]"
     ]
    },
    {
     "name": "stdout",
     "output_type": "stream",
     "text": [
      "Eesti Päevaleht\n"
     ]
    },
    {
     "name": "stderr",
     "output_type": "stream",
     "text": [
      "\r",
      " 39%|████████████████████████████████▎                                                 | 37/94 [00:21<00:26,  2.15it/s]"
     ]
    },
    {
     "name": "stdout",
     "output_type": "stream",
     "text": [
      "Delfi\n"
     ]
    },
    {
     "name": "stderr",
     "output_type": "stream",
     "text": [
      "\r",
      " 40%|█████████████████████████████████▏                                                | 38/94 [00:21<00:26,  2.09it/s]"
     ]
    },
    {
     "name": "stdout",
     "output_type": "stream",
     "text": [
      "Delfi\n"
     ]
    },
    {
     "name": "stderr",
     "output_type": "stream",
     "text": [
      "\r",
      " 41%|██████████████████████████████████                                                | 39/94 [00:21<00:23,  2.32it/s]"
     ]
    },
    {
     "name": "stdout",
     "output_type": "stream",
     "text": [
      "Eesti Päevaleht\n"
     ]
    },
    {
     "name": "stderr",
     "output_type": "stream",
     "text": [
      "\r",
      " 43%|██████████████████████████████████▉                                               | 40/94 [00:22<00:21,  2.46it/s]"
     ]
    },
    {
     "name": "stdout",
     "output_type": "stream",
     "text": [
      "Forte\n"
     ]
    },
    {
     "name": "stderr",
     "output_type": "stream",
     "text": [
      "\r",
      " 44%|███████████████████████████████████▊                                              | 41/94 [00:22<00:22,  2.34it/s]"
     ]
    },
    {
     "name": "stdout",
     "output_type": "stream",
     "text": [
      "Delfi\n"
     ]
    },
    {
     "name": "stderr",
     "output_type": "stream",
     "text": [
      "\r",
      " 45%|████████████████████████████████████▋                                             | 42/94 [00:23<00:20,  2.50it/s]"
     ]
    },
    {
     "name": "stdout",
     "output_type": "stream",
     "text": [
      "Delfi TV\n"
     ]
    },
    {
     "name": "stderr",
     "output_type": "stream",
     "text": [
      "\r",
      " 46%|█████████████████████████████████████▌                                            | 43/94 [00:23<00:21,  2.37it/s]"
     ]
    },
    {
     "name": "stdout",
     "output_type": "stream",
     "text": [
      "Delfi\n"
     ]
    },
    {
     "name": "stderr",
     "output_type": "stream",
     "text": [
      "\r",
      " 47%|██████████████████████████████████████▍                                           | 44/94 [00:23<00:19,  2.54it/s]"
     ]
    },
    {
     "name": "stdout",
     "output_type": "stream",
     "text": [
      "Maaleht\n"
     ]
    },
    {
     "name": "stderr",
     "output_type": "stream",
     "text": [
      "\r",
      " 48%|███████████████████████████████████████▎                                          | 45/94 [00:24<00:18,  2.68it/s]"
     ]
    },
    {
     "name": "stdout",
     "output_type": "stream",
     "text": [
      "Eesti Päevaleht\n"
     ]
    },
    {
     "name": "stderr",
     "output_type": "stream",
     "text": [
      "\r",
      " 49%|████████████████████████████████████████▏                                         | 46/94 [00:24<00:19,  2.43it/s]"
     ]
    },
    {
     "name": "stdout",
     "output_type": "stream",
     "text": [
      "Delfi\n"
     ]
    },
    {
     "name": "stderr",
     "output_type": "stream",
     "text": [
      "\r",
      " 50%|█████████████████████████████████████████                                         | 47/94 [00:25<00:20,  2.29it/s]"
     ]
    },
    {
     "name": "stdout",
     "output_type": "stream",
     "text": [
      "Delfi\n"
     ]
    },
    {
     "name": "stderr",
     "output_type": "stream",
     "text": [
      "\r",
      " 51%|█████████████████████████████████████████▊                                        | 48/94 [00:25<00:18,  2.51it/s]"
     ]
    },
    {
     "name": "stdout",
     "output_type": "stream",
     "text": [
      "Maaleht\n"
     ]
    },
    {
     "name": "stderr",
     "output_type": "stream",
     "text": [
      "\r",
      " 52%|██████████████████████████████████████████▋                                       | 49/94 [00:25<00:17,  2.63it/s]"
     ]
    },
    {
     "name": "stdout",
     "output_type": "stream",
     "text": [
      "Eesti Päevaleht\n"
     ]
    },
    {
     "name": "stderr",
     "output_type": "stream",
     "text": [
      "\r",
      " 53%|███████████████████████████████████████████▌                                      | 50/94 [00:26<00:18,  2.39it/s]"
     ]
    },
    {
     "name": "stdout",
     "output_type": "stream",
     "text": [
      "Delfi\n"
     ]
    },
    {
     "name": "stderr",
     "output_type": "stream",
     "text": [
      "\r",
      " 54%|████████████████████████████████████████████▍                                     | 51/94 [00:26<00:18,  2.28it/s]"
     ]
    },
    {
     "name": "stdout",
     "output_type": "stream",
     "text": [
      "Delfi\n"
     ]
    },
    {
     "name": "stderr",
     "output_type": "stream",
     "text": [
      "\r",
      " 55%|█████████████████████████████████████████████▎                                    | 52/94 [00:27<00:17,  2.45it/s]"
     ]
    },
    {
     "name": "stdout",
     "output_type": "stream",
     "text": [
      "Maaleht\n"
     ]
    },
    {
     "name": "stderr",
     "output_type": "stream",
     "text": [
      "\r",
      " 56%|██████████████████████████████████████████████▏                                   | 53/94 [00:27<00:15,  2.72it/s]"
     ]
    },
    {
     "name": "stdout",
     "output_type": "stream",
     "text": [
      "Maaleht\n"
     ]
    },
    {
     "name": "stderr",
     "output_type": "stream",
     "text": [
      "\r",
      " 57%|███████████████████████████████████████████████                                   | 54/94 [00:27<00:14,  2.84it/s]"
     ]
    },
    {
     "name": "stdout",
     "output_type": "stream",
     "text": [
      "Eesti Päevaleht\n"
     ]
    },
    {
     "name": "stderr",
     "output_type": "stream",
     "text": [
      "\r",
      " 59%|███████████████████████████████████████████████▉                                  | 55/94 [00:28<00:15,  2.53it/s]"
     ]
    },
    {
     "name": "stdout",
     "output_type": "stream",
     "text": [
      "Delfi\n"
     ]
    },
    {
     "name": "stderr",
     "output_type": "stream",
     "text": [
      "\r",
      " 60%|████████████████████████████████████████████████▊                                 | 56/94 [00:28<00:15,  2.39it/s]"
     ]
    },
    {
     "name": "stdout",
     "output_type": "stream",
     "text": [
      "Delfi\n"
     ]
    },
    {
     "name": "stderr",
     "output_type": "stream",
     "text": [
      "\r",
      " 61%|█████████████████████████████████████████████████▋                                | 57/94 [00:29<00:14,  2.59it/s]"
     ]
    },
    {
     "name": "stdout",
     "output_type": "stream",
     "text": [
      "Eesti Päevaleht\n"
     ]
    },
    {
     "name": "stderr",
     "output_type": "stream",
     "text": [
      "\r",
      " 62%|██████████████████████████████████████████████████▌                               | 58/94 [00:30<00:20,  1.75it/s]"
     ]
    },
    {
     "name": "stdout",
     "output_type": "stream",
     "text": [
      "Maaleht\n"
     ]
    },
    {
     "name": "stderr",
     "output_type": "stream",
     "text": [
      "\r",
      " 63%|███████████████████████████████████████████████████▍                              | 59/94 [00:30<00:19,  1.82it/s]"
     ]
    },
    {
     "name": "stdout",
     "output_type": "stream",
     "text": [
      "Delfi\n"
     ]
    },
    {
     "name": "stderr",
     "output_type": "stream",
     "text": [
      "\r",
      " 64%|████████████████████████████████████████████████████▎                             | 60/94 [00:31<00:18,  1.87it/s]"
     ]
    },
    {
     "name": "stdout",
     "output_type": "stream",
     "text": [
      "Delfi\n"
     ]
    },
    {
     "name": "stderr",
     "output_type": "stream",
     "text": [
      "\r",
      " 65%|█████████████████████████████████████████████████████▏                            | 61/94 [00:31<00:18,  1.81it/s]"
     ]
    },
    {
     "name": "stdout",
     "output_type": "stream",
     "text": [
      "Delfi\n"
     ]
    },
    {
     "name": "stderr",
     "output_type": "stream",
     "text": [
      "\r",
      " 66%|██████████████████████████████████████████████████████                            | 62/94 [00:32<00:17,  1.83it/s]"
     ]
    },
    {
     "name": "stdout",
     "output_type": "stream",
     "text": [
      "Delfi\n"
     ]
    },
    {
     "name": "stderr",
     "output_type": "stream",
     "text": [
      "\r",
      " 67%|██████████████████████████████████████████████████████▉                           | 63/94 [00:32<00:15,  2.05it/s]"
     ]
    },
    {
     "name": "stdout",
     "output_type": "stream",
     "text": [
      "Delfi TV\n"
     ]
    },
    {
     "name": "stderr",
     "output_type": "stream",
     "text": [
      "\r",
      " 68%|███████████████████████████████████████████████████████▊                          | 64/94 [00:33<00:22,  1.34it/s]"
     ]
    },
    {
     "name": "stdout",
     "output_type": "stream",
     "text": [
      "Eesti Ekspress\n"
     ]
    },
    {
     "name": "stderr",
     "output_type": "stream",
     "text": [
      "\r",
      " 69%|████████████████████████████████████████████████████████▋                         | 65/94 [00:34<00:19,  1.50it/s]"
     ]
    },
    {
     "name": "stdout",
     "output_type": "stream",
     "text": [
      "Delfi\n"
     ]
    },
    {
     "name": "stderr",
     "output_type": "stream",
     "text": [
      "\r",
      " 70%|█████████████████████████████████████████████████████████▌                        | 66/94 [00:34<00:16,  1.66it/s]"
     ]
    },
    {
     "name": "stdout",
     "output_type": "stream",
     "text": [
      "Eesti Ekspress\n"
     ]
    },
    {
     "name": "stderr",
     "output_type": "stream",
     "text": [
      "\r",
      " 71%|██████████████████████████████████████████████████████████▍                       | 67/94 [00:35<00:15,  1.75it/s]"
     ]
    },
    {
     "name": "stdout",
     "output_type": "stream",
     "text": [
      "Delfi\n"
     ]
    },
    {
     "name": "stderr",
     "output_type": "stream",
     "text": [
      "\r",
      " 72%|███████████████████████████████████████████████████████████▎                      | 68/94 [00:35<00:13,  1.93it/s]"
     ]
    },
    {
     "name": "stdout",
     "output_type": "stream",
     "text": [
      "Ärileht\n"
     ]
    },
    {
     "name": "stderr",
     "output_type": "stream",
     "text": [
      "\r",
      " 73%|████████████████████████████████████████████████████████████▏                     | 69/94 [00:36<00:12,  1.97it/s]"
     ]
    },
    {
     "name": "stdout",
     "output_type": "stream",
     "text": [
      "Delfi\n"
     ]
    },
    {
     "name": "stderr",
     "output_type": "stream",
     "text": [
      "\r",
      " 74%|█████████████████████████████████████████████████████████████                     | 70/94 [00:36<00:12,  1.97it/s]"
     ]
    },
    {
     "name": "stdout",
     "output_type": "stream",
     "text": [
      "Delfi\n"
     ]
    },
    {
     "name": "stderr",
     "output_type": "stream",
     "text": [
      "\r",
      " 76%|█████████████████████████████████████████████████████████████▉                    | 71/94 [00:37<00:10,  2.21it/s]"
     ]
    },
    {
     "name": "stdout",
     "output_type": "stream",
     "text": [
      "Eesti Päevaleht\n"
     ]
    },
    {
     "name": "stderr",
     "output_type": "stream",
     "text": [
      "\r",
      " 77%|██████████████████████████████████████████████████████████████▊                   | 72/94 [00:37<00:09,  2.43it/s]"
     ]
    },
    {
     "name": "stdout",
     "output_type": "stream",
     "text": [
      "Forte\n"
     ]
    },
    {
     "name": "stderr",
     "output_type": "stream",
     "text": [
      "\r",
      " 78%|███████████████████████████████████████████████████████████████▋                  | 73/94 [00:37<00:09,  2.31it/s]"
     ]
    },
    {
     "name": "stdout",
     "output_type": "stream",
     "text": [
      "Delfi\n"
     ]
    },
    {
     "name": "stderr",
     "output_type": "stream",
     "text": [
      "\r",
      " 79%|████████████████████████████████████████████████████████████████▌                 | 74/94 [00:38<00:07,  2.55it/s]"
     ]
    },
    {
     "name": "stdout",
     "output_type": "stream",
     "text": [
      "Eesti Päevaleht\n"
     ]
    },
    {
     "name": "stderr",
     "output_type": "stream",
     "text": [
      "\r",
      " 80%|█████████████████████████████████████████████████████████████████▍                | 75/94 [00:38<00:08,  2.35it/s]"
     ]
    },
    {
     "name": "stdout",
     "output_type": "stream",
     "text": [
      "Delfi\n"
     ]
    },
    {
     "name": "stderr",
     "output_type": "stream",
     "text": [
      "\r",
      " 81%|██████████████████████████████████████████████████████████████████▎               | 76/94 [00:39<00:08,  2.21it/s]"
     ]
    },
    {
     "name": "stdout",
     "output_type": "stream",
     "text": [
      "Delfi\n"
     ]
    },
    {
     "name": "stderr",
     "output_type": "stream",
     "text": [
      "\r",
      " 82%|███████████████████████████████████████████████████████████████████▏              | 77/94 [00:39<00:07,  2.15it/s]"
     ]
    },
    {
     "name": "stdout",
     "output_type": "stream",
     "text": [
      "Delfi\n"
     ]
    },
    {
     "name": "stderr",
     "output_type": "stream",
     "text": [
      "\r",
      " 83%|████████████████████████████████████████████████████████████████████              | 78/94 [00:40<00:07,  2.10it/s]"
     ]
    },
    {
     "name": "stdout",
     "output_type": "stream",
     "text": [
      "Delfi\n"
     ]
    },
    {
     "name": "stderr",
     "output_type": "stream",
     "text": [
      "\r",
      " 84%|████████████████████████████████████████████████████████████████████▉             | 79/94 [00:40<00:07,  2.09it/s]"
     ]
    },
    {
     "name": "stdout",
     "output_type": "stream",
     "text": [
      "Delfi\n"
     ]
    },
    {
     "name": "stderr",
     "output_type": "stream",
     "text": [
      "\r",
      " 85%|█████████████████████████████████████████████████████████████████████▊            | 80/94 [00:41<00:06,  2.06it/s]"
     ]
    },
    {
     "name": "stdout",
     "output_type": "stream",
     "text": [
      "Delfi\n"
     ]
    },
    {
     "name": "stderr",
     "output_type": "stream",
     "text": [
      "\r",
      " 86%|██████████████████████████████████████████████████████████████████████▋           | 81/94 [00:41<00:05,  2.38it/s]"
     ]
    },
    {
     "name": "stdout",
     "output_type": "stream",
     "text": [
      "Delfi TV\n"
     ]
    },
    {
     "name": "stderr",
     "output_type": "stream",
     "text": [
      "\r",
      " 87%|███████████████████████████████████████████████████████████████████████▌          | 82/94 [00:41<00:05,  2.27it/s]"
     ]
    },
    {
     "name": "stdout",
     "output_type": "stream",
     "text": [
      "Delfi\n"
     ]
    },
    {
     "name": "stderr",
     "output_type": "stream",
     "text": [
      "\r",
      " 88%|████████████████████████████████████████████████████████████████████████▍         | 83/94 [00:42<00:05,  2.14it/s]"
     ]
    },
    {
     "name": "stdout",
     "output_type": "stream",
     "text": [
      "Delfi\n"
     ]
    },
    {
     "name": "stderr",
     "output_type": "stream",
     "text": [
      "\r",
      " 89%|█████████████████████████████████████████████████████████████████████████▎        | 84/94 [00:42<00:04,  2.39it/s]"
     ]
    },
    {
     "name": "stdout",
     "output_type": "stream",
     "text": [
      "Eesti Päevaleht\n"
     ]
    },
    {
     "name": "stderr",
     "output_type": "stream",
     "text": [
      "\r",
      " 90%|██████████████████████████████████████████████████████████████████████████▏       | 85/94 [00:43<00:03,  2.26it/s]"
     ]
    },
    {
     "name": "stdout",
     "output_type": "stream",
     "text": [
      "Delfi\n"
     ]
    },
    {
     "name": "stderr",
     "output_type": "stream",
     "text": [
      "\r",
      " 91%|███████████████████████████████████████████████████████████████████████████       | 86/94 [00:43<00:03,  2.20it/s]"
     ]
    },
    {
     "name": "stdout",
     "output_type": "stream",
     "text": [
      "Delfi\n"
     ]
    },
    {
     "name": "stderr",
     "output_type": "stream",
     "text": [
      "\r",
      " 93%|███████████████████████████████████████████████████████████████████████████▉      | 87/94 [00:44<00:03,  2.23it/s]"
     ]
    },
    {
     "name": "stdout",
     "output_type": "stream",
     "text": [
      "Delfi\n"
     ]
    },
    {
     "name": "stderr",
     "output_type": "stream",
     "text": [
      "\r",
      " 94%|████████████████████████████████████████████████████████████████████████████▊     | 88/94 [00:44<00:02,  2.15it/s]"
     ]
    },
    {
     "name": "stdout",
     "output_type": "stream",
     "text": [
      "Delfi\n"
     ]
    },
    {
     "name": "stderr",
     "output_type": "stream",
     "text": [
      "\r",
      " 95%|█████████████████████████████████████████████████████████████████████████████▋    | 89/94 [00:44<00:02,  2.40it/s]"
     ]
    },
    {
     "name": "stdout",
     "output_type": "stream",
     "text": [
      "Eesti Päevaleht\n"
     ]
    },
    {
     "name": "stderr",
     "output_type": "stream",
     "text": [
      "\r",
      " 96%|██████████████████████████████████████████████████████████████████████████████▌   | 90/94 [00:45<00:01,  2.55it/s]"
     ]
    },
    {
     "name": "stdout",
     "output_type": "stream",
     "text": [
      "Eesti Päevaleht\n"
     ]
    },
    {
     "name": "stderr",
     "output_type": "stream",
     "text": [
      "\r",
      " 97%|███████████████████████████████████████████████████████████████████████████████▍  | 91/94 [00:45<00:01,  2.73it/s]"
     ]
    },
    {
     "name": "stdout",
     "output_type": "stream",
     "text": [
      "Eesti Päevaleht\n"
     ]
    },
    {
     "name": "stderr",
     "output_type": "stream",
     "text": [
      "\r",
      " 98%|████████████████████████████████████████████████████████████████████████████████▎ | 92/94 [00:46<00:00,  2.45it/s]"
     ]
    },
    {
     "name": "stdout",
     "output_type": "stream",
     "text": [
      "Delfi\n"
     ]
    },
    {
     "name": "stderr",
     "output_type": "stream",
     "text": [
      "\r",
      " 99%|█████████████████████████████████████████████████████████████████████████████████▏| 93/94 [00:46<00:00,  2.30it/s]"
     ]
    },
    {
     "name": "stdout",
     "output_type": "stream",
     "text": [
      "Delfi\n"
     ]
    },
    {
     "name": "stderr",
     "output_type": "stream",
     "text": [
      "100%|██████████████████████████████████████████████████████████████████████████████████| 94/94 [00:47<00:00,  1.99it/s]"
     ]
    },
    {
     "name": "stdout",
     "output_type": "stream",
     "text": [
      "Delfi\n"
     ]
    },
    {
     "name": "stderr",
     "output_type": "stream",
     "text": [
      "\n"
     ]
    }
   ],
   "source": [
    "headers = requests.utils.default_headers()\n",
    "headers.update(\n",
    "  { 'User-Agent': 'my crawler (anneliis@ut.ee) / on studying purpose', }\n",
    ")\n",
    "\n",
    "pealkirjad = []\n",
    "tekstid = []\n",
    "väljaanded = []\n",
    "ajad =[]\n",
    "\n",
    "for url in tqdm(urls_delfi[1:]):\n",
    "  \n",
    "    try:\n",
    "        yhendatud_tekst = []\n",
    "        response = requests.get(url, headers=headers)\n",
    "        soup = BeautifulSoup(response.text, 'html.parser')\n",
    "        \n",
    "        väljaanne = soup.find(\"meta\", {\"property\" :\"og:site_name\"})['content']\n",
    "        print(väljaanne)\n",
    "\n",
    "        pealkiri = soup.find(\"meta\", {\"property\" :\"og:title\"})['content']\n",
    "        \n",
    "        #artik = \"article__body\"\n",
    "        artik = \"G-col-article\"\n",
    "        publits = {\"name\": \"cXenseParse:recs:publishtime\"}\n",
    "        #publits = {\"property\" : \"article:published_time\"}\n",
    "                    \n",
    "        tekst = soup.findAll(\"div\",{\"class\" : artik})\n",
    "\n",
    "        for t in tekst:\n",
    "            p = t.find_all('p')\n",
    "            for r in p:\n",
    "                yhendatud_tekst.append(r.text)\n",
    "          \n",
    "        tekstid.append(yhendatud_tekst)\n",
    "\n",
    "        aeg = soup.find(\"meta\", publits)['content']\n",
    "        \n",
    "    except Exception as e:\n",
    "        print(\"Exception is :\", e, url)\n",
    "        \n",
    "    pealkirjad.append(pealkiri)\n",
    "    väljaanded.append(väljaanne)\n",
    "    ajad.append(aeg)\n",
    "    artikkel = [' '.join(article) for article in tekstid]"
   ]
  },
  {
   "cell_type": "markdown",
   "metadata": {},
   "source": [
    "Kogutud info uudisartiklite kohta koondatakse sõnastikuks."
   ]
  },
  {
   "cell_type": "code",
   "execution_count": 282,
   "metadata": {},
   "outputs": [],
   "source": [
    "artiklid = {'title': pealkirjad, 'text': artikkel,'subject': väljaanded, 'date': ajad, 'link': urls_delfi[1:]}"
   ]
  },
  {
   "cell_type": "markdown",
   "metadata": {},
   "source": [
    "Kogutud sõnastik esitatakse tabeli kujul. Tabelis on viis veergu:\n",
    "\n",
    "1) artikli pealkiri\n",
    "\n",
    "2) artikli tekst\n",
    "\n",
    "3) artikli väljaandja\n",
    "\n",
    "4) artikli publitseerimise kuupäev\n",
    "\n",
    "5) artikli link"
   ]
  },
  {
   "cell_type": "code",
   "execution_count": 283,
   "metadata": {},
   "outputs": [],
   "source": [
    "data_delfi = pd.DataFrame(artiklid, columns = ['title', 'text','subject', 'date', 'link'])"
   ]
  },
  {
   "cell_type": "code",
   "execution_count": 284,
   "metadata": {},
   "outputs": [
    {
     "data": {
      "text/plain": [
       "(94, 5)"
      ]
     },
     "execution_count": 284,
     "metadata": {},
     "output_type": "execute_result"
    }
   ],
   "source": [
    "data_delfi.shape"
   ]
  },
  {
   "cell_type": "code",
   "execution_count": 285,
   "metadata": {},
   "outputs": [
    {
     "data": {
      "text/html": [
       "<div>\n",
       "<style scoped>\n",
       "    .dataframe tbody tr th:only-of-type {\n",
       "        vertical-align: middle;\n",
       "    }\n",
       "\n",
       "    .dataframe tbody tr th {\n",
       "        vertical-align: top;\n",
       "    }\n",
       "\n",
       "    .dataframe thead th {\n",
       "        text-align: right;\n",
       "    }\n",
       "</style>\n",
       "<table border=\"1\" class=\"dataframe\">\n",
       "  <thead>\n",
       "    <tr style=\"text-align: right;\">\n",
       "      <th></th>\n",
       "      <th>title</th>\n",
       "      <th>text</th>\n",
       "      <th>subject</th>\n",
       "      <th>date</th>\n",
       "      <th>link</th>\n",
       "    </tr>\n",
       "  </thead>\n",
       "  <tbody>\n",
       "    <tr>\n",
       "      <th>0</th>\n",
       "      <td>Politsei, kokad, emad, muusikud ja lillelapsed – pildikesi koroonakevade meeleavalduselt</td>\n",
       "      <td>„Valgus, rahu, rõõm ja vägi“ Toompeal, 7. aprillil kella 16 ajal. Päike paistab. Riigikogu hoone ees on sadakond inimest. Politseiautosid paistab üks, politseinikke kaks. Seltskond on kirev. On koroona tõttu töötuks jäänud kokkasid, muusikuid, kelle sissetuleku koroona koomale tõmbas, on talunikke, on vanu hipisid. Siin on tantsuõpetajast üksik­ema. Tema tütar käib esimeses klassis. Koroonapiirangute tõttu tantsutunde ei toimu. „Millest sa elad siis?“ „Eks ma käin linnavalitsuses toetust lunimas. Söön kapsast, peeti, porgandit.“</td>\n",
       "      <td>Eesti Ekspress</td>\n",
       "      <td>2021-04-13T21:30:06.000Z</td>\n",
       "      <td>https://ekspress.delfi.ee/artikkel/93112601/politsei-kokad-emad-muusikud-ja-lillelapsed-pildikesi-koroonakevade-meeleavalduselt</td>\n",
       "    </tr>\n",
       "    <tr>\n",
       "      <th>1</th>\n",
       "      <td>FOTOD | Protest jätkub: Toompeale toodi meelt avaldama ka maimikud</td>\n",
       "      <td>Kui hommikutundidel oli kohale kogunenud umbkaudu paarkümmend inimest, siis keskpäevaks oli arv kasvanud juba mitu korda suuremaks. Põhja prefektuuri kriisistaabi juht Valdo Põder vahendas, et olukord oli politsei silmis hommikupoolikul rahulik. \"Politseinikud aitavad saabunud inimesi suunata hajutatud gruppidesse nii, nagu kehtivad piirangud ette näevad,\" märgiti politsei pressiteenistusest. \"Inimesed on mõistvad ja ühtki vahejuhtumit esinenud ei ole.\" Delfi fotoreporteril tuli siiski omast kogemusest märkida, et mõningaid politseinikega vaidlejaid siiski leidus - suunitlused korrakaitsjatelt olid seotud koroonaviiruse ohutusmeetmete tagamisega. Ühel hetkel saabus kohale saabunud ka politseibuss, mille kõlaritest lasti kohalviibijaile avaliku korra suhtes kehtivaid reegleid. Maske kanti üritusel väga vähe, paljud inimesed kallistasid üksteist. Fotoreporteri sõnutsi oli meeleavaldajate seas näha ka tuttavaid nägusi hoopis teistlaadi protestilt, mis leidis aset aastaid tagasi. \"Üks kunagine Haabersti hõberemmelga kaitsja on näiteks siin,\" kirjeldas Andres Putting nähtut. Lisaks lõigati lahti kringlit, mida jagati protestijaile kõhukosutuseks. Suutäite vahele lauldi ka Eesti hümni. Külmast tuulest ja kõledast ilmast hoolimata oli üsnagi palju näha tänasel protestil lasteaiaealisi lapsi, kellele vanavanemad olid pihku pistnud Eesti lipu. Meeleolu oli loomas ka Tõnis Mäe \"Koitu\" mängiv must mikrobuss, mille tagumist klaasi ehivad kleebistena \"#fakepandemic\" ja \"sõnavabadus\".</td>\n",
       "      <td>Delfi</td>\n",
       "      <td>2021-04-10T08:33:40.000Z</td>\n",
       "      <td>https://www.delfi.ee/artikkel/93094891/fotod-protest-jatkub-toompeale-toodi-meelt-avaldama-ka-maimikud</td>\n",
       "    </tr>\n",
       "    <tr>\n",
       "      <th>2</th>\n",
       "      <td>Uus hõberemmelgas? Kohalikud tunnevad muret haruldase Tiskre leinamänni tuleviku pärast</td>\n",
       "      <td>Tõenäoliselt mäletavad paljud, kuidas 2017. aasta kevadel maadeldi mitu nädalat selle üle, et Haabersti ringristmiku rajamine ei saaks saatuslikuks ehitusele ette jäänud hõberemmelgale. Lõpuks võeti tee rajamist takistanud puu siiski maha. Üsna sarnane mure on üles kerkinud seoses Tallinna linnavalitsuse hiljutise otsusega hakata ehitama paari kinnistut Tiskres, kus asub Baltikumis ainulaadne leinamänd. Tallinna linnavalitsus otsustas oma 21. oktoobri korraldusega, et hakkab kahele Tallinna linna omandis olevale kinnistule – aadressidel Tiskre tee 21 ja Tiskre tee 21a – rajama lasteaed-põhikooli koos parklaga. Kuigi paljudele tallinnlastele ei ütle need aadressid mitte midagi, mäletavad kohalikud aga ligi 20 aasta tagust Postimehe artiklit, kus räägiti, et autotee rajamine ähvardab Tiskres hävitada vanad tammed. Nimelt avastas Eesti dendroloogiaseltsi president Aino Aaspõllu toona just Tiskre tee 21 vahetusläheduses haruldase leinamänni, mis on 166 sentimeetri jämedune ja sajandivanune. Selle puu säästmiseks otsustas piirkonnas kinnisvara arendamisega tegelenud KMG Ehitus tõmmata oma plaanides kriipsu peale kaheksale elamule ning haruldase puu säästmiseks nihutada ka tee asukohta viie meetri võrra.</td>\n",
       "      <td>Ärileht</td>\n",
       "      <td>2020-11-21T06:50:02.000Z</td>\n",
       "      <td>https://arileht.delfi.ee/news/uudised/uus-hoberemmelgas-kohalikud-tunnevad-muret-haruldase-tiskre-leinamanni-tuleviku-parast?id=91727447</td>\n",
       "    </tr>\n",
       "    <tr>\n",
       "      <th>3</th>\n",
       "      <td>MIS SAAB HOMME? | Mati Puss: mis tähtsust on sellel, et EKRE on valitsuses ja kliima soojeneb, kui oleme vaimselt surnud?</td>\n",
       "      <td>Keskkonnakriisi aina aktuaalsemaks muutudes püüavad erinevad ideoloogiad välja pakkuda oma maailmavaatest tulenevaid lahendusi, aga nii liberalism kui konservatism ei käsitle keskkonnaprobleeme koos globaalse sotsiaalse ebavõrdsusega, mis on erinevate barbaarsete nähtuste peamine põhjus. Kahjuks on ka vasakpoolsus ise kriisis, selle erinevad suundumused takerduvad liberaalide ja konservatiivide püstitatud vastandustesse ning ei suuda seetõttu välja käia häid toimivaid lahendusi. Konservatiivsed tehnopessimistid seisavad vastu keskkonnale negatiivselt mõjuda võivatele tehnoloogilistele arengutele nagu näiteks Rail Baltic. Radikaalsemad ökokonservatiivid näevad lahendusena tagasipöördumist tehnoloogiliselt primitiivsema ja kultuuriliselt konservatiivsema kogukondliku elu juurde. Kui arengute käigus toimub läbikukkumisi ning tuntakse, et midagi on kaotatud, siis on loomulik, et tagajärgedeks võivad olla ettevaatlikus ja retro-romantism. Otsekui süvausklikud Seda tendentsi kohtab ka Eesti konservatiivses vasakpoolsuses: modernistlikud avangardistid, kes kuulutasid kommunismi, transgressiivseid kunste ning individualistlikku ekstravagantsust, pöördusid heaoluriigi šovinismi, post-kolonialistlikusse enesehaletsusse ja nostalgilisse looduromantismi. Soovis hingelisemate suhete järgi keskkonna ja teiste inimestega ei ole iseenesest midagi halba, aga probleem tekib siis kui hüljatakse emantsipatsioon - püüd individuaalse vabaduse ja kultuurilise arengu poole - ning seda toetav tehnoloogiline areng. Sellist käitumist võib võrrelda konservatiivsete usklike omaga, kes ei suuda oma religioossust integreerida kaasaegsete arusaamadega ning vihases fundamentalismis labastavad ka usulise kogemuse. Keskkonnaaktivismi vallas on Eestis selle näiteks Haabersti hõberemmelga kaitsmine: ühest puust tehti fetišistlik objekt, sest puudus vaimne võimekus kodanikuühiskonnana intellektuaalselt kaasa rääkida oma kodukandi keskkonnasõbraliku, esteetiliselt nauditava ja inimsuhteid toetava haljastuse kujundamisel. Jääb eliidi pärusmaaks Liberaalsed tehnooptimistid näevad keskkonnaprobleemide lahendustena indiviidide tarbimisharjumuste muutumist, sellele vastavaid ökotooteid ning uudseid tehnoloogiaid vabal turul. Sellised meetmed ei ole iseenesest valed, aga liberaalide probleem on see, et nad tahavad jätkusuutliku arengut teostada ilma radikaalsete süsteemsete muutusteta ja sel juhul jääb keskkonnasõbralik käitumine eliidi pärusmaaks ega motiveeri laiu masse teistmoodi elama, sest klassihierarhiatest tulenevalt on nad muudetud lihtsalt tööloomadeks üldises tootmise masinavärgis. Heaks näiteks vastuhakust vähemate võimalustega inimeste nurka surumisele on kollavestide mäss kütuseaktsiisi tõusu vastu Prantsusmaal. Klassivahede süvendamine ehk barbaarsus ülevalt poolt killustab inimrühmi ja kui etnotsentrismile puudub elujõuline rohujuuretasandilt solidaarsust ehitav alternatiiv on tulemuseks barbaarsus altpoolt, mille näiteks on jällegi Prantsusmaa ja Marie Le Peni populaarsus seal. Omandi kollektiviseerimine USA-s ja Euroopas viimastel aastatel populaarsust koguv idee Rohelisest Uuest Kursist (Green New Deal) põhineb arusaamal, et ühiskond peab muutuma nii keskkonnasõbralikumaks kui ka sotsiaalselt õiglasemaks. Selleks, et Roheline Uus Kurss ei manduks lihtsalt tsentrist veidi vasakule jäävaks liberaalseks lahenduseks, kus tegeletakse ainult maksude ja investeeringutega, on vaja kollektiviseerida ka omandit, sest ainult sel juhul on suuremal hulgal rahvast sellest tõeliselt kasu. Näiteks taastuvenergiale üleminek on väga vajalik, aga elektritootmise vahendid ei pea kuuluma ainult vähestele eraettevõtetele, kes selle kaudu rikastuvad, vaid nende omanikuks võib olla ka ühistu, kohalik omavalitsus või aktivistide kommuun. Selliselt toimivaid näiteid on juba Põhjamaades olemas. Eestis seostub sõnaga sotsialism eelkõige nõukogudeaegne nüri autoritaarsus, aga tegelikult on vasakpoolsete poliitiliste meetmete spekter väga lai. Kaasaegse demokraatliku sotsialismi eesmärk võiks olla just see, millega liberaalid ja konservatiivid hakkama ei saa: toetada nii suuremat individuaalset vabadust kui ka kogukondlike suhteid. Näiteks mitmetes maapiirkondades on loodetud liiga palju vaba turu mehhanismidele ning nõnda on jäetud munitsipaalne kinnisvara hooletusse. Samas nõudlust nii korralike munitsipaalkorterite (individuaalne vabadus ehk „Ei pea ämma perse taga elama.\") kui kultuurimajade (toetavad kogukondlikud suhted) osas on olemas. Vajame kommuune Omandiküsimustest veelgi teravam probleem on see, kuidas organiseerida tööd ehk kuidas jõuda kokkuleppele teha koostööd ühiste eesmärkide nimel. Tootmise automatiseerimine võimaldab küll vähendada inimtööjõu vajadust selles vallas, aga tööd, mille sisuks on keskkonna ja inimeste hoidmine ning nende eest hoolitsemine, jäävad endiselt alles. Selleks, et vastutust nende tööde eest ühiskonnas võrdsemalt jagada, on vaja erinevaid lahendusi alates kommuunidest kuni riikideülese tsiviilteenistuseni. Loomulikult ei kõla loosung „Kes ei taha töötada, ärgu ka söögu!\" (2Ts 3:10) nii ahvatlevalt kui kuulutus varsti saabuvast täisautomatiseeritud luksuslikust kommunismist, aga see, kes ei ole valmis panustama ühistesse hüvedesse, vaid tahab teiste nahal liugu lasta, pole praktikas mitte sotsialist. vaid kodanlik liberaal. Siin peitub ka üks põhjus, miks Eestis puuduvad tõsised vasakpoolsed arutelud. Aastakümneid on Eestis vasakpoolsuse all peetud silmas individualistliku eneseupitamist, moraliseerimist ja ülbitsemist. Kui mingid haritlaste lapsed karjuvad pidevalt „Mendid! Mendid\", siis peetakse neid kõvadeks mässajateks, aga keegi ei osuta sellele, et need tüübid on ise osa kodanlikust establishMENDist. Kohalikus feminismis ülistatakse kunstisaalides roosat puuksu laskvaid printsesse, küsimata seejuures, miks me elame endiselt ühiskonnas, kus on au sees printsessid ja snobism. Tõsist arutelu klassisuhete üle kardetakse, sest selle käigus võib paljastuda ka rääkija enda positsioon ning tõstatuda ebamugav küsimus: „Mis on need ühised eesmärgid, mille nimel me peaksime koos töötama?\" Enne lõpeb maailm kui kapitalism Ajastul, kus igapäevaselt hirmutatakse läheneva apokalüpsisega, tuleks legendaarne ütlus, et kergem on ette kujutada maailma lõppu kui kapitalismi lõppu, sõnastada ümber küsimuseks: „Milleks hoolida maailma lõpust, kui ajalugu on juba lõppenud?\" Mis tähtsust on sellel, et EKRE on valitsuses ja kliima soojeneb, kui oleme vaimselt surnud, ehk teistsugune, elav vaimsus meie sees ja meie vahel ei ole enam võimalik? Mis mõte on maailmal, kus puuduvad sügavad inimsuhted mille kaudu areneda ning kus ei ole võimalik koos olnut mõtestada ning entusiastlikult uut kultuuri luua? Liberaalsete ja konservatiivsete vasakpoolsete puhul ei ole probleemiks ainult see, et nad ei ole piisavalt materialistlikud, vaid ka see, et nad ei ole piisavalt idealistlikud - nad on kaotanud usu kultuurilise arengu jätkumisse. Üks tont käib ringi... Siiski üks tont käib ringi mööda Euroopat, aga see ei ole hallitanud mehhanistliku ja anti-humanistliku kommunismi tont. Sellest hoolimata on liberaalid ja konservatiivid sulgunud tubadesse, mille nad on hirmust muutuste ees täis pasandanud. Kaunishingedest konservatiivid on mattunud nostalgiasse, sest nad tunnevad alaväärsust Lääne kultuuri ees ega suuda läbi organiseerumise ühendada kohalikku tasandit kaasaegsesse globaalsesse vasakpoolsesse mõtlemisse. Liberaalid/ libertaarlased on soovist oma moraalset üleolekut tõestada teinud kogu poliitika sisuks enese näitamise ja teistele näpuga vibutamise. Kui aga soovitakse enda identiteeti ülemaks pidada, eitatakse enda inimlikkust ja nõnda lõhutakse võimalused erinevateks solidaarsusteks. Hetkel, mil ühiskonnas valitseb konsensus, et ajalugu (historia) on lõppenud, on aga vaja hüsteerikuid, kes ei suudaks sellega leppida ja riskiksid teha akna lahti, et värske õhk saaks ergutada mõtlemist ning Püha Vaim saaks tulla meie peale ja meie elu uueks luua.</td>\n",
       "      <td>Eesti Päevaleht</td>\n",
       "      <td>2019-11-24T11:00:42.000Z</td>\n",
       "      <td>https://epl.delfi.ee/arvamuskonkurss/mis-saab-homme-mati-puss-mis-tahtsust-on-sellel-et-ekre-on-valitsuses-ja-kliima-soojeneb-kui-oleme-vaimselt-surnud?id=88157181</td>\n",
       "    </tr>\n",
       "    <tr>\n",
       "      <th>4</th>\n",
       "      <td>Tallinnas langetatud puu võib tõrjuda Nordeconi idapiiri ehitushankelt</td>\n",
       "      <td>Kahe aasta eest loata raiutud puu võib aktsiaseltsi Nordecon idapiiri ehitushankelt kõrvale jätta. Ettevõte tunnistab küll puu raiumist, kuid rõhutab riigihangete vaidluskomisjonile, et nii väike asi ei tohiks hanget mõjutada, kirjutab ERRi uudisteportaal. 2017. aasta suve üks suuremaid meediasündmusi oli Haabersti hõberemmelga hipilaager. Aktsiaselts Nordecon ehitas ümber sealset ristmiku ja võis maha raiuda 795 puud. Remmelga raiumine paljudele ei meeldinud ja lõpuks muutus pahandus nii suureks, et politsei vedas aktivistid süles minema. Aga hoopis teistsugune lugu pandi idanema 200 meetrit eemal Päevalille tänava ääres. Nimelt seisis seal üks puu, mille raiumiseks Nordeconil luba polnud. Aga ettevõtte juhatuse liige Ago Voogma tunnistab, et kuidagi võeti puu ikkagi maha. Tänavu viimasel jaanuaripäeval hakkas politsei- ja piirivalveamet otsima ettevõtet, kes projekteeriks ja ehitaks valmis esimese pikema jupi idapiiri. PPA-le esitatud seitse taotluse seas olid kõik meie suured tegijad, näiteks TREV-2 Grupp ja Merko Ehitus, aga ka YIT Eesti, Rand ja Tuulberg ning Nordecongi. Kui amet taotlusi lähemalt uuris, selgus aga, et üksik Haaberstis raiutud puu laiutas Nordeconi plaanidel risti ees. Loe pikemalt ERRi uudisteportaalist.</td>\n",
       "      <td>Ärileht</td>\n",
       "      <td>2019-07-12T13:25:17.000Z</td>\n",
       "      <td>https://arileht.delfi.ee/news/uudised/tallinnas-langetatud-puu-voib-torjuda-nordeconi-idapiiri-ehitushankelt?id=86824659</td>\n",
       "    </tr>\n",
       "    <tr>\n",
       "      <th>...</th>\n",
       "      <td>...</td>\n",
       "      <td>...</td>\n",
       "      <td>...</td>\n",
       "      <td>...</td>\n",
       "      <td>...</td>\n",
       "    </tr>\n",
       "    <tr>\n",
       "      <th>89</th>\n",
       "      <td>Juhtkiri: nähkem remmelga taga ka metsa</td>\n",
       "      <td>On maitse küsimus, kas puu kallistamine, tema ümber trummi põristamine ja tantsu löömine läheb üle võlli või mitte. Tähelepanu see igatahes tõmbab ja on ka politsei siiamaani n-ö relvituks teinud. Aga aktsiooni tõsiseltvõetavusele tegi alguses kahju see, et räägiti 334-aastasest remmelgast. Praegu räägitakse petitsioonis, mis eile õhtuks oli kogunud peaaegu 1500 allkirja, 100–150-aastasest elujõulisest pajupuust. Arborist Heiki Hanso hinnangul on seegi vanus üle hinnatud, pigem olevat tegemist 70-aastase puuga. Puu vanusele rõhumisega on aktivistid mööda pannud ka selles mõttes, et linnavalitsuse üks vastuargumente on: selle puu eluiga saab nagunii varsti ümber. Aga mida noorem puu, seda rohkem on talle eluaastaid jäänud. Haabersti ristmiku laiendamise pooldajate jutu, et maha võetud puude asemele istutatakse tee äärde hulk uusi puid, nõrk koht on just tõsiasi, et need puud kasvavad suureks alles aastakümnete pärast. Vähemalt senikaua kujutab uus tee endast kõledat ja tolmust asfaldivälja. Haabersti ringristmiku liiklusprobleemidele lahendust ootavaid inimesi veenaks see argument rohkem kui jutt hingepuust, emapuust ja selle remmelgaga seotud kultuuripärandist. Tulevasi tee-ehitusi silmas pidades tuleks remmelga taga näha ka metsa. Kõrghaljastust ei tohiks linnas nii kergekäeliselt maha võtta, kui on tehtud Haabersti ristmiku ehituse tõttu. Remmelgat kaitsvate aktivistide väitel lubab raieluba maha võtta 795 puud, kuid praeguseks on puid maha võetud juba üle 1200, pealegi tehti seda lindude pesitsusajal. Mis remmelgasse puutub, siis sõnumite „Midagi ei saa enam muuta” asemel aitaks vastasseisu inetuks minemata lahendada vahest see, kui Tallinna linnavalitsus selgitaks, kui palju remmelga säästmine tee-ehitust kallimaks teeks või ajaliselt pikendaks.</td>\n",
       "      <td>Eesti Päevaleht</td>\n",
       "      <td>2017-06-18T21:05:01.000Z</td>\n",
       "      <td>https://epl.delfi.ee/arvamus/juhtkiri-nahkem-remmelga-taga-ka-metsa?id=78602320</td>\n",
       "    </tr>\n",
       "    <tr>\n",
       "      <th>90</th>\n",
       "      <td>Puu ei ole linnamööbel</td>\n",
       "      <td>Üks vana mees võttis kirve ja läks metsast puid tooma. Metsas läks ta puu juurde ja hakkas raiuma. Kohe hüüdis üks hääl puu seest: „Kuule mees! Ära löö enam mitte! Ma annan sulle, mis sa aga küsid.” Mees mõtles natuke aega ja siis küsis: „Eks tee mind nii rikkaks, et kui ma koju lähen, siis on kõik aidad ja kastid vilja täis.” Puu ütles: „Mine koju, küll sa leiad.” (…) See elu läinud temale aga varsti jälle igavaks. Ta tahtis kuningaks saada. Mees läks puu juurde, rääkis oma soovi ära, et igatseb kuningaks saada. Puu vastas: „Oi õnnetust! Sa lähed liiale! Sa pead samuti puuks saama ja kange tuule ajal oma uhkuse pärast nutma.” Kohe saanudki mees puuks. Tänapäeval öeldakse, kui puu karjub – siis, kui teine teisi vastu hõõrudes piriseb –, et vana mees nutab oma uhkust. Tõstamaa kihelkonnas 1894. aastal kirja pandud jutt Eestlaste side looduse ja eri maastikega (sh mets ja meri) ei ole tänapäevases üha rohkem linnastuvas ühiskonnas kuskile kadunud. Meie keelekasutuses on säilinud maastiku ja inimese vaheline ammune side. See väljendub nii inimese oleku kirjeldamises maastikuelementide kaudu („särav nagu päike”, „sünge nagu tormine meri”, „tugev kui tamm”) kui ka loodusnähtustele inimlike omaduste lisamises. Tamm või pankrannik olid piisava tähtsusega, et olla mitme muu maastiku seas esindatud meie rahatähtedel. Eesti perekonnanimede esiviiesajas leidub kümneid ja kümneid maastikulisi nimesid: Tamm, Nurm, Jõgi jne. Näiteks kuusk, vaher ja kask ei ole ainult kuskil Eestis kasvavad anonüümsed puud, vaid ka üle 6000 kasvava ja areneva eestlase. Eestlastele meeldib uskuda, et oleme loodusrahvas ja meie side loodusega on justkui erilisem kui keskmisel lääneeurooplasel, kes on oma metsad ammu maha raiunud. Samal ajal ei oska me linnastuvas Eestis ikka veel väärtustada loodust elukeskkondade lahutamatu osana. Eriti probleemne on seejuures suhtumine linnaloodusesse, mida kiputakse mõistma progressi (sh ehitatud keskkonna laiendamist) takistava nuhtlusena, mitte olulise väärtusena. Tehnokraatlik haljastuspornograafia Linna rohealad kuuluvad Euroopa maastikukonventsiooni järgi inimestele, kellel on õigus olla nende saatusest informeeritud ja selles kaasa rääkida. Ometi on Tallinnas viimasel kümnendil kujunenud nii, et linna arendatakse haljastuse kulul. Puud on kõige sagedamini sattunud linnaehituslike konfliktide keskmesse. Akadeemik Mart Kalm sedastas paari aasta eest: „Linnahaljastuse halb kord on nõukogude aja pärand. Selle juured on sõjajärgse modernsuse tehnokraatlikus mõtlemises, mis linnamajanduses seadis esikohale maa-alused võrgud ja autoliikluse ning tõi ohvriks puud jm haljastuse.” (Postimees 27.7.2015) Infrastruktuuri laiutamisega on kimpus teisedki Euroopa linnad. Seetõttu on praegusel Euroopa rahastusperioodil loodud Horisont 2020, spetsiaalne teadusprogrammi meede, et teadlaste abiga luua ja tuua linnaruumi tagasi looduspõhised lahendused.</td>\n",
       "      <td>Eesti Päevaleht</td>\n",
       "      <td>2017-06-18T16:09:18.000Z</td>\n",
       "      <td>https://epl.delfi.ee/arvamus/puu-ei-ole-linnamoobel?id=78600206</td>\n",
       "    </tr>\n",
       "    <tr>\n",
       "      <th>91</th>\n",
       "      <td>Kristen Michal: keskerakondlik linnavõim oskab planeerida vaid ühest lindilõikamisest teiseni</td>\n",
       "      <td>Haabersti ristmiku remmelgasaaga taustal sõnab reformierakondlane Kristen Michal, et Tallinna planeerimine ei vaata tulevikku 10-20 aastat, vaid on kinni lühiajalises perspektiivis. \"Tallinna linnas on suurte objektide rajamisel üks ikaldus teise järel. Uusi ristmikke on väga vaja, need peavad arvestama nii liiklejate huvi kui keskkonnaga. Haabersti ristmiku, nagu Russalka ristmiku, Gonsiori laienduse ja paljude objektide raha on eelmise valitsuse ajal riigieelarvesse saanud. Tallinna linnavalitsus on pidanud leidma keskkonda sobivad planeeringud,\" meenutab Michal. \"Eelmise valitsuse majandus- ja taristuministrina, kes nende ristmike rahastuse eest seisis, saan öelda, et sai korduvalt ka Tallinna tänasele juhtkonnale öeldud, et aega on, tehke korraliku planeeringud, vajadusel on isegi lisarahastuse võimalus,\" räägib ta. \"Vaatan uudiseid murega, jutt paremast planeerimisest läks kurtidele kõrvadele. Korralik segadus Tallinna kahe olulisema ristmiku planeerimise ja ehituse ümber seda näitab.\" Ta märgib, et Haaberstis puude ümber toimuv on siiski vaid üks näide. \"Probleem on tegelikult ju laiem. Tallinna planeerimine ei vaata tulevikku 10-20 aastat, vaid on kinni lühiajalises perspektiivis. Vabandust nii ütlemise eest, aga - majavalitsus, mitte linnavalitsus on selle nimi. Lindilõikamisest teiseni on plaan. Ja Keskerakonna ainuvõimu suur programmiline idee on Õismäe purskkaevu toru korda tegemine?!\" Ta lisab, et uued taristuarendused peavad vaatama kaugemale - liiklejate ja kohalike inimeste huvides. Delfi kajastas täna, et keskkonnaministeeriumi hinnangul ei vasta Haabersti ristmiku rekonstrueerimistööde piirkonnas kasvav hõberemmelgas riikliku kaitse alla võtmise eeldustele ja kõiki asjaolusid arvesse võttes puudub alus Tallinna keskkonnaameti poolt väljastatud raieloa menetluse uuendamiseks. Remmelga ümber on juba kolmandat nädalat loodusekaitsjad, kes valvad puud 24/7.</td>\n",
       "      <td>Delfi</td>\n",
       "      <td>2017-06-13T15:18:29.000Z</td>\n",
       "      <td>https://www.delfi.ee/news/paevauudised/eesti/kristen-michal-keskerakondlik-linnavoim-oskab-planeerida-vaid-uhest-lindiloikamisest-teiseni?id=78550873</td>\n",
       "    </tr>\n",
       "    <tr>\n",
       "      <th>92</th>\n",
       "      <td>VIDEO ja FOTOD | Haabersti ringil mitmesaja-aastast puud kaitsvad looduskaitsjad: paju oli siin enne Eesti Vabariiki</td>\n",
       "      <td>Paju juurde on kolmeliikmeline grupp üles pannud telgi, mille juures küpsetavad lõkke peal toitu. \"See puu on olnud siin enne kui Eesti Vabariik,\" selgitab üks neist. \"See on kõige suurem ja väärikam puu siin.\" Nimelt väidavad nemad, et just see puu on 334 aastat vana. Loodusekaitsjad on Haabersti ringi läheduses olnud juba eilsest peale ja plaan on jääda sinna nii kauaks, kuni probleem lahendatud saab või puu ikkagi maha võetakse. Nad tahavad koguda kokku tuhat allkirja ja loodavad, et saavad linnavalitsusega kokkuleppele, et paju jäetakse alles. Küsimusele, et kuidas nad ikkagi üritavad seda takistada, räägib teine aktsioonijuht Mati, et kui on vaja, siis ronib üks neist puu otsa. Mati seletab, et nad teevad pidevalt taolisi aktsioone nii Eestis kui ka välismaal.</td>\n",
       "      <td>Delfi</td>\n",
       "      <td>2017-05-29T15:34:13.000Z</td>\n",
       "      <td>https://www.delfi.ee/news/paevauudised/eesti/video-ja-fotod-haabersti-ringil-mitmesaja-aastast-puud-kaitsvad-looduskaitsjad-paju-oli-siin-enne-eesti-vabariiki?id=78379064</td>\n",
       "    </tr>\n",
       "    <tr>\n",
       "      <th>93</th>\n",
       "      <td>DELFI FOTOD JA VIDEO: Haabersti ristmikul alanud ümberehitus tõi tipptunnil kaasa paraja liikluskaose</td>\n",
       "      <td>Paldiski maanteelt Õismäe suunal on Haabersti ristmiku piirkonnas avatud liiklusele kaks sõidurada tavapärase nelja sõidurea asemel. Ringristmikul on liiklusele avatud üks sõidurada, millelt saab sõita Tabasalu suunal, kütuse tanklasse, Paldiski maantee suunal ja Ehitajate tee suunal, teatas Raepress. Ehitajate teelt on kesklinna suunas avatud üks sõidurada. Üks liiklusrada on avatud ka Paldiski maanteelt ja Rannamõisa teelt kesklinna suunal sõitmiseks. Kuna liiklus Haabersti ringil on sisuliselt ühele sõidurajale suunatud, palutakse liiklejail võimalusel valida sobiv ümbersõidu marsruut. Nädala keskel tuleb vastavalalt tööde kulgemisele Haabersti ristmikul liiklusradade sulgemise uus skeem. Liiklejatel palutakse järgida ajutiste liikluskorraldusvahendite nõudeid. Hea lugeja, ootame kirjeldusi ja fotosid Haabersti ringil valitsevast olukorrast nii praegu kui ka edaspidi aadressil rahvahaal@delfi.ee!</td>\n",
       "      <td>Delfi</td>\n",
       "      <td>2017-05-08T15:58:26.000Z</td>\n",
       "      <td>https://www.delfi.ee/news/paevauudised/eesti/delfi-fotod-ja-video-haabersti-ristmikul-alanud-umberehitus-toi-tipptunnil-kaasa-paraja-liikluskaose?id=78144744</td>\n",
       "    </tr>\n",
       "  </tbody>\n",
       "</table>\n",
       "<p>94 rows × 5 columns</p>\n",
       "</div>"
      ],
      "text/plain": [
       "                                                                                                                        title  \\\n",
       "0                                    Politsei, kokad, emad, muusikud ja lillelapsed – pildikesi koroonakevade meeleavalduselt   \n",
       "1                                                          FOTOD | Protest jätkub: Toompeale toodi meelt avaldama ka maimikud   \n",
       "2                                     Uus hõberemmelgas? Kohalikud tunnevad muret haruldase Tiskre leinamänni tuleviku pärast   \n",
       "3   MIS SAAB HOMME? | Mati Puss: mis tähtsust on sellel, et EKRE on valitsuses ja kliima soojeneb, kui oleme vaimselt surnud?   \n",
       "4                                                      Tallinnas langetatud puu võib tõrjuda Nordeconi idapiiri ehitushankelt   \n",
       "..                                                                                                                        ...   \n",
       "89                                                                                    Juhtkiri: nähkem remmelga taga ka metsa   \n",
       "90                                                                                                     Puu ei ole linnamööbel   \n",
       "91                              Kristen Michal: keskerakondlik linnavõim oskab planeerida vaid ühest lindilõikamisest teiseni   \n",
       "92       VIDEO ja FOTOD | Haabersti ringil mitmesaja-aastast puud kaitsvad looduskaitsjad: paju oli siin enne Eesti Vabariiki   \n",
       "93                      DELFI FOTOD JA VIDEO: Haabersti ristmikul alanud ümberehitus tõi tipptunnil kaasa paraja liikluskaose   \n",
       "\n",
       "                                                                                                                                                                                                                                                                                                                                                                                                                                                                                                                                                                                                                                                                                                                                                                                                                                                                                                                                                                                                                                                                                                                                                                                                                                                                                                                                                                                                                                                                                                                                                                                                                                                                                                                                                                                                                                                                                                                                                                                                                                                                                                                                                                                                                                                                                                                                                                                                                                                                                                                                                                                                                                                                                                                                                                                                                                                                                                                                                                                                                                                                                                                                                                                                                                                                                                                                                                                                                                                                                                                                                                                                                                                                                                                                                                                                                                                                                                                                                                                                                                                                                                                                                                                                                                                                                                                                                                                                                                                                                                                                                                                                                                                                                                                                                                                                                                                                                                                                                                                                                                                                                                                                                                                                                                                                                                                                                                                                                                                                                                                                                                                                                                                                                                                                                                                                                                                                                                                                                                                                                                                                                                                                                                                                                                                                                                                                                                                                                                                                                                                                                                                                                                                                                                                                                                                                                                                                                                                                                                                                                                                                                                                                                                                                                                                                                                                                                                                                                                                                                                                                                                                                                                                                                                                                                                                                                                                                                                                                                                                                                                                                                                                                                                                                                                                                                   text  \\\n",
       "0                                                                                                                                                                                                                                                                                                                                                                                                                                                                                                                                                                                                                                                                                                                                                                                                                                                                                                                                                                                                                                                                                                                                                                                                                                                                                                                                                                                                                                                                                                                                                                                                                                                                                                                                                                                                                                                                                                                                                                                                                                                                                                                                                                                                                                                                                                                                                                                                                                                                                                                                                                                                                                                                                                                                                                                                                                                                                                                                                                                                                                                                                                                                                                                                                                                                                                                                                                                                                                                                                                                                                                                                                                                                                                                                                                                                                                                                                                                                                                                                                                                                                                                                                                                                                                                                                                                                                                                                                                                                                                                                                                                                                                                                                                                                                                                                                                                                                                                                                                                                                                                                                                                                                                                                                                                                                                                                                                                                                                                                                                                                                                                                                                                                                                                                                                                                                                                                                                                                                                                                                                                                                                                                                                                                                                                                                                                                                                                                                                                                                                                                                                                                                                                                                                                                                                                                                                                                                                                                                                                                                                                                                                                                                                                                                                                                                                                                                                                                                                                                                                                                                                                                                                                                                                                                „Valgus, rahu, rõõm ja vägi“ Toompeal, 7. aprillil kella 16 ajal. Päike paistab. Riigikogu hoone ees on sadakond inimest. Politseiautosid paistab üks, politseinikke kaks. Seltskond on kirev. On koroona tõttu töötuks jäänud kokkasid, muusikuid, kelle sissetuleku koroona koomale tõmbas, on talunikke, on vanu hipisid. Siin on tantsuõpetajast üksik­ema. Tema tütar käib esimeses klassis. Koroonapiirangute tõttu tantsutunde ei toimu. „Millest sa elad siis?“ „Eks ma käin linnavalitsuses toetust lunimas. Söön kapsast, peeti, porgandit.“   \n",
       "1                                                                                                                                                                                                                                                                                                                                                                                                                                                                                                                                                                                                                                                                                                                                                                                                                                                                                                                                                                                                                                                                                                                                                                                                                                                                                                                                                                                                                                                                                                                                                                                                                                                                                                                                                                                                                                                                                                                                                                                                                                                                                                                                                                                                                                                                                                                                                                                                                                                                                                                                                                                                                                                                                                                                                                                                                                                                                                                                                                                                                                                                                                                                                                                                                                                                                                                                                                                                                                                                                                                                                                                                                                                                                                                                                                                                                                                                                                                                                                                                                                                                                                                                                                                                                                                                                                                                                                                                                                                                                                                                                                                                                                                                                                                                                                                                                                                                                                                                                                                                                                                                                                                                                                                                                                                                                                                                                                                                                                                                                                                                                                                                                                                                                                                                                                                                                                                                                                                                                                                                                                                                                                                                                                                                                                                                                                                                                                                                                                                                                                                                                                                                                                                                                                                               Kui hommikutundidel oli kohale kogunenud umbkaudu paarkümmend inimest, siis keskpäevaks oli arv kasvanud juba mitu korda suuremaks. Põhja prefektuuri kriisistaabi juht Valdo Põder vahendas, et olukord oli politsei silmis hommikupoolikul rahulik. \"Politseinikud aitavad saabunud inimesi suunata hajutatud gruppidesse nii, nagu kehtivad piirangud ette näevad,\" märgiti politsei pressiteenistusest. \"Inimesed on mõistvad ja ühtki vahejuhtumit esinenud ei ole.\" Delfi fotoreporteril tuli siiski omast kogemusest märkida, et mõningaid politseinikega vaidlejaid siiski leidus - suunitlused korrakaitsjatelt olid seotud koroonaviiruse ohutusmeetmete tagamisega. Ühel hetkel saabus kohale saabunud ka politseibuss, mille kõlaritest lasti kohalviibijaile avaliku korra suhtes kehtivaid reegleid. Maske kanti üritusel väga vähe, paljud inimesed kallistasid üksteist. Fotoreporteri sõnutsi oli meeleavaldajate seas näha ka tuttavaid nägusi hoopis teistlaadi protestilt, mis leidis aset aastaid tagasi. \"Üks kunagine Haabersti hõberemmelga kaitsja on näiteks siin,\" kirjeldas Andres Putting nähtut. Lisaks lõigati lahti kringlit, mida jagati protestijaile kõhukosutuseks. Suutäite vahele lauldi ka Eesti hümni. Külmast tuulest ja kõledast ilmast hoolimata oli üsnagi palju näha tänasel protestil lasteaiaealisi lapsi, kellele vanavanemad olid pihku pistnud Eesti lipu. Meeleolu oli loomas ka Tõnis Mäe \"Koitu\" mängiv must mikrobuss, mille tagumist klaasi ehivad kleebistena \"#fakepandemic\" ja \"sõnavabadus\".   \n",
       "2                                                                                                                                                                                                                                                                                                                                                                                                                                                                                                                                                                                                                                                                                                                                                                                                                                                                                                                                                                                                                                                                                                                                                                                                                                                                                                                                                                                                                                                                                                                                                                                                                                                                                                                                                                                                                                                                                                                                                                                                                                                                                                                                                                                                                                                                                                                                                                                                                                                                                                                                                                                                                                                                                                                                                                                                                                                                                                                                                                                                                                                                                                                                                                                                                                                                                                                                                                                                                                                                                                                                                                                                                                                                                                                                                                                                                                                                                                                                                                                                                                                                                                                                                                                                                                                                                                                                                                                                                                                                                                                                                                                                                                                                                                                                                                                                                                                                                                                                                                                                                                                                                                                                                                                                                                                                                                                                                                                                                                                                                                                                                                                                                                                                                                                                                                                                                                                                                                                                                                                                                                                                                                                                                                                                                                                                                                                                                                                                                                                                                                                                                                                                                                                                                                                                                                                                                                                                                                                                                                                                                     Tõenäoliselt mäletavad paljud, kuidas 2017. aasta kevadel maadeldi mitu nädalat selle üle, et Haabersti ringristmiku rajamine ei saaks saatuslikuks ehitusele ette jäänud hõberemmelgale. Lõpuks võeti tee rajamist takistanud puu siiski maha. Üsna sarnane mure on üles kerkinud seoses Tallinna linnavalitsuse hiljutise otsusega hakata ehitama paari kinnistut Tiskres, kus asub Baltikumis ainulaadne leinamänd. Tallinna linnavalitsus otsustas oma 21. oktoobri korraldusega, et hakkab kahele Tallinna linna omandis olevale kinnistule – aadressidel Tiskre tee 21 ja Tiskre tee 21a – rajama lasteaed-põhikooli koos parklaga. Kuigi paljudele tallinnlastele ei ütle need aadressid mitte midagi, mäletavad kohalikud aga ligi 20 aasta tagust Postimehe artiklit, kus räägiti, et autotee rajamine ähvardab Tiskres hävitada vanad tammed. Nimelt avastas Eesti dendroloogiaseltsi president Aino Aaspõllu toona just Tiskre tee 21 vahetusläheduses haruldase leinamänni, mis on 166 sentimeetri jämedune ja sajandivanune. Selle puu säästmiseks otsustas piirkonnas kinnisvara arendamisega tegelenud KMG Ehitus tõmmata oma plaanides kriipsu peale kaheksale elamule ning haruldase puu säästmiseks nihutada ka tee asukohta viie meetri võrra.   \n",
       "3   Keskkonnakriisi aina aktuaalsemaks muutudes püüavad erinevad ideoloogiad välja pakkuda oma maailmavaatest tulenevaid lahendusi, aga nii liberalism kui konservatism ei käsitle keskkonnaprobleeme koos globaalse sotsiaalse ebavõrdsusega, mis on erinevate barbaarsete nähtuste peamine põhjus. Kahjuks on ka vasakpoolsus ise kriisis, selle erinevad suundumused takerduvad liberaalide ja konservatiivide püstitatud vastandustesse ning ei suuda seetõttu välja käia häid toimivaid lahendusi. Konservatiivsed tehnopessimistid seisavad vastu keskkonnale negatiivselt mõjuda võivatele tehnoloogilistele arengutele nagu näiteks Rail Baltic. Radikaalsemad ökokonservatiivid näevad lahendusena tagasipöördumist tehnoloogiliselt primitiivsema ja kultuuriliselt konservatiivsema kogukondliku elu juurde. Kui arengute käigus toimub läbikukkumisi ning tuntakse, et midagi on kaotatud, siis on loomulik, et tagajärgedeks võivad olla ettevaatlikus ja retro-romantism. Otsekui süvausklikud Seda tendentsi kohtab ka Eesti konservatiivses vasakpoolsuses: modernistlikud avangardistid, kes kuulutasid kommunismi, transgressiivseid kunste ning individualistlikku ekstravagantsust, pöördusid heaoluriigi šovinismi, post-kolonialistlikusse enesehaletsusse ja nostalgilisse looduromantismi. Soovis hingelisemate suhete järgi keskkonna ja teiste inimestega ei ole iseenesest midagi halba, aga probleem tekib siis kui hüljatakse emantsipatsioon - püüd individuaalse vabaduse ja kultuurilise arengu poole - ning seda toetav tehnoloogiline areng. Sellist käitumist võib võrrelda konservatiivsete usklike omaga, kes ei suuda oma religioossust integreerida kaasaegsete arusaamadega ning vihases fundamentalismis labastavad ka usulise kogemuse. Keskkonnaaktivismi vallas on Eestis selle näiteks Haabersti hõberemmelga kaitsmine: ühest puust tehti fetišistlik objekt, sest puudus vaimne võimekus kodanikuühiskonnana intellektuaalselt kaasa rääkida oma kodukandi keskkonnasõbraliku, esteetiliselt nauditava ja inimsuhteid toetava haljastuse kujundamisel. Jääb eliidi pärusmaaks Liberaalsed tehnooptimistid näevad keskkonnaprobleemide lahendustena indiviidide tarbimisharjumuste muutumist, sellele vastavaid ökotooteid ning uudseid tehnoloogiaid vabal turul. Sellised meetmed ei ole iseenesest valed, aga liberaalide probleem on see, et nad tahavad jätkusuutliku arengut teostada ilma radikaalsete süsteemsete muutusteta ja sel juhul jääb keskkonnasõbralik käitumine eliidi pärusmaaks ega motiveeri laiu masse teistmoodi elama, sest klassihierarhiatest tulenevalt on nad muudetud lihtsalt tööloomadeks üldises tootmise masinavärgis. Heaks näiteks vastuhakust vähemate võimalustega inimeste nurka surumisele on kollavestide mäss kütuseaktsiisi tõusu vastu Prantsusmaal. Klassivahede süvendamine ehk barbaarsus ülevalt poolt killustab inimrühmi ja kui etnotsentrismile puudub elujõuline rohujuuretasandilt solidaarsust ehitav alternatiiv on tulemuseks barbaarsus altpoolt, mille näiteks on jällegi Prantsusmaa ja Marie Le Peni populaarsus seal. Omandi kollektiviseerimine USA-s ja Euroopas viimastel aastatel populaarsust koguv idee Rohelisest Uuest Kursist (Green New Deal) põhineb arusaamal, et ühiskond peab muutuma nii keskkonnasõbralikumaks kui ka sotsiaalselt õiglasemaks. Selleks, et Roheline Uus Kurss ei manduks lihtsalt tsentrist veidi vasakule jäävaks liberaalseks lahenduseks, kus tegeletakse ainult maksude ja investeeringutega, on vaja kollektiviseerida ka omandit, sest ainult sel juhul on suuremal hulgal rahvast sellest tõeliselt kasu. Näiteks taastuvenergiale üleminek on väga vajalik, aga elektritootmise vahendid ei pea kuuluma ainult vähestele eraettevõtetele, kes selle kaudu rikastuvad, vaid nende omanikuks võib olla ka ühistu, kohalik omavalitsus või aktivistide kommuun. Selliselt toimivaid näiteid on juba Põhjamaades olemas. Eestis seostub sõnaga sotsialism eelkõige nõukogudeaegne nüri autoritaarsus, aga tegelikult on vasakpoolsete poliitiliste meetmete spekter väga lai. Kaasaegse demokraatliku sotsialismi eesmärk võiks olla just see, millega liberaalid ja konservatiivid hakkama ei saa: toetada nii suuremat individuaalset vabadust kui ka kogukondlike suhteid. Näiteks mitmetes maapiirkondades on loodetud liiga palju vaba turu mehhanismidele ning nõnda on jäetud munitsipaalne kinnisvara hooletusse. Samas nõudlust nii korralike munitsipaalkorterite (individuaalne vabadus ehk „Ei pea ämma perse taga elama.\") kui kultuurimajade (toetavad kogukondlikud suhted) osas on olemas. Vajame kommuune Omandiküsimustest veelgi teravam probleem on see, kuidas organiseerida tööd ehk kuidas jõuda kokkuleppele teha koostööd ühiste eesmärkide nimel. Tootmise automatiseerimine võimaldab küll vähendada inimtööjõu vajadust selles vallas, aga tööd, mille sisuks on keskkonna ja inimeste hoidmine ning nende eest hoolitsemine, jäävad endiselt alles. Selleks, et vastutust nende tööde eest ühiskonnas võrdsemalt jagada, on vaja erinevaid lahendusi alates kommuunidest kuni riikideülese tsiviilteenistuseni. Loomulikult ei kõla loosung „Kes ei taha töötada, ärgu ka söögu!\" (2Ts 3:10) nii ahvatlevalt kui kuulutus varsti saabuvast täisautomatiseeritud luksuslikust kommunismist, aga see, kes ei ole valmis panustama ühistesse hüvedesse, vaid tahab teiste nahal liugu lasta, pole praktikas mitte sotsialist. vaid kodanlik liberaal. Siin peitub ka üks põhjus, miks Eestis puuduvad tõsised vasakpoolsed arutelud. Aastakümneid on Eestis vasakpoolsuse all peetud silmas individualistliku eneseupitamist, moraliseerimist ja ülbitsemist. Kui mingid haritlaste lapsed karjuvad pidevalt „Mendid! Mendid\", siis peetakse neid kõvadeks mässajateks, aga keegi ei osuta sellele, et need tüübid on ise osa kodanlikust establishMENDist. Kohalikus feminismis ülistatakse kunstisaalides roosat puuksu laskvaid printsesse, küsimata seejuures, miks me elame endiselt ühiskonnas, kus on au sees printsessid ja snobism. Tõsist arutelu klassisuhete üle kardetakse, sest selle käigus võib paljastuda ka rääkija enda positsioon ning tõstatuda ebamugav küsimus: „Mis on need ühised eesmärgid, mille nimel me peaksime koos töötama?\" Enne lõpeb maailm kui kapitalism Ajastul, kus igapäevaselt hirmutatakse läheneva apokalüpsisega, tuleks legendaarne ütlus, et kergem on ette kujutada maailma lõppu kui kapitalismi lõppu, sõnastada ümber küsimuseks: „Milleks hoolida maailma lõpust, kui ajalugu on juba lõppenud?\" Mis tähtsust on sellel, et EKRE on valitsuses ja kliima soojeneb, kui oleme vaimselt surnud, ehk teistsugune, elav vaimsus meie sees ja meie vahel ei ole enam võimalik? Mis mõte on maailmal, kus puuduvad sügavad inimsuhted mille kaudu areneda ning kus ei ole võimalik koos olnut mõtestada ning entusiastlikult uut kultuuri luua? Liberaalsete ja konservatiivsete vasakpoolsete puhul ei ole probleemiks ainult see, et nad ei ole piisavalt materialistlikud, vaid ka see, et nad ei ole piisavalt idealistlikud - nad on kaotanud usu kultuurilise arengu jätkumisse. Üks tont käib ringi... Siiski üks tont käib ringi mööda Euroopat, aga see ei ole hallitanud mehhanistliku ja anti-humanistliku kommunismi tont. Sellest hoolimata on liberaalid ja konservatiivid sulgunud tubadesse, mille nad on hirmust muutuste ees täis pasandanud. Kaunishingedest konservatiivid on mattunud nostalgiasse, sest nad tunnevad alaväärsust Lääne kultuuri ees ega suuda läbi organiseerumise ühendada kohalikku tasandit kaasaegsesse globaalsesse vasakpoolsesse mõtlemisse. Liberaalid/ libertaarlased on soovist oma moraalset üleolekut tõestada teinud kogu poliitika sisuks enese näitamise ja teistele näpuga vibutamise. Kui aga soovitakse enda identiteeti ülemaks pidada, eitatakse enda inimlikkust ja nõnda lõhutakse võimalused erinevateks solidaarsusteks. Hetkel, mil ühiskonnas valitseb konsensus, et ajalugu (historia) on lõppenud, on aga vaja hüsteerikuid, kes ei suudaks sellega leppida ja riskiksid teha akna lahti, et värske õhk saaks ergutada mõtlemist ning Püha Vaim saaks tulla meie peale ja meie elu uueks luua.   \n",
       "4                                                                                                                                                                                                                                                                                                                                                                                                                                                                                                                                                                                                                                                                                                                                                                                                                                                                                                                                                                                                                                                                                                                                                                                                                                                                                                                                                                                                                                                                                                                                                                                                                                                                                                                                                                                                                                                                                                                                                                                                                                                                                                                                                                                                                                                                                                                                                                                                                                                                                                                                                                                                                                                                                                                                                                                                                                                                                                                                                                                                                                                                                                                                                                                                                                                                                                                                                                                                                                                                                                                                                                                                                                                                                                                                                                                                                                                                                                                                                                                                                                                                                                                                                                                                                                                                                                                                                                                                                                                                                                                                                                                                                                                                                                                                                                                                                                                                                                                                                                                                                                                                                                                                                                                                                                                                                                                                                                                                                                                                                                                                                                                                                                                                                                                                                                                                                                                                                                                                                                                                                                                                                                                                                                                                                                                                                                                                                                                                                                                                                                                                                                                                                                                                                                                                                                                                                                                                                                                                                                                        Kahe aasta eest loata raiutud puu võib aktsiaseltsi Nordecon idapiiri ehitushankelt kõrvale jätta. Ettevõte tunnistab küll puu raiumist, kuid rõhutab riigihangete vaidluskomisjonile, et nii väike asi ei tohiks hanget mõjutada, kirjutab ERRi uudisteportaal. 2017. aasta suve üks suuremaid meediasündmusi oli Haabersti hõberemmelga hipilaager. Aktsiaselts Nordecon ehitas ümber sealset ristmiku ja võis maha raiuda 795 puud. Remmelga raiumine paljudele ei meeldinud ja lõpuks muutus pahandus nii suureks, et politsei vedas aktivistid süles minema. Aga hoopis teistsugune lugu pandi idanema 200 meetrit eemal Päevalille tänava ääres. Nimelt seisis seal üks puu, mille raiumiseks Nordeconil luba polnud. Aga ettevõtte juhatuse liige Ago Voogma tunnistab, et kuidagi võeti puu ikkagi maha. Tänavu viimasel jaanuaripäeval hakkas politsei- ja piirivalveamet otsima ettevõtet, kes projekteeriks ja ehitaks valmis esimese pikema jupi idapiiri. PPA-le esitatud seitse taotluse seas olid kõik meie suured tegijad, näiteks TREV-2 Grupp ja Merko Ehitus, aga ka YIT Eesti, Rand ja Tuulberg ning Nordecongi. Kui amet taotlusi lähemalt uuris, selgus aga, et üksik Haaberstis raiutud puu laiutas Nordeconi plaanidel risti ees. Loe pikemalt ERRi uudisteportaalist.   \n",
       "..                                                                                                                                                                                                                                                                                                                                                                                                                                                                                                                                                                                                                                                                                                                                                                                                                                                                                                                                                                                                                                                                                                                                                                                                                                                                                                                                                                                                                                                                                                                                                                                                                                                                                                                                                                                                                                                                                                                                                                                                                                                                                                                                                                                                                                                                                                                                                                                                                                                                                                                                                                                                                                                                                                                                                                                                                                                                                                                                                                                                                                                                                                                                                                                                                                                                                                                                                                                                                                                                                                                                                                                                                                                                                                                                                                                                                                                                                                                                                                                                                                                                                                                                                                                                                                                                                                                                                                                                                                                                                                                                                                                                                                                                                                                                                                                                                                                                                                                                                                                                                                                                                                                                                                                                                                                                                                                                                                                                                                                                                                                                                                                                                                                                                                                                                                                                                                                                                                                                                                                                                                                                                                                                                                                                                                                                                                                                                                                                                                                                                                                                                                                                                                                                                                                                                                                                                                                                                                                                                                                                                                                                                                                                                                                                                                                                                                                                                                                                                                                                                                                                                                                                                                                                                                                                                                                                                                                                                                                                                                                                                                                                                                                                                                                                                                                                                  ...   \n",
       "89                                                                                                                                                                                                                                                                                                                                                                                                                                                                                                                                                                                                                                                                                                                                                                                                                                                                                                                                                                                                                                                                                                                                                                                                                                                                                                                                                                                                                                                                                                                                                                                                                                                                                                                                                                                                                                                                                                                                                                                                                                                                                                                                                                                                                                                                                                                                                                                                                                                                                                                                                                                                                                                                                                                                                                                                                                                                                                                                                                                                                                                                                                                                                                                                                                                                                                                                                                                                                                                                                                                                                                                                                                                                                                                                                                                                                                                                                                                                                                                                                                                                                                                                                                                                                                                                                                                                                                                                                                                                                                                                                                                                                                                                                                                                                                                                                                                                                                                                                                                                                                                                                                                                                                                                                                                                                                                                                                                                                                                                                                                                                                                                                                                                                                                                                                                                                                                                                                                                                                                                                                                                                                                                                                                                                                                                                                                                                                                                                                  On maitse küsimus, kas puu kallistamine, tema ümber trummi põristamine ja tantsu löömine läheb üle võlli või mitte. Tähelepanu see igatahes tõmbab ja on ka politsei siiamaani n-ö relvituks teinud. Aga aktsiooni tõsiseltvõetavusele tegi alguses kahju see, et räägiti 334-aastasest remmelgast. Praegu räägitakse petitsioonis, mis eile õhtuks oli kogunud peaaegu 1500 allkirja, 100–150-aastasest elujõulisest pajupuust. Arborist Heiki Hanso hinnangul on seegi vanus üle hinnatud, pigem olevat tegemist 70-aastase puuga. Puu vanusele rõhumisega on aktivistid mööda pannud ka selles mõttes, et linnavalitsuse üks vastuargumente on: selle puu eluiga saab nagunii varsti ümber. Aga mida noorem puu, seda rohkem on talle eluaastaid jäänud. Haabersti ristmiku laiendamise pooldajate jutu, et maha võetud puude asemele istutatakse tee äärde hulk uusi puid, nõrk koht on just tõsiasi, et need puud kasvavad suureks alles aastakümnete pärast. Vähemalt senikaua kujutab uus tee endast kõledat ja tolmust asfaldivälja. Haabersti ringristmiku liiklusprobleemidele lahendust ootavaid inimesi veenaks see argument rohkem kui jutt hingepuust, emapuust ja selle remmelgaga seotud kultuuripärandist. Tulevasi tee-ehitusi silmas pidades tuleks remmelga taga näha ka metsa. Kõrghaljastust ei tohiks linnas nii kergekäeliselt maha võtta, kui on tehtud Haabersti ristmiku ehituse tõttu. Remmelgat kaitsvate aktivistide väitel lubab raieluba maha võtta 795 puud, kuid praeguseks on puid maha võetud juba üle 1200, pealegi tehti seda lindude pesitsusajal. Mis remmelgasse puutub, siis sõnumite „Midagi ei saa enam muuta” asemel aitaks vastasseisu inetuks minemata lahendada vahest see, kui Tallinna linnavalitsus selgitaks, kui palju remmelga säästmine tee-ehitust kallimaks teeks või ajaliselt pikendaks.   \n",
       "90                                                                                                                                                                                                                                                                                                                                                                                                                                                                                                                                                                                                                                                                                                                                                                                                                                                                                                                                                                                                                                                                                                                                                                                                                                                                                                                                                                                                                                                                                                                                                                                                                                                                                                                                                                                                                                                                                                                                                                                                                                                                                                                                                                                                                                                                                                                                                                                                                                                                                                                                                                                                                                                                                                                                                                                                                                                                                                                                                                                                                                                                                                                                                                                                                                                                                                                                                                                                                                                                                                                                                                                                                                                                                                                                                                                                                                                                                                                                                                                                                                                                                                                                                                                                                                                                                                                                                                                                                                                                                                                                                                                                                                                                                                                                                                                                                                                                                                                                                                                                                                                                                                                                                                                                                                                                        Üks vana mees võttis kirve ja läks metsast puid tooma. Metsas läks ta puu juurde ja hakkas raiuma. Kohe hüüdis üks hääl puu seest: „Kuule mees! Ära löö enam mitte! Ma annan sulle, mis sa aga küsid.” Mees mõtles natuke aega ja siis küsis: „Eks tee mind nii rikkaks, et kui ma koju lähen, siis on kõik aidad ja kastid vilja täis.” Puu ütles: „Mine koju, küll sa leiad.” (…) See elu läinud temale aga varsti jälle igavaks. Ta tahtis kuningaks saada. Mees läks puu juurde, rääkis oma soovi ära, et igatseb kuningaks saada. Puu vastas: „Oi õnnetust! Sa lähed liiale! Sa pead samuti puuks saama ja kange tuule ajal oma uhkuse pärast nutma.” Kohe saanudki mees puuks. Tänapäeval öeldakse, kui puu karjub – siis, kui teine teisi vastu hõõrudes piriseb –, et vana mees nutab oma uhkust. Tõstamaa kihelkonnas 1894. aastal kirja pandud jutt Eestlaste side looduse ja eri maastikega (sh mets ja meri) ei ole tänapäevases üha rohkem linnastuvas ühiskonnas kuskile kadunud. Meie keelekasutuses on säilinud maastiku ja inimese vaheline ammune side. See väljendub nii inimese oleku kirjeldamises maastikuelementide kaudu („särav nagu päike”, „sünge nagu tormine meri”, „tugev kui tamm”) kui ka loodusnähtustele inimlike omaduste lisamises. Tamm või pankrannik olid piisava tähtsusega, et olla mitme muu maastiku seas esindatud meie rahatähtedel. Eesti perekonnanimede esiviiesajas leidub kümneid ja kümneid maastikulisi nimesid: Tamm, Nurm, Jõgi jne. Näiteks kuusk, vaher ja kask ei ole ainult kuskil Eestis kasvavad anonüümsed puud, vaid ka üle 6000 kasvava ja areneva eestlase. Eestlastele meeldib uskuda, et oleme loodusrahvas ja meie side loodusega on justkui erilisem kui keskmisel lääneeurooplasel, kes on oma metsad ammu maha raiunud. Samal ajal ei oska me linnastuvas Eestis ikka veel väärtustada loodust elukeskkondade lahutamatu osana. Eriti probleemne on seejuures suhtumine linnaloodusesse, mida kiputakse mõistma progressi (sh ehitatud keskkonna laiendamist) takistava nuhtlusena, mitte olulise väärtusena. Tehnokraatlik haljastuspornograafia Linna rohealad kuuluvad Euroopa maastikukonventsiooni järgi inimestele, kellel on õigus olla nende saatusest informeeritud ja selles kaasa rääkida. Ometi on Tallinnas viimasel kümnendil kujunenud nii, et linna arendatakse haljastuse kulul. Puud on kõige sagedamini sattunud linnaehituslike konfliktide keskmesse. Akadeemik Mart Kalm sedastas paari aasta eest: „Linnahaljastuse halb kord on nõukogude aja pärand. Selle juured on sõjajärgse modernsuse tehnokraatlikus mõtlemises, mis linnamajanduses seadis esikohale maa-alused võrgud ja autoliikluse ning tõi ohvriks puud jm haljastuse.” (Postimees 27.7.2015) Infrastruktuuri laiutamisega on kimpus teisedki Euroopa linnad. Seetõttu on praegusel Euroopa rahastusperioodil loodud Horisont 2020, spetsiaalne teadusprogrammi meede, et teadlaste abiga luua ja tuua linnaruumi tagasi looduspõhised lahendused.   \n",
       "91                                                                                                                                                                                                                                                                                                                                                                                                                                                                                                                                                                                                                                                                                                                                                                                                                                                                                                                                                                                                                                                                                                                                                                                                                                                                                                                                                                                                                                                                                                                                                                                                                                                                                                                                                                                                                                                                                                                                                                                                                                                                                                                                                                                                                                                                                                                                                                                                                                                                                                                                                                                                                                                                                                                                                                                                                                                                                                                                                                                                                                                                                                                                                                                                                                                                                                                                                                                                                                                                                                                                                                                                                                                                                                                                                                                                                                                                                                                                                                                                                                                                                                                                                                                                                                                                                                                                                                                                                                                                                                                                                                                                                                                                                                                                                                                                                                                                                                                                                                                                                                                                                                                                                                                                                                                                                                                                                                                                                                                                                                                                                                                                                                                                                                                                                                                                                                                                                                                                                                                                                                                                                                                                                                                                                                                                                                       Haabersti ristmiku remmelgasaaga taustal sõnab reformierakondlane Kristen Michal, et Tallinna planeerimine ei vaata tulevikku 10-20 aastat, vaid on kinni lühiajalises perspektiivis. \"Tallinna linnas on suurte objektide rajamisel üks ikaldus teise järel. Uusi ristmikke on väga vaja, need peavad arvestama nii liiklejate huvi kui keskkonnaga. Haabersti ristmiku, nagu Russalka ristmiku, Gonsiori laienduse ja paljude objektide raha on eelmise valitsuse ajal riigieelarvesse saanud. Tallinna linnavalitsus on pidanud leidma keskkonda sobivad planeeringud,\" meenutab Michal. \"Eelmise valitsuse majandus- ja taristuministrina, kes nende ristmike rahastuse eest seisis, saan öelda, et sai korduvalt ka Tallinna tänasele juhtkonnale öeldud, et aega on, tehke korraliku planeeringud, vajadusel on isegi lisarahastuse võimalus,\" räägib ta. \"Vaatan uudiseid murega, jutt paremast planeerimisest läks kurtidele kõrvadele. Korralik segadus Tallinna kahe olulisema ristmiku planeerimise ja ehituse ümber seda näitab.\" Ta märgib, et Haaberstis puude ümber toimuv on siiski vaid üks näide. \"Probleem on tegelikult ju laiem. Tallinna planeerimine ei vaata tulevikku 10-20 aastat, vaid on kinni lühiajalises perspektiivis. Vabandust nii ütlemise eest, aga - majavalitsus, mitte linnavalitsus on selle nimi. Lindilõikamisest teiseni on plaan. Ja Keskerakonna ainuvõimu suur programmiline idee on Õismäe purskkaevu toru korda tegemine?!\" Ta lisab, et uued taristuarendused peavad vaatama kaugemale - liiklejate ja kohalike inimeste huvides. Delfi kajastas täna, et keskkonnaministeeriumi hinnangul ei vasta Haabersti ristmiku rekonstrueerimistööde piirkonnas kasvav hõberemmelgas riikliku kaitse alla võtmise eeldustele ja kõiki asjaolusid arvesse võttes puudub alus Tallinna keskkonnaameti poolt väljastatud raieloa menetluse uuendamiseks. Remmelga ümber on juba kolmandat nädalat loodusekaitsjad, kes valvad puud 24/7.   \n",
       "92                                                                                                                                                                                                                                                                                                                                                                                                                                                                                                                                                                                                                                                                                                                                                                                                                                                                                                                                                                                                                                                                                                                                                                                                                                                                                                                                                                                                                                                                                                                                                                                                                                                                                                                                                                                                                                                                                                                                                                                                                                                                                                                                                                                                                                                                                                                                                                                                                                                                                                                                                                                                                                                                                                                                                                                                                                                                                                                                                                                                                                                                                                                                                                                                                                                                                                                                                                                                                                                                                                                                                                                                                                                                                                                                                                                                                                                                                                                                                                                                                                                                                                                                                                                                                                                                                                                                                                                                                                                                                                                                                                                                                                                                                                                                                                                                                                                                                                                                                                                                                                                                                                                                                                                                                                                                                                                                                                                                                                                                                                                                                                                                                                                                                                                                                                                                                                                                                                                                                                                                                                                                                                                                                                                                                                                                                                                                                                                                                                                                                                                                                                                                                                                                                                                                                                                                                                                                                                                                                                                                                                                                                                                                                                                                                                                                                                                                                                                                                                                                              Paju juurde on kolmeliikmeline grupp üles pannud telgi, mille juures küpsetavad lõkke peal toitu. \"See puu on olnud siin enne kui Eesti Vabariik,\" selgitab üks neist. \"See on kõige suurem ja väärikam puu siin.\" Nimelt väidavad nemad, et just see puu on 334 aastat vana. Loodusekaitsjad on Haabersti ringi läheduses olnud juba eilsest peale ja plaan on jääda sinna nii kauaks, kuni probleem lahendatud saab või puu ikkagi maha võetakse. Nad tahavad koguda kokku tuhat allkirja ja loodavad, et saavad linnavalitsusega kokkuleppele, et paju jäetakse alles. Küsimusele, et kuidas nad ikkagi üritavad seda takistada, räägib teine aktsioonijuht Mati, et kui on vaja, siis ronib üks neist puu otsa. Mati seletab, et nad teevad pidevalt taolisi aktsioone nii Eestis kui ka välismaal.   \n",
       "93                                                                                                                                                                                                                                                                                                                                                                                                                                                                                                                                                                                                                                                                                                                                                                                                                                                                                                                                                                                                                                                                                                                                                                                                                                                                                                                                                                                                                                                                                                                                                                                                                                                                                                                                                                                                                                                                                                                                                                                                                                                                                                                                                                                                                                                                                                                                                                                                                                                                                                                                                                                                                                                                                                                                                                                                                                                                                                                                                                                                                                                                                                                                                                                                                                                                                                                                                                                                                                                                                                                                                                                                                                                                                                                                                                                                                                                                                                                                                                                                                                                                                                                                                                                                                                                                                                                                                                                                                                                                                                                                                                                                                                                                                                                                                                                                                                                                                                                                                                                                                                                                                                                                                                                                                                                                                                                                                                                                                                                                                                                                                                                                                                                                                                                                                                                                                                                                                                                                                                                                                                                                                                                                                                                                                                                                                                                                                                                                                                                                                                                                                                                                                                                                                                                                                                                                                                                                                                                                                                                                                                                                                                                                                                                                                                                                                                                                     Paldiski maanteelt Õismäe suunal on Haabersti ristmiku piirkonnas avatud liiklusele kaks sõidurada tavapärase nelja sõidurea asemel. Ringristmikul on liiklusele avatud üks sõidurada, millelt saab sõita Tabasalu suunal, kütuse tanklasse, Paldiski maantee suunal ja Ehitajate tee suunal, teatas Raepress. Ehitajate teelt on kesklinna suunas avatud üks sõidurada. Üks liiklusrada on avatud ka Paldiski maanteelt ja Rannamõisa teelt kesklinna suunal sõitmiseks. Kuna liiklus Haabersti ringil on sisuliselt ühele sõidurajale suunatud, palutakse liiklejail võimalusel valida sobiv ümbersõidu marsruut. Nädala keskel tuleb vastavalalt tööde kulgemisele Haabersti ristmikul liiklusradade sulgemise uus skeem. Liiklejatel palutakse järgida ajutiste liikluskorraldusvahendite nõudeid. Hea lugeja, ootame kirjeldusi ja fotosid Haabersti ringil valitsevast olukorrast nii praegu kui ka edaspidi aadressil rahvahaal@delfi.ee!   \n",
       "\n",
       "            subject                      date  \\\n",
       "0    Eesti Ekspress  2021-04-13T21:30:06.000Z   \n",
       "1             Delfi  2021-04-10T08:33:40.000Z   \n",
       "2           Ärileht  2020-11-21T06:50:02.000Z   \n",
       "3   Eesti Päevaleht  2019-11-24T11:00:42.000Z   \n",
       "4           Ärileht  2019-07-12T13:25:17.000Z   \n",
       "..              ...                       ...   \n",
       "89  Eesti Päevaleht  2017-06-18T21:05:01.000Z   \n",
       "90  Eesti Päevaleht  2017-06-18T16:09:18.000Z   \n",
       "91            Delfi  2017-06-13T15:18:29.000Z   \n",
       "92            Delfi  2017-05-29T15:34:13.000Z   \n",
       "93            Delfi  2017-05-08T15:58:26.000Z   \n",
       "\n",
       "                                                                                                                                                                          link  \n",
       "0                                              https://ekspress.delfi.ee/artikkel/93112601/politsei-kokad-emad-muusikud-ja-lillelapsed-pildikesi-koroonakevade-meeleavalduselt  \n",
       "1                                                                       https://www.delfi.ee/artikkel/93094891/fotod-protest-jatkub-toompeale-toodi-meelt-avaldama-ka-maimikud  \n",
       "2                                     https://arileht.delfi.ee/news/uudised/uus-hoberemmelgas-kohalikud-tunnevad-muret-haruldase-tiskre-leinamanni-tuleviku-parast?id=91727447  \n",
       "3          https://epl.delfi.ee/arvamuskonkurss/mis-saab-homme-mati-puss-mis-tahtsust-on-sellel-et-ekre-on-valitsuses-ja-kliima-soojeneb-kui-oleme-vaimselt-surnud?id=88157181  \n",
       "4                                                     https://arileht.delfi.ee/news/uudised/tallinnas-langetatud-puu-voib-torjuda-nordeconi-idapiiri-ehitushankelt?id=86824659  \n",
       "..                                                                                                                                                                         ...  \n",
       "89                                                                                             https://epl.delfi.ee/arvamus/juhtkiri-nahkem-remmelga-taga-ka-metsa?id=78602320  \n",
       "90                                                                                                             https://epl.delfi.ee/arvamus/puu-ei-ole-linnamoobel?id=78600206  \n",
       "91                       https://www.delfi.ee/news/paevauudised/eesti/kristen-michal-keskerakondlik-linnavoim-oskab-planeerida-vaid-uhest-lindiloikamisest-teiseni?id=78550873  \n",
       "92  https://www.delfi.ee/news/paevauudised/eesti/video-ja-fotod-haabersti-ringil-mitmesaja-aastast-puud-kaitsvad-looduskaitsjad-paju-oli-siin-enne-eesti-vabariiki?id=78379064  \n",
       "93               https://www.delfi.ee/news/paevauudised/eesti/delfi-fotod-ja-video-haabersti-ristmikul-alanud-umberehitus-toi-tipptunnil-kaasa-paraja-liikluskaose?id=78144744  \n",
       "\n",
       "[94 rows x 5 columns]"
      ]
     },
     "execution_count": 285,
     "metadata": {},
     "output_type": "execute_result"
    }
   ],
   "source": [
    "data_delfi"
   ]
  },
  {
   "cell_type": "code",
   "execution_count": 290,
   "metadata": {},
   "outputs": [
    {
     "name": "stdout",
     "output_type": "stream",
     "text": [
      "subject\n",
      "Delfi              42\n",
      "Delfi TV            2\n",
      "Eesti Ekspress      5\n",
      "Eesti Päevaleht    18\n",
      "Forte               2\n",
      "Kroonika            4\n",
      "Maaleht            10\n",
      "Ärileht             3\n",
      "Name: text, dtype: int64\n"
     ]
    },
    {
     "data": {
      "image/png": "[encoded data removed]",
      "text/plain": [
       "<Figure size 432x288 with 1 Axes>"
      ]
     },
     "metadata": {
      "needs_background": "light"
     },
     "output_type": "display_data"
    }
   ],
   "source": [
    "# Artiklite jaotus väljaandjate kaupa\n",
    "print(data_delfi.groupby(['subject'])['text'].count())\n",
    "data_delfi.groupby(['subject'])['text'].count().plot(kind=\"bar\")\n",
    "plt.show()"
   ]
  },
  {
   "cell_type": "code",
   "execution_count": 293,
   "metadata": {},
   "outputs": [],
   "source": [
    "data_delfi.to_csv('data_delfi_Haabersti_hoberemmelgas.csv',index=False)"
   ]
  },
  {
   "cell_type": "code",
   "execution_count": 294,
   "metadata": {},
   "outputs": [],
   "source": [
    "read_file = pd.read_csv(r'data_delfi_Haabersti_hoberemmelgas.csv')\n",
    "read_file.to_excel (r'data_delfi_Haabersti_hoberemmelgas.xlsx', index = None, header=True)"
   ]
  }
 ],
 "metadata": {
  "kernelspec": {
   "display_name": "Python 3",
   "language": "python",
   "name": "python3"
  },
  "language_info": {
   "codemirror_mode": {
    "name": "ipython",
    "version": 3
   },
   "file_extension": ".py",
   "mimetype": "text/x-python",
   "name": "python",
   "nbconvert_exporter": "python",
   "pygments_lexer": "ipython3",
   "version": "3.6.10"
  }
 },
 "nbformat": 4,
 "nbformat_minor": 4
}
