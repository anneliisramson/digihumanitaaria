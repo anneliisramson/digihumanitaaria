{
 "cells": [
  {
   "cell_type": "code",
   "execution_count": 76,
   "metadata": {},
   "outputs": [],
   "source": [
    "import pandas as pd\n",
    "import re"
   ]
  },
  {
   "cell_type": "code",
   "execution_count": 82,
   "metadata": {},
   "outputs": [],
   "source": [
    "from bs4 import BeautifulSoup\n",
    "# Funktsioon html-vormingute eemaldamiseks\n",
    "def strip_html_tags(text):\n",
    "    soup = BeautifulSoup(text, \"html.parser\")\n",
    "    stripped_text = soup.get_text(separator=\" \")\n",
    "    return stripped_text"
   ]
  },
  {
   "cell_type": "code",
   "execution_count": 103,
   "metadata": {},
   "outputs": [],
   "source": [
    "#konflikt = 'remmelga'\n",
    "konflikt = 'tselluloositehase'\n",
    "\n",
    "# Esialgne tsv-formaadis fail on konverteeritud xlsx-formaati, lisatud esimene rida tekstiväljade pealkirjadega\n",
    "data = pd.read_excel(konflikt + '_tekstid.xlsx', engine='openpyxl')\n",
    "\n",
    "nimed_list = data.nimi.to_list()\n",
    "\n",
    "# Kuupäeva eraldamine\n",
    "# Väljaande eraldamine\n",
    "kuupaevad = []\n",
    "valjaanded = []\n",
    "for nimi in nimed_list:\n",
    "    match1 = re.search(r'[a-z]+', nimi)\n",
    "    match2 = re.search(r'\\d+', nimi) \n",
    "    if match1:\n",
    "        valjaanne = match1[0]\n",
    "    if match2:\n",
    "        aasta = match2[0][0:4]\n",
    "        kuu = match2[0][4:6]\n",
    "        paev = match2[0][6:8]\n",
    "        kuupaev = aasta +'-'+ kuu + '-'+paev\n",
    "    kuupaevad.append(kuupaev)\n",
    "    valjaanded.append(valjaanne)\n",
    "\n",
    "# Teksti puhastamine html-i vormingutest\n",
    "tekst_list = data['text_must'].to_list()\n",
    "tekst_puhas = []\n",
    "for tekst in tekst_list:\n",
    "    s = strip_html_tags(tekst)    \n",
    "    tekst_puhas.append(s)\n",
    "    \n",
    "# Tabelisse vastavate veergude lisamine, ebavajaliku eemaldamine\n",
    "del data['text_must']\n",
    "del data['nimi']\n",
    "\n",
    "data.insert(0,'text', tekst_puhas)\n",
    "data.insert(2,'subject', valjaanded)\n",
    "data.insert(3,'date', kuupaevad)\n",
    "\n",
    "data.to_csv(konflikt + '_tekstid_puhastatud.csv',index=False)\n",
    "read_file = pd.read_csv (konflikt + '_tekstid_puhastatud.csv')\n",
    "read_file.to_excel (konflikt + '_tekstid_puhastatud.xlsx', index = None, header=True)"
   ]
  }
 ],
 "metadata": {
  "kernelspec": {
   "display_name": "Python 3",
   "language": "python",
   "name": "python3"
  },
  "language_info": {
   "codemirror_mode": {
    "name": "ipython",
    "version": 3
   },
   "file_extension": ".py",
   "mimetype": "text/x-python",
   "name": "python",
   "nbconvert_exporter": "python",
   "pygments_lexer": "ipython3",
   "version": "3.6.10"
  }
 },
 "nbformat": 4,
 "nbformat_minor": 4
}
